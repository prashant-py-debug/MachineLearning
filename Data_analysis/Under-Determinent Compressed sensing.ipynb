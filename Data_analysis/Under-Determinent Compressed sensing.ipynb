{
 "cells": [
  {
   "cell_type": "code",
   "execution_count": 3,
   "metadata": {},
   "outputs": [],
   "source": [
    "import numpy as np\n",
    "from scipy.optimize import minimize\n",
    "import matplotlib.pyplot as plt\n",
    "plt.rcParams[\"figure.figsize\"] = (12,18)\n",
    "plt.rcParams.update({\"font.size\": 18})\n",
    "\n"
   ]
  },
  {
   "cell_type": "code",
   "execution_count": 4,
   "metadata": {},
   "outputs": [],
   "source": [
    "#solve  y = Theta * s for \"s\"\n",
    "n = 1000 #dimension of s\n",
    "p = 200 #number of measurements,dim(y)\n",
    "Theta = np.random.randn(p,n)\n",
    "y = np.random.randn(p)"
   ]
  },
  {
   "cell_type": "code",
   "execution_count": null,
   "metadata": {},
   "outputs": [],
   "source": [
    "#L1 Minimize norm solution \n",
    "def L1_norm(x):\n",
    "    return np.linalg.norm(x , ord =1)\n",
    "\n",
    "constraint = ({\"type\" : \"eq\", \"fun\": lambda x : Theta @ x - y})\n",
    "x0 = np.linalg.pinv(Theta) @ y  #initialize with L2 solution\n",
    "res = minimize(L1_norm , x0 , method = 'SLSQP' , constraints=constraint)\n",
    "s_L1 = res.x"
   ]
  },
  {
   "cell_type": "code",
   "execution_count": null,
   "metadata": {},
   "outputs": [],
   "source": [
    "#L2 Minimize norm solution s_L2\n",
    "s_L2 = np.linalg.pinv(Theta) @ y"
   ]
  },
  {
   "cell_type": "code",
   "execution_count": null,
   "metadata": {},
   "outputs": [],
   "source": [
    "fig , axs = plt.subplots(2,2)\n",
    "axs = axs.reshape(-1)\n",
    "axs[0].plot(s_L1, color = \"y\", LineWidth = 1.5)\n",
    "axs[0].set_ylim(-0.2,0.2)\n",
    "axs[1].plot(s_L2, color =\"c\",LineWidth = 1.5)\n",
    "axs[1].set_ylim(-0.2,0.2)\n",
    "axs[2].hist(s_L1,bins = np.arange(-0.105,0.105,0.01), rwidth = 0.9)\n",
    "axs[3].hist(s_L2,bins = np.arange(-0.105,0.105,0.01), rwidth = 0.9)\n",
    "plt.show()"
   ]
  }
 ],
 "metadata": {
  "kernelspec": {
   "display_name": "Python 3",
   "language": "python",
   "name": "python3"
  },
  "language_info": {
   "codemirror_mode": {
    "name": "ipython",
    "version": 3
   },
   "file_extension": ".py",
   "mimetype": "text/x-python",
   "name": "python",
   "nbconvert_exporter": "python",
   "pygments_lexer": "ipython3",
   "version": "3.8.5"
  }
 },
 "nbformat": 4,
 "nbformat_minor": 4
}

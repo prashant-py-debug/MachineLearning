{
 "cells": [
  {
   "cell_type": "code",
   "execution_count": 1,
   "metadata": {},
   "outputs": [],
   "source": [
    "import statsmodels.api as sm\n",
    "import pandas as pd\n",
    "import numpy as np\n",
    "import matplotlib.pyplot as plt\n",
    "import seaborn as sns\n"
   ]
  },
  {
   "cell_type": "code",
   "execution_count": 2,
   "metadata": {},
   "outputs": [],
   "source": [
    "Nhanes_ds = pd.read_csv(\"datasets/Nhanes.csv\")\n",
    "\n",
    "vars = [\"BPXSY1\", \"RIDAGEYR\", \"RIAGENDR\", \"RIDRETH1\", \"DMDEDUC2\", \"BMXBMI\", \"SMQ020\"]\n",
    "Nhanes_ds = Nhanes_ds[vars]"
   ]
  },
  {
   "cell_type": "code",
   "execution_count": 3,
   "metadata": {},
   "outputs": [
    {
     "data": {
      "text/html": [
       "<div>\n",
       "<style scoped>\n",
       "    .dataframe tbody tr th:only-of-type {\n",
       "        vertical-align: middle;\n",
       "    }\n",
       "\n",
       "    .dataframe tbody tr th {\n",
       "        vertical-align: top;\n",
       "    }\n",
       "\n",
       "    .dataframe thead th {\n",
       "        text-align: right;\n",
       "    }\n",
       "</style>\n",
       "<table border=\"1\" class=\"dataframe\">\n",
       "  <thead>\n",
       "    <tr style=\"text-align: right;\">\n",
       "      <th></th>\n",
       "      <th>BPXSY1</th>\n",
       "      <th>RIDAGEYR</th>\n",
       "      <th>RIAGENDR</th>\n",
       "      <th>RIDRETH1</th>\n",
       "      <th>DMDEDUC2</th>\n",
       "      <th>BMXBMI</th>\n",
       "      <th>SMQ020</th>\n",
       "      <th>SMQx</th>\n",
       "    </tr>\n",
       "  </thead>\n",
       "  <tbody>\n",
       "    <tr>\n",
       "      <th>0</th>\n",
       "      <td>128.0</td>\n",
       "      <td>62</td>\n",
       "      <td>1</td>\n",
       "      <td>3</td>\n",
       "      <td>5.0</td>\n",
       "      <td>27.8</td>\n",
       "      <td>1</td>\n",
       "      <td>1.0</td>\n",
       "    </tr>\n",
       "    <tr>\n",
       "      <th>1</th>\n",
       "      <td>146.0</td>\n",
       "      <td>53</td>\n",
       "      <td>1</td>\n",
       "      <td>3</td>\n",
       "      <td>3.0</td>\n",
       "      <td>30.8</td>\n",
       "      <td>1</td>\n",
       "      <td>1.0</td>\n",
       "    </tr>\n",
       "    <tr>\n",
       "      <th>2</th>\n",
       "      <td>138.0</td>\n",
       "      <td>78</td>\n",
       "      <td>1</td>\n",
       "      <td>3</td>\n",
       "      <td>3.0</td>\n",
       "      <td>28.8</td>\n",
       "      <td>1</td>\n",
       "      <td>1.0</td>\n",
       "    </tr>\n",
       "    <tr>\n",
       "      <th>3</th>\n",
       "      <td>132.0</td>\n",
       "      <td>56</td>\n",
       "      <td>2</td>\n",
       "      <td>3</td>\n",
       "      <td>5.0</td>\n",
       "      <td>42.4</td>\n",
       "      <td>2</td>\n",
       "      <td>0.0</td>\n",
       "    </tr>\n",
       "    <tr>\n",
       "      <th>4</th>\n",
       "      <td>100.0</td>\n",
       "      <td>42</td>\n",
       "      <td>2</td>\n",
       "      <td>4</td>\n",
       "      <td>4.0</td>\n",
       "      <td>20.3</td>\n",
       "      <td>2</td>\n",
       "      <td>0.0</td>\n",
       "    </tr>\n",
       "    <tr>\n",
       "      <th>...</th>\n",
       "      <td>...</td>\n",
       "      <td>...</td>\n",
       "      <td>...</td>\n",
       "      <td>...</td>\n",
       "      <td>...</td>\n",
       "      <td>...</td>\n",
       "      <td>...</td>\n",
       "      <td>...</td>\n",
       "    </tr>\n",
       "    <tr>\n",
       "      <th>5730</th>\n",
       "      <td>112.0</td>\n",
       "      <td>76</td>\n",
       "      <td>2</td>\n",
       "      <td>3</td>\n",
       "      <td>3.0</td>\n",
       "      <td>21.5</td>\n",
       "      <td>1</td>\n",
       "      <td>1.0</td>\n",
       "    </tr>\n",
       "    <tr>\n",
       "      <th>5731</th>\n",
       "      <td>118.0</td>\n",
       "      <td>26</td>\n",
       "      <td>1</td>\n",
       "      <td>3</td>\n",
       "      <td>5.0</td>\n",
       "      <td>33.8</td>\n",
       "      <td>2</td>\n",
       "      <td>0.0</td>\n",
       "    </tr>\n",
       "    <tr>\n",
       "      <th>5732</th>\n",
       "      <td>154.0</td>\n",
       "      <td>80</td>\n",
       "      <td>2</td>\n",
       "      <td>3</td>\n",
       "      <td>4.0</td>\n",
       "      <td>31.0</td>\n",
       "      <td>1</td>\n",
       "      <td>1.0</td>\n",
       "    </tr>\n",
       "    <tr>\n",
       "      <th>5733</th>\n",
       "      <td>104.0</td>\n",
       "      <td>35</td>\n",
       "      <td>1</td>\n",
       "      <td>3</td>\n",
       "      <td>1.0</td>\n",
       "      <td>26.0</td>\n",
       "      <td>1</td>\n",
       "      <td>1.0</td>\n",
       "    </tr>\n",
       "    <tr>\n",
       "      <th>5734</th>\n",
       "      <td>118.0</td>\n",
       "      <td>24</td>\n",
       "      <td>2</td>\n",
       "      <td>3</td>\n",
       "      <td>5.0</td>\n",
       "      <td>21.4</td>\n",
       "      <td>2</td>\n",
       "      <td>0.0</td>\n",
       "    </tr>\n",
       "  </tbody>\n",
       "</table>\n",
       "<p>5094 rows × 8 columns</p>\n",
       "</div>"
      ],
      "text/plain": [
       "      BPXSY1  RIDAGEYR  RIAGENDR  RIDRETH1  DMDEDUC2  BMXBMI  SMQ020  SMQx\n",
       "0      128.0        62         1         3       5.0    27.8       1   1.0\n",
       "1      146.0        53         1         3       3.0    30.8       1   1.0\n",
       "2      138.0        78         1         3       3.0    28.8       1   1.0\n",
       "3      132.0        56         2         3       5.0    42.4       2   0.0\n",
       "4      100.0        42         2         4       4.0    20.3       2   0.0\n",
       "...      ...       ...       ...       ...       ...     ...     ...   ...\n",
       "5730   112.0        76         2         3       3.0    21.5       1   1.0\n",
       "5731   118.0        26         1         3       5.0    33.8       2   0.0\n",
       "5732   154.0        80         2         3       4.0    31.0       1   1.0\n",
       "5733   104.0        35         1         3       1.0    26.0       1   1.0\n",
       "5734   118.0        24         2         3       5.0    21.4       2   0.0\n",
       "\n",
       "[5094 rows x 8 columns]"
      ]
     },
     "execution_count": 3,
     "metadata": {},
     "output_type": "execute_result"
    }
   ],
   "source": [
    "Nhanes_ds[\"SMQx\"] = Nhanes_ds.SMQ020.replace({2 : 0 , 7 : np.nan , 9 : np.nan})\n",
    "Nhanes_ds.dropna()"
   ]
  },
  {
   "cell_type": "markdown",
   "metadata": {},
   "source": [
    "Odds and LogOdds"
   ]
  },
  {
   "cell_type": "code",
   "execution_count": 4,
   "metadata": {},
   "outputs": [
    {
     "data": {
      "text/html": [
       "<div>\n",
       "<style scoped>\n",
       "    .dataframe tbody tr th:only-of-type {\n",
       "        vertical-align: middle;\n",
       "    }\n",
       "\n",
       "    .dataframe tbody tr th {\n",
       "        vertical-align: top;\n",
       "    }\n",
       "\n",
       "    .dataframe thead th {\n",
       "        text-align: right;\n",
       "    }\n",
       "</style>\n",
       "<table border=\"1\" class=\"dataframe\">\n",
       "  <thead>\n",
       "    <tr style=\"text-align: right;\">\n",
       "      <th>SMQx</th>\n",
       "      <th>0.0</th>\n",
       "      <th>1.0</th>\n",
       "      <th>Odds</th>\n",
       "      <th>LogOdds</th>\n",
       "    </tr>\n",
       "    <tr>\n",
       "      <th>RIAGENDRx</th>\n",
       "      <th></th>\n",
       "      <th></th>\n",
       "      <th></th>\n",
       "      <th></th>\n",
       "    </tr>\n",
       "  </thead>\n",
       "  <tbody>\n",
       "    <tr>\n",
       "      <th>Female</th>\n",
       "      <td>0.695155</td>\n",
       "      <td>0.304845</td>\n",
       "      <td>0.438529</td>\n",
       "      <td>-0.824330</td>\n",
       "    </tr>\n",
       "    <tr>\n",
       "      <th>Male</th>\n",
       "      <td>0.486742</td>\n",
       "      <td>0.513258</td>\n",
       "      <td>1.054478</td>\n",
       "      <td>0.053045</td>\n",
       "    </tr>\n",
       "  </tbody>\n",
       "</table>\n",
       "</div>"
      ],
      "text/plain": [
       "SMQx            0.0       1.0      Odds   LogOdds\n",
       "RIAGENDRx                                        \n",
       "Female     0.695155  0.304845  0.438529 -0.824330\n",
       "Male       0.486742  0.513258  1.054478  0.053045"
      ]
     },
     "execution_count": 4,
     "metadata": {},
     "output_type": "execute_result"
    }
   ],
   "source": [
    "Nhanes_ds[\"RIAGENDRx\"] = Nhanes_ds.RIAGENDR.replace({1: \"Male\", 2: \"Female\"})\n",
    "C = pd.crosstab(Nhanes_ds.RIAGENDRx , Nhanes_ds.SMQx).apply(lambda x:x/x.sum(), axis = 1)\n",
    "C[\"Odds\"] = C.iloc[:,1] / C.iloc[:,0]\n",
    "C[\"LogOdds\"] = np.log(C.Odds)\n",
    "C"
   ]
  },
  {
   "cell_type": "markdown",
   "metadata": {},
   "source": [
    "probability of women smoking 100 cigrettes is pretty low than that of men. This is reflected in the Odds being very less than 1 for women  and being more than 1 for men. Logodds for women is negative suggesting that very less population of women have ever smoked 100 cigrate while log odds for men is close to 1 suggesting nearly half the population has smoked more than 100 cigrettes."
   ]
  },
  {
   "cell_type": "code",
   "execution_count": 5,
   "metadata": {},
   "outputs": [
    {
     "data": {
      "text/html": [
       "<table class=\"simpletable\">\n",
       "<caption>Generalized Linear Model Regression Results</caption>\n",
       "<tr>\n",
       "  <th>Dep. Variable:</th>         <td>SMQx</td>       <th>  No. Observations:  </th>  <td>  5725</td> \n",
       "</tr>\n",
       "<tr>\n",
       "  <th>Model:</th>                  <td>GLM</td>       <th>  Df Residuals:      </th>  <td>  5723</td> \n",
       "</tr>\n",
       "<tr>\n",
       "  <th>Model Family:</th>        <td>Binomial</td>     <th>  Df Model:          </th>  <td>     1</td> \n",
       "</tr>\n",
       "<tr>\n",
       "  <th>Link Function:</th>         <td>logit</td>      <th>  Scale:             </th> <td>  1.0000</td>\n",
       "</tr>\n",
       "<tr>\n",
       "  <th>Method:</th>                <td>IRLS</td>       <th>  Log-Likelihood:    </th> <td> -3734.8</td>\n",
       "</tr>\n",
       "<tr>\n",
       "  <th>Date:</th>            <td>Sun, 06 Dec 2020</td> <th>  Deviance:          </th> <td>  7469.6</td>\n",
       "</tr>\n",
       "<tr>\n",
       "  <th>Time:</th>                <td>22:52:08</td>     <th>  Pearson chi2:      </th> <td>5.72e+03</td>\n",
       "</tr>\n",
       "<tr>\n",
       "  <th>No. Iterations:</th>          <td>4</td>        <th>                     </th>     <td> </td>   \n",
       "</tr>\n",
       "<tr>\n",
       "  <th>Covariance Type:</th>     <td>nonrobust</td>    <th>                     </th>     <td> </td>   \n",
       "</tr>\n",
       "</table>\n",
       "<table class=\"simpletable\">\n",
       "<tr>\n",
       "          <td></td>             <th>coef</th>     <th>std err</th>      <th>z</th>      <th>P>|z|</th>  <th>[0.025</th>    <th>0.975]</th>  \n",
       "</tr>\n",
       "<tr>\n",
       "  <th>Intercept</th>         <td>   -0.8243</td> <td>    0.040</td> <td>  -20.687</td> <td> 0.000</td> <td>   -0.902</td> <td>   -0.746</td>\n",
       "</tr>\n",
       "<tr>\n",
       "  <th>RIAGENDRx[T.Male]</th> <td>    0.8774</td> <td>    0.055</td> <td>   15.908</td> <td> 0.000</td> <td>    0.769</td> <td>    0.985</td>\n",
       "</tr>\n",
       "</table>"
      ],
      "text/plain": [
       "<class 'statsmodels.iolib.summary.Summary'>\n",
       "\"\"\"\n",
       "                 Generalized Linear Model Regression Results                  \n",
       "==============================================================================\n",
       "Dep. Variable:                   SMQx   No. Observations:                 5725\n",
       "Model:                            GLM   Df Residuals:                     5723\n",
       "Model Family:                Binomial   Df Model:                            1\n",
       "Link Function:                  logit   Scale:                          1.0000\n",
       "Method:                          IRLS   Log-Likelihood:                -3734.8\n",
       "Date:                Sun, 06 Dec 2020   Deviance:                       7469.6\n",
       "Time:                        22:52:08   Pearson chi2:                 5.72e+03\n",
       "No. Iterations:                     4                                         \n",
       "Covariance Type:            nonrobust                                         \n",
       "=====================================================================================\n",
       "                        coef    std err          z      P>|z|      [0.025      0.975]\n",
       "-------------------------------------------------------------------------------------\n",
       "Intercept            -0.8243      0.040    -20.687      0.000      -0.902      -0.746\n",
       "RIAGENDRx[T.Male]     0.8774      0.055     15.908      0.000       0.769       0.985\n",
       "=====================================================================================\n",
       "\"\"\""
      ]
     },
     "execution_count": 5,
     "metadata": {},
     "output_type": "execute_result"
    }
   ],
   "source": [
    "model1 = sm.GLM.from_formula(\"SMQx ~ RIAGENDRx \" , family = sm.families.Binomial(), data = Nhanes_ds)\n",
    "result1 =  model1.fit()\n",
    "result1.summary()"
   ]
  },
  {
   "cell_type": "code",
   "execution_count": 6,
   "metadata": {},
   "outputs": [
    {
     "data": {
      "text/plain": [
       "0.877375833376175"
      ]
     },
     "execution_count": 6,
     "metadata": {},
     "output_type": "execute_result"
    }
   ],
   "source": [
    "C.LogOdds.Male - C.LogOdds.Female"
   ]
  },
  {
   "cell_type": "code",
   "execution_count": 7,
   "metadata": {},
   "outputs": [
    {
     "data": {
      "text/html": [
       "<table class=\"simpletable\">\n",
       "<caption>Generalized Linear Model Regression Results</caption>\n",
       "<tr>\n",
       "  <th>Dep. Variable:</th>         <td>SMQx</td>       <th>  No. Observations:  </th>  <td>  5725</td> \n",
       "</tr>\n",
       "<tr>\n",
       "  <th>Model:</th>                  <td>GLM</td>       <th>  Df Residuals:      </th>  <td>  5722</td> \n",
       "</tr>\n",
       "<tr>\n",
       "  <th>Model Family:</th>        <td>Binomial</td>     <th>  Df Model:          </th>  <td>     2</td> \n",
       "</tr>\n",
       "<tr>\n",
       "  <th>Link Function:</th>         <td>logit</td>      <th>  Scale:             </th> <td>  1.0000</td>\n",
       "</tr>\n",
       "<tr>\n",
       "  <th>Method:</th>                <td>IRLS</td>       <th>  Log-Likelihood:    </th> <td> -3637.6</td>\n",
       "</tr>\n",
       "<tr>\n",
       "  <th>Date:</th>            <td>Sun, 06 Dec 2020</td> <th>  Deviance:          </th> <td>  7275.2</td>\n",
       "</tr>\n",
       "<tr>\n",
       "  <th>Time:</th>                <td>22:52:10</td>     <th>  Pearson chi2:      </th> <td>5.73e+03</td>\n",
       "</tr>\n",
       "<tr>\n",
       "  <th>No. Iterations:</th>          <td>4</td>        <th>                     </th>     <td> </td>   \n",
       "</tr>\n",
       "<tr>\n",
       "  <th>Covariance Type:</th>     <td>nonrobust</td>    <th>                     </th>     <td> </td>   \n",
       "</tr>\n",
       "</table>\n",
       "<table class=\"simpletable\">\n",
       "<tr>\n",
       "          <td></td>             <th>coef</th>     <th>std err</th>      <th>z</th>      <th>P>|z|</th>  <th>[0.025</th>    <th>0.975]</th>  \n",
       "</tr>\n",
       "<tr>\n",
       "  <th>Intercept</th>         <td>   -1.8635</td> <td>    0.088</td> <td>  -21.259</td> <td> 0.000</td> <td>   -2.035</td> <td>   -1.692</td>\n",
       "</tr>\n",
       "<tr>\n",
       "  <th>RIAGENDRx[T.Male]</th> <td>    0.8978</td> <td>    0.056</td> <td>   15.967</td> <td> 0.000</td> <td>    0.788</td> <td>    1.008</td>\n",
       "</tr>\n",
       "<tr>\n",
       "  <th>RIDAGEYR</th>          <td>    0.0211</td> <td>    0.002</td> <td>   13.720</td> <td> 0.000</td> <td>    0.018</td> <td>    0.024</td>\n",
       "</tr>\n",
       "</table>"
      ],
      "text/plain": [
       "<class 'statsmodels.iolib.summary.Summary'>\n",
       "\"\"\"\n",
       "                 Generalized Linear Model Regression Results                  \n",
       "==============================================================================\n",
       "Dep. Variable:                   SMQx   No. Observations:                 5725\n",
       "Model:                            GLM   Df Residuals:                     5722\n",
       "Model Family:                Binomial   Df Model:                            2\n",
       "Link Function:                  logit   Scale:                          1.0000\n",
       "Method:                          IRLS   Log-Likelihood:                -3637.6\n",
       "Date:                Sun, 06 Dec 2020   Deviance:                       7275.2\n",
       "Time:                        22:52:10   Pearson chi2:                 5.73e+03\n",
       "No. Iterations:                     4                                         \n",
       "Covariance Type:            nonrobust                                         \n",
       "=====================================================================================\n",
       "                        coef    std err          z      P>|z|      [0.025      0.975]\n",
       "-------------------------------------------------------------------------------------\n",
       "Intercept            -1.8635      0.088    -21.259      0.000      -2.035      -1.692\n",
       "RIAGENDRx[T.Male]     0.8978      0.056     15.967      0.000       0.788       1.008\n",
       "RIDAGEYR              0.0211      0.002     13.720      0.000       0.018       0.024\n",
       "=====================================================================================\n",
       "\"\"\""
      ]
     },
     "execution_count": 7,
     "metadata": {},
     "output_type": "execute_result"
    }
   ],
   "source": [
    "model2 = sm.GLM.from_formula(\"SMQx ~ RIAGENDRx + RIDAGEYR\" , family = sm.families.Binomial(), data = Nhanes_ds)\n",
    "result2 =  model2.fit()\n",
    "result2.summary()"
   ]
  },
  {
   "cell_type": "markdown",
   "metadata": {},
   "source": [
    "This suggest that  logodds of smoking increases as age increases smoking habbit by 0.0211. If comparing to adults of age difference 20 years the Logodds will be 0.422 units greater for older person in comparison to younger one. The odds will be exp(0.422) i.e 1.52 times greater than that of younger person."
   ]
  },
  {
   "cell_type": "markdown",
   "metadata": {},
   "source": [
    "As with linear regression, the roles of age and gender in the logistic regression model can be seen as being additive, but here the additivity is on the scale of log odds, not odds or probabilities. If we compare a 30 year old female to a 50 year old male, the log odds for the male being a smoker are 0.89 + 0.422 = 1.312 units greater than the log odds for the female being a smoker. The value of 0.89 in this expression is the change attributable to gender, and the value of 0.422 is the change attributable to age. Again, we can exponentiate to convert these effects from the log odds scale to the odds scale. Since exp(0.89 + 0.422) = exp(0.89)*exp(0.422) = 2.44*1.52 we can state that male gender is associated with a 3.72 fold increase in the odds of smoking, and 20 years of age is associated with a 1.52 fold increase in the odds for smoking. These two effects are multiplied when discussing the odds, so a 50 year old man has exp(1.312) = 3.72 fold greater odds of smoking than a 30 year old woman."
   ]
  },
  {
   "cell_type": "code",
   "execution_count": 8,
   "metadata": {},
   "outputs": [
    {
     "data": {
      "text/html": [
       "<table class=\"simpletable\">\n",
       "<caption>Generalized Linear Model Regression Results</caption>\n",
       "<tr>\n",
       "  <th>Dep. Variable:</th>         <td>SMQx</td>       <th>  No. Observations:  </th>  <td>  5463</td> \n",
       "</tr>\n",
       "<tr>\n",
       "  <th>Model:</th>                  <td>GLM</td>       <th>  Df Residuals:      </th>  <td>  5456</td> \n",
       "</tr>\n",
       "<tr>\n",
       "  <th>Model Family:</th>        <td>Binomial</td>     <th>  Df Model:          </th>  <td>     6</td> \n",
       "</tr>\n",
       "<tr>\n",
       "  <th>Link Function:</th>         <td>logit</td>      <th>  Scale:             </th> <td>  1.0000</td>\n",
       "</tr>\n",
       "<tr>\n",
       "  <th>Method:</th>                <td>IRLS</td>       <th>  Log-Likelihood:    </th> <td> -3421.3</td>\n",
       "</tr>\n",
       "<tr>\n",
       "  <th>Date:</th>            <td>Sun, 06 Dec 2020</td> <th>  Deviance:          </th> <td>  6842.6</td>\n",
       "</tr>\n",
       "<tr>\n",
       "  <th>Time:</th>                <td>22:52:11</td>     <th>  Pearson chi2:      </th> <td>5.47e+03</td>\n",
       "</tr>\n",
       "<tr>\n",
       "  <th>No. Iterations:</th>          <td>4</td>        <th>                     </th>     <td> </td>   \n",
       "</tr>\n",
       "<tr>\n",
       "  <th>Covariance Type:</th>     <td>nonrobust</td>    <th>                     </th>     <td> </td>   \n",
       "</tr>\n",
       "</table>\n",
       "<table class=\"simpletable\">\n",
       "<tr>\n",
       "              <td></td>                <th>coef</th>     <th>std err</th>      <th>z</th>      <th>P>|z|</th>  <th>[0.025</th>    <th>0.975]</th>  \n",
       "</tr>\n",
       "<tr>\n",
       "  <th>Intercept</th>                <td>   -2.3330</td> <td>    0.111</td> <td>  -21.108</td> <td> 0.000</td> <td>   -2.550</td> <td>   -2.116</td>\n",
       "</tr>\n",
       "<tr>\n",
       "  <th>RIAGENDRx[T.Male]</th>        <td>    0.9313</td> <td>    0.058</td> <td>   15.986</td> <td> 0.000</td> <td>    0.817</td> <td>    1.045</td>\n",
       "</tr>\n",
       "<tr>\n",
       "  <th>DMDEDUC2x[T.HS]</th>          <td>    0.9345</td> <td>    0.087</td> <td>   10.761</td> <td> 0.000</td> <td>    0.764</td> <td>    1.105</td>\n",
       "</tr>\n",
       "<tr>\n",
       "  <th>DMDEDUC2x[T.SomeCollege]</th> <td>    0.8425</td> <td>    0.082</td> <td>   10.338</td> <td> 0.000</td> <td>    0.683</td> <td>    1.002</td>\n",
       "</tr>\n",
       "<tr>\n",
       "  <th>DMDEDUC2x[T.lt9]</th>         <td>    0.2357</td> <td>    0.106</td> <td>    2.230</td> <td> 0.026</td> <td>    0.029</td> <td>    0.443</td>\n",
       "</tr>\n",
       "<tr>\n",
       "  <th>DMDEDUC2x[T.x9_11]</th>       <td>    1.0745</td> <td>    0.103</td> <td>   10.426</td> <td> 0.000</td> <td>    0.872</td> <td>    1.276</td>\n",
       "</tr>\n",
       "<tr>\n",
       "  <th>RIDAGEYR</th>                 <td>    0.0185</td> <td>    0.002</td> <td>   11.061</td> <td> 0.000</td> <td>    0.015</td> <td>    0.022</td>\n",
       "</tr>\n",
       "</table>"
      ],
      "text/plain": [
       "<class 'statsmodels.iolib.summary.Summary'>\n",
       "\"\"\"\n",
       "                 Generalized Linear Model Regression Results                  \n",
       "==============================================================================\n",
       "Dep. Variable:                   SMQx   No. Observations:                 5463\n",
       "Model:                            GLM   Df Residuals:                     5456\n",
       "Model Family:                Binomial   Df Model:                            6\n",
       "Link Function:                  logit   Scale:                          1.0000\n",
       "Method:                          IRLS   Log-Likelihood:                -3421.3\n",
       "Date:                Sun, 06 Dec 2020   Deviance:                       6842.6\n",
       "Time:                        22:52:11   Pearson chi2:                 5.47e+03\n",
       "No. Iterations:                     4                                         \n",
       "Covariance Type:            nonrobust                                         \n",
       "============================================================================================\n",
       "                               coef    std err          z      P>|z|      [0.025      0.975]\n",
       "--------------------------------------------------------------------------------------------\n",
       "Intercept                   -2.3330      0.111    -21.108      0.000      -2.550      -2.116\n",
       "RIAGENDRx[T.Male]            0.9313      0.058     15.986      0.000       0.817       1.045\n",
       "DMDEDUC2x[T.HS]              0.9345      0.087     10.761      0.000       0.764       1.105\n",
       "DMDEDUC2x[T.SomeCollege]     0.8425      0.082     10.338      0.000       0.683       1.002\n",
       "DMDEDUC2x[T.lt9]             0.2357      0.106      2.230      0.026       0.029       0.443\n",
       "DMDEDUC2x[T.x9_11]           1.0745      0.103     10.426      0.000       0.872       1.276\n",
       "RIDAGEYR                     0.0185      0.002     11.061      0.000       0.015       0.022\n",
       "============================================================================================\n",
       "\"\"\""
      ]
     },
     "execution_count": 8,
     "metadata": {},
     "output_type": "execute_result"
    }
   ],
   "source": [
    "Nhanes_ds[\"DMDEDUC2x\"] = Nhanes_ds.DMDEDUC2.replace({1: \"lt9\", 2: \"x9_11\", 3: \"HS\", 4: \"SomeCollege\",\n",
    "                                       5: \"College\", 7: np.nan, 9: np.nan})\n",
    "\n",
    "model3 = sm.GLM.from_formula(\"SMQx ~ RIDAGEYR + RIAGENDRx + DMDEDUC2x\", family=sm.families.Binomial(), data=Nhanes_ds)\n",
    "result3 = model3.fit()\n",
    "result3.summary()"
   ]
  },
  {
   "cell_type": "markdown",
   "metadata": {},
   "source": [
    "We see that the \"Female\" level of the gender variable, and the \"College\" level of the educational attainment variable are the reference levels, as they are not shown in the output above. We have discussed the gender and age variables above, but the educational attainment variable is new for us. All non-reference coefficients for the educational attainment are positive, while the College coefficient, as the reference coefficient, is exactly zero. Thus, we see that people with a college degree have the lowest rate of smoking, followed by people with less than 9 years of schooling, then (after a large gap) people with some college, then people with a high school degree (and no college), and finally (with the greatest rate of smoking), people with 9-11 years of schooling. The overall story here is that smoking rates are much lower for people who graduated from college or did not start high school, presumably for very different reasons. On the other hand, people with some high school, people who completed high school, and people who began but did not complete college have much higher rates of smoking. The odds ratio between the former and the latter group depends on the specific subgroups being compared, but can be almost 3 = exp(1.07).\n",
    "\n",
    "As noted above when we were discussing linear regression, it is important to remember that a coefficient in a logistic regression are \"conditional\" on the other variables being held fixed. For example, the log odds ratio of 1.07 between people with 9-11 years of schooling and people who completed college applies only when comparing people with the same age and gender."
   ]
  },
  {
   "cell_type": "code",
   "execution_count": 18,
   "metadata": {},
   "outputs": [
    {
     "name": "stderr",
     "output_type": "stream",
     "text": [
      "c:\\users\\prash\\documents\\ml\\venv\\lib\\site-packages\\seaborn\\_decorators.py:36: FutureWarning: Pass the following variables as keyword args: x, y. From version 0.12, the only valid positional argument will be `data`, and passing other arguments without an explicit keyword will result in an error or misinterpretation.\n",
      "  warnings.warn(\n"
     ]
    },
    {
     "data": {
      "image/png": "[encoded data removed]",
      "text/plain": [
       "<Figure size 432x288 with 1 Axes>"
      ]
     },
     "metadata": {
      "needs_background": "light"
     },
     "output_type": "display_data"
    }
   ],
   "source": [
    "from statsmodels.sandbox.predict_functional import predict_functional\n",
    "\n",
    "values = {\"RIAGENDRx\": \"Female\", \"RIAGENDR\": 1, \"BMXBMI\": 25,\n",
    "          \"DMDEDUC2\": 1, \"RIDRETH1\": 1, \"SMQ020\": 1,\n",
    "          \"DMDEDUC2x\": \"College\", \"BPXSY1\": 120}\n",
    "\n",
    "Pr, Cb, fv = predict_functional(result3 , \"RIDAGEYR\",\n",
    "                               values = values , ci_method=\"simultaneous\")\n",
    "\n",
    "ax = sns.lineplot(fv , Pr , lw = 2)\n",
    "ax.fill_between(fv , Cb[:,1] , Cb[:,0], color = \"grey\" , alpha = 0.4)\n",
    "ax.set_xlabel(\"Age\")\n",
    "_ = ax.set_ylabel(\"SBP\")"
   ]
  },
  {
   "cell_type": "markdown",
   "metadata": {},
   "source": [
    "The plot shows the fitted log odds (or logit) probability for the smoking outcome as a function of age. The grey band is a simultaneous 95% simultaneous confidence band."
   ]
  },
  {
   "cell_type": "code",
   "execution_count": 19,
   "metadata": {},
   "outputs": [
    {
     "name": "stderr",
     "output_type": "stream",
     "text": [
      "c:\\users\\prash\\documents\\ml\\venv\\lib\\site-packages\\seaborn\\_decorators.py:36: FutureWarning: Pass the following variables as keyword args: x, y. From version 0.12, the only valid positional argument will be `data`, and passing other arguments without an explicit keyword will result in an error or misinterpretation.\n",
      "  warnings.warn(\n"
     ]
    },
    {
     "data": {
      "text/plain": [
       "Text(0, 0.5, 'Smoking')"
      ]
     },
     "execution_count": 19,
     "metadata": {},
     "output_type": "execute_result"
    },
    {
     "data": {
      "image/png": "[encoded data removed]",
      "text/plain": [
       "<Figure size 432x288 with 1 Axes>"
      ]
     },
     "metadata": {
      "needs_background": "light"
     },
     "output_type": "display_data"
    }
   ],
   "source": [
    "pr1 = 1/(1 + np.exp(-Pr))\n",
    "cb1 = 1/(1 + np.exp(-Cb))\n",
    "ax = sns.lineplot(fv , pr1 , lw = 2)\n",
    "ax.fill_between(fv , cb1[:,1], cb1[:,0], color = \"grey\" , alpha = 0.4)\n",
    "ax.set_xlabel(\"Age\", size=15)\n",
    "ax.set_ylabel(\"Smoking\", size=15)"
   ]
  },
  {
   "cell_type": "markdown",
   "metadata": {},
   "source": [
    "as age increases probability of smoking 100 cigrettes increases non-lineraly"
   ]
  },
  {
   "cell_type": "code",
   "execution_count": 21,
   "metadata": {},
   "outputs": [
    {
     "data": {
      "image/png": "[encoded data removed]",
      "text/plain": [
       "<Figure size 432x288 with 1 Axes>"
      ]
     },
     "metadata": {
      "needs_background": "light"
     },
     "output_type": "display_data"
    }
   ],
   "source": [
    "from statsmodels.graphics.regressionplots import add_lowess\n",
    "fig = result3.plot_ceres_residuals(\"RIDAGEYR\")\n",
    "ax = fig.get_axes()[0]\n",
    "ax.lines[0].set_alpha(0.2)\n",
    "_ = add_lowess(ax)"
   ]
  },
  {
   "cell_type": "markdown",
   "metadata": {},
   "source": [
    "The CERES technique has the strongest theoretical support. Taken at face value, the plot suggest that smoking rates may rise slightly faster for people between the ages of 20 and 35, and again for people between the ages of 50 and 60, with a period of minimal increase between these age intervals. This would contradict the perfectly linear model for age (on the log odds scale) that we have specified in our model. These plotting techniques can be useful at identifying possible opportunities for future analysis with additional data, but do not identify features that can be claimed with high confidence using the present data."
   ]
  },
  {
   "cell_type": "code",
   "execution_count": null,
   "metadata": {},
   "outputs": [],
   "source": []
  }
 ],
 "metadata": {
  "kernelspec": {
   "display_name": "Python 3",
   "language": "python",
   "name": "python3"
  },
  "language_info": {
   "codemirror_mode": {
    "name": "ipython",
    "version": 3
   },
   "file_extension": ".py",
   "mimetype": "text/x-python",
   "name": "python",
   "nbconvert_exporter": "python",
   "pygments_lexer": "ipython3",
   "version": "3.8.5"
  }
 },
 "nbformat": 4,
 "nbformat_minor": 4
}

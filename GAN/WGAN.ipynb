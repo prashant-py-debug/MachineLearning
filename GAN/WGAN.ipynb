{
 "cells": [
  {
   "cell_type": "code",
   "execution_count": 230,
   "metadata": {
    "colab": {
     "base_uri": "https://localhost:8080/",
     "height": 35
    },
    "id": "O7Q0LSPEXHB5",
    "outputId": "416118ce-fcb8-4769-94af-031c1ae1fe9c"
   },
   "outputs": [
    {
     "data": {
      "application/vnd.google.colaboratory.intrinsic+json": {
       "type": "string"
      },
      "text/plain": [
       "'2.3.0'"
      ]
     },
     "execution_count": 230,
     "metadata": {
      "tags": []
     },
     "output_type": "execute_result"
    }
   ],
   "source": [
    "import tensorflow as tf\n",
    "import numpy as np\n",
    "import matplotlib.pyplot as plt\n",
    "tf.__version__"
   ]
  },
  {
   "cell_type": "code",
   "execution_count": 231,
   "metadata": {
    "id": "giI_nEsZXHCV"
   },
   "outputs": [],
   "source": [
    "buffer_size = 60000\n",
    "batch_size = 128\n",
    "(x_train,y_train),(x_test,y_test) = tf.keras.datasets.mnist.load_data()\n",
    "training_images = x_train.reshape(x_train.shape[0],28,28,1).astype(\"float32\")\n",
    "training_images = training_images/255.0\n",
    "train_dataset = tf.data.Dataset.from_tensor_slices(training_images).shuffle(buffer_size).batch(batch_size , drop_remainder = True)"
   ]
  },
  {
   "cell_type": "code",
   "execution_count": 232,
   "metadata": {
    "id": "giL4A69PXHCr"
   },
   "outputs": [],
   "source": [
    "def get_noise(batch_size , z_dim):\n",
    "    return tf.random.normal([batch_size,z_dim])"
   ]
  },
  {
   "cell_type": "code",
   "execution_count": 233,
   "metadata": {
    "id": "2AlV-kiVXHC6"
   },
   "outputs": [],
   "source": [
    "def generator():\n",
    "    model = tf.keras.Sequential()\n",
    "    model.add(tf.keras.layers.Dense(7*7*256 , input_shape = (64,)))\n",
    "    model.add(tf.keras.layers.BatchNormalization())\n",
    "    model.add(tf.keras.layers.LeakyReLU())\n",
    "    \n",
    "    model.add(tf.keras.layers.Reshape((7,7,256)))\n",
    "    \n",
    "    model.add(tf.keras.layers.UpSampling2D()) #14x14\n",
    "    model.add(tf.keras.layers.Conv2D(128 , (5,5) , strides = (1,1), padding = \"same\")) #14x14\n",
    "    model.add(tf.keras.layers.BatchNormalization())\n",
    "    model.add(tf.keras.layers.LeakyReLU())\n",
    "    \n",
    "    model.add(tf.keras.layers.UpSampling2D()) #28x28\n",
    "    model.add(tf.keras.layers.Conv2D(64 , (5,5) , strides = (2,2), padding = \"same\")) #14x14\n",
    "    model.add(tf.keras.layers.BatchNormalization())\n",
    "    model.add(tf.keras.layers.LeakyReLU())\n",
    "    \n",
    "    model.add(tf.keras.layers.UpSampling2D()) #28x28\n",
    "    model.add(tf.keras.layers.Conv2D(1 , (5,5) , strides = (1,1), padding = \"same\" , activation = \"tanh\"))\n",
    "    \n",
    "    return model\n",
    "    \n",
    "    \n",
    "    "
   ]
  },
  {
   "cell_type": "code",
   "execution_count": 234,
   "metadata": {
    "id": "PgquvigoXHDI"
   },
   "outputs": [],
   "source": [
    "def critic():\n",
    "    model = tf.keras.Sequential()\n",
    "    model = tf.keras.Sequential()\n",
    "    model.add(tf.keras.layers.Conv2D(64,(5,5), strides = (2,2) , padding = \"same\"  ,input_shape = (28,28,1)))\n",
    "    model.add(tf.keras.layers.BatchNormalization())\n",
    "    model.add(tf.keras.layers.LeakyReLU())\n",
    "    \n",
    "    \n",
    "    model.add(tf.keras.layers.Conv2D(128,(5,5), strides = (2,2) , padding = \"same\"))\n",
    "    model.add(tf.keras.layers.BatchNormalization())\n",
    "    model.add(tf.keras.layers.LeakyReLU())\n",
    "    \n",
    "    \n",
    "    model.add(tf.keras.layers.Flatten())\n",
    "    model.add(tf.keras.layers.Dense(1))\n",
    "    \n",
    "    \n",
    "    return model\n",
    "\n",
    "    "
   ]
  },
  {
   "cell_type": "code",
   "execution_count": 235,
   "metadata": {
    "id": "hKMJdERpXHDW"
   },
   "outputs": [],
   "source": [
    "gen = generator()\n",
    "crit = critic()"
   ]
  },
  {
   "cell_type": "code",
   "execution_count": 236,
   "metadata": {
    "colab": {
     "base_uri": "https://localhost:8080/"
    },
    "id": "No76uP7zbRim",
    "outputId": "4fda8b1f-9112-480b-e9e3-157a03407edc"
   },
   "outputs": [
    {
     "data": {
      "text/plain": [
       "TensorShape([128, 28, 28, 1])"
      ]
     },
     "execution_count": 236,
     "metadata": {
      "tags": []
     },
     "output_type": "execute_result"
    }
   ],
   "source": [
    "noise = get_noise(128,64)\n",
    "out = gen(noise)\n",
    "out.shape"
   ]
  },
  {
   "cell_type": "code",
   "execution_count": 237,
   "metadata": {
    "colab": {
     "base_uri": "https://localhost:8080/"
    },
    "id": "I4hfUsfZXHDk",
    "outputId": "a52961a1-a4df-4e79-bed6-4bfc32cf36c1"
   },
   "outputs": [
    {
     "data": {
      "text/plain": [
       "<tf.Tensor: shape=(1, 1), dtype=float32, numpy=array([[-0.0882687]], dtype=float32)>"
      ]
     },
     "execution_count": 237,
     "metadata": {
      "tags": []
     },
     "output_type": "execute_result"
    }
   ],
   "source": [
    "#testing critic\n",
    "rand = tf.random.normal([1,28,28,1])\n",
    "out = crit(rand)\n",
    "out"
   ]
  },
  {
   "cell_type": "code",
   "execution_count": 238,
   "metadata": {
    "id": "tmS9F-8yXHD0"
   },
   "outputs": [],
   "source": [
    "@tf.function\n",
    "def get_gradient(crit,real,fake,epsilon):\n",
    "    \n",
    "    mixed = real * epsilon + (1 - epsilon)* fake\n",
    "    with tf.GradientTape() as gtape:\n",
    "        gtape.watch(mixed)\n",
    "        mixed_score = crit(mixed , training = True)\n",
    "        \n",
    "    grad = gtape.gradient(mixed_score , mixed)\n",
    "    return grad"
   ]
  },
  {
   "cell_type": "code",
   "execution_count": 239,
   "metadata": {
    "id": "nv5KNUJcXHED"
   },
   "outputs": [],
   "source": [
    "def gradient_penalty(gradient):\n",
    "    \n",
    "    grad_norm = tf.norm(gradient)\n",
    "    penalty = tf.reduce_mean((grad_norm - 1)**2)\n",
    "    \n",
    "    return penalty\n",
    "    "
   ]
  },
  {
   "cell_type": "code",
   "execution_count": 240,
   "metadata": {
    "id": "65lgML8sXHEQ"
   },
   "outputs": [],
   "source": [
    "def gen_loss(fake_output):\n",
    "    \n",
    "    \n",
    "    loss = -1 * tf.reduce_mean(fake_output)\n",
    "    return loss"
   ]
  },
  {
   "cell_type": "code",
   "execution_count": 241,
   "metadata": {
    "id": "5xk7AaArXHEd"
   },
   "outputs": [],
   "source": [
    "\n",
    "def critic_loss(fake_output , real_output , gp , c_lambda):\n",
    "    \n",
    "    \n",
    "    loss = -(tf.reduce_mean(real_output) - tf.reduce_mean\n",
    "             (fake_output)) + (c_lambda * gp)\n",
    "    return loss"
   ]
  },
  {
   "cell_type": "code",
   "execution_count": 242,
   "metadata": {
    "colab": {
     "base_uri": "https://localhost:8080/"
    },
    "id": "fRKPtM-NXHEp",
    "outputId": "75d8f0cb-e371-46c8-f7b9-32b0e2c721e1"
   },
   "outputs": [
    {
     "data": {
      "text/plain": [
       "TensorShape([1, 28, 28, 1])"
      ]
     },
     "execution_count": 242,
     "metadata": {
      "tags": []
     },
     "output_type": "execute_result"
    }
   ],
   "source": [
    "#testing gradient\n",
    "real = tf.random.normal([1,28,28,1])\n",
    "fake = tf.random.normal([1,28,28,1])\n",
    "grad = get_gradient(crit ,real = real , fake = fake , epsilon = 0.1)\n",
    "grad.shape"
   ]
  },
  {
   "cell_type": "code",
   "execution_count": 243,
   "metadata": {
    "colab": {
     "base_uri": "https://localhost:8080/"
    },
    "id": "VTxm91aiXHE2",
    "outputId": "5c5650e3-3df6-47df-daaf-319c59272323"
   },
   "outputs": [
    {
     "data": {
      "text/plain": [
       "<tf.Tensor: shape=(), dtype=float32, numpy=0.06894139>"
      ]
     },
     "execution_count": 243,
     "metadata": {
      "tags": []
     },
     "output_type": "execute_result"
    }
   ],
   "source": [
    "#testing gradient_panalty\n",
    "penalty = gradient_penalty(grad)\n",
    "penalty"
   ]
  },
  {
   "cell_type": "code",
   "execution_count": 244,
   "metadata": {
    "colab": {
     "base_uri": "https://localhost:8080/"
    },
    "id": "be5WtxyPXHFE",
    "outputId": "75e0cba7-1c87-4d94-9547-67e7237150b5"
   },
   "outputs": [
    {
     "data": {
      "text/plain": [
       "<tf.Tensor: shape=(), dtype=float32, numpy=0.14870897>"
      ]
     },
     "execution_count": 244,
     "metadata": {
      "tags": []
     },
     "output_type": "execute_result"
    }
   ],
   "source": [
    "#testinf critic's loss\n",
    "fake_output = crit(fake)\n",
    "real_output = crit(real)\n",
    "\n",
    "loss = critic_loss(fake_output, real_output , penalty , 0.5)\n",
    "loss"
   ]
  },
  {
   "cell_type": "code",
   "execution_count": 245,
   "metadata": {
    "id": "-_IEP8xNXHFV"
   },
   "outputs": [],
   "source": [
    "gen_optimizer = tf.keras.optimizers.Adam(0.002,0.5,0.99)\n",
    "critic_optimizer = tf.keras.optimizers.Adam(0.002,0.5,0.99)"
   ]
  },
  {
   "cell_type": "code",
   "execution_count": 246,
   "metadata": {
    "id": "oKAM14ldXHFh"
   },
   "outputs": [],
   "source": [
    "z_dim = 64\n",
    "epochs = 50\n",
    "c_lambda = 10\n",
    "# epsilon = 0.5"
   ]
  },
  {
   "cell_type": "code",
   "execution_count": 247,
   "metadata": {
    "id": "bBcjDheQXHFt"
   },
   "outputs": [],
   "source": [
    "@tf.function\n",
    "def train_step(real_images):\n",
    "    \n",
    "    \n",
    "    \n",
    "    with tf.GradientTape() as gen_tape , tf.GradientTape() as crit_tape:\n",
    "        \n",
    "        noises = get_noise(batch_size , z_dim)\n",
    "        fake_images = gen(noises,training = True)\n",
    "        fake_outputs = crit(fake_images , training = True)\n",
    "        real_outputs = crit(real_images , training = True)\n",
    "        epsilon = tf.random.uniform([batch_size,28,28,1])\n",
    "        grad = get_gradient(crit,real = real_images,fake = fake_images,epsilon = epsilon)\n",
    "        penalty = gradient_penalty(grad)\n",
    "        ######################################################################\n",
    "        g_loss = gen_loss(fake_outputs )\n",
    "        c_loss = critic_loss(fake_outputs, real_outputs , penalty , c_lambda )\n",
    "        \n",
    "    gen_grad = gen_tape.gradient(g_loss , gen.trainable_variables)\n",
    "    critic_grad = crit_tape.gradient(c_loss, crit.trainable_variables)\n",
    "    \n",
    "    gen_optimizer.apply_gradients(zip(gen_grad ,gen.trainable_variables ))\n",
    "    critic_optimizer.apply_gradients(zip(critic_grad , crit.trainable_variables))\n",
    "    \n",
    "    return g_loss , c_loss\n",
    "    \n",
    "    \n",
    "    \n"
   ]
  },
  {
   "cell_type": "code",
   "execution_count": 248,
   "metadata": {
    "id": "Y49ZqsHwXHF5"
   },
   "outputs": [],
   "source": [
    "def train(dataset , epochs):\n",
    "    \n",
    "    \n",
    "    mean_gen_loss_list = []\n",
    "    mean_critic_loss_list = []\n",
    "\n",
    "    for epoch in range(epochs):\n",
    "        gen_loss_list = []\n",
    "        critic_loss_list = []\n",
    "        for image in dataset:\n",
    "            \n",
    "            g_loss, c_loss , = train_step(image)\n",
    "            \n",
    "            gen_loss_list.append(g_loss)\n",
    "            critic_loss_list.append(c_loss)\n",
    "            \n",
    "        mean_g_loss = sum(gen_loss_list)/len(gen_loss_list)\n",
    "        mean_c_loss = sum(critic_loss_list)/len(critic_loss_list)\n",
    "        mean_gen_loss_list.append(mean_g_loss)\n",
    "        mean_critic_loss_list.append(mean_c_loss)    \n",
    "            \n",
    "        print (f'Epoch {epoch+1}, gen loss={mean_g_loss},critic loss={mean_c_loss}')\n",
    "        \n",
    "    return mean_gen_loss_list , mean_critic_loss_list\n",
    "            \n",
    "    "
   ]
  },
  {
   "cell_type": "code",
   "execution_count": 249,
   "metadata": {
    "colab": {
     "base_uri": "https://localhost:8080/"
    },
    "id": "O_zDpEvyXHGG",
    "outputId": "408d9160-2d6b-4560-f51f-cb587546bc0a"
   },
   "outputs": [
    {
     "name": "stdout",
     "output_type": "stream",
     "text": [
      "Epoch 1, gen loss=-0.04804778844118118,critic loss=90.42991638183594\n",
      "Epoch 2, gen loss=0.2453356683254242,critic loss=36.77377700805664\n",
      "Epoch 3, gen loss=1.0265861749649048,critic loss=43.070552825927734\n",
      "Epoch 4, gen loss=1.9087574481964111,critic loss=22.097698211669922\n",
      "Epoch 5, gen loss=2.7723965644836426,critic loss=3.8943285942077637\n",
      "Epoch 6, gen loss=3.274552345275879,critic loss=6.4229230880737305\n",
      "Epoch 7, gen loss=3.2000222206115723,critic loss=4.617011070251465\n",
      "Epoch 8, gen loss=2.770059108734131,critic loss=1.6506288051605225\n",
      "Epoch 9, gen loss=4.053884506225586,critic loss=0.719880223274231\n",
      "Epoch 10, gen loss=1.8372833728790283,critic loss=0.11393318325281143\n",
      "Epoch 11, gen loss=1.842502474784851,critic loss=0.17819102108478546\n",
      "Epoch 12, gen loss=-0.27201923727989197,critic loss=0.09824234247207642\n",
      "Epoch 13, gen loss=-0.4535883665084839,critic loss=0.05050205439329147\n",
      "Epoch 14, gen loss=-0.5631150603294373,critic loss=0.0027873730286955833\n",
      "Epoch 15, gen loss=0.057967811822891235,critic loss=-0.00644825492054224\n",
      "Epoch 16, gen loss=0.32583898305892944,critic loss=-0.0038897888734936714\n",
      "Epoch 17, gen loss=0.39378440380096436,critic loss=-0.007810900453478098\n",
      "Epoch 18, gen loss=-0.32846933603286743,critic loss=-0.006900658365339041\n",
      "Epoch 19, gen loss=-0.18178556859493256,critic loss=-0.007635505869984627\n",
      "Epoch 20, gen loss=-0.0297525804489851,critic loss=-0.008367706090211868\n",
      "Epoch 21, gen loss=-0.31273016333580017,critic loss=-0.008929128758609295\n",
      "Epoch 22, gen loss=0.38704419136047363,critic loss=-0.007417019922286272\n",
      "Epoch 23, gen loss=0.26461663842201233,critic loss=-0.008535278961062431\n",
      "Epoch 24, gen loss=-0.24648363888263702,critic loss=-0.009279929101467133\n",
      "Epoch 25, gen loss=0.2731640040874481,critic loss=-0.007091686595231295\n",
      "Epoch 26, gen loss=1.046742558479309,critic loss=-0.009773427620530128\n",
      "Epoch 27, gen loss=1.0853631496429443,critic loss=-0.00877231266349554\n",
      "Epoch 28, gen loss=1.969907283782959,critic loss=-0.010552600026130676\n",
      "Epoch 29, gen loss=2.5256636142730713,critic loss=-0.01317149680107832\n",
      "Epoch 30, gen loss=2.5149338245391846,critic loss=-0.015305723994970322\n",
      "Epoch 31, gen loss=2.7086572647094727,critic loss=-0.013093266636133194\n",
      "Epoch 32, gen loss=3.144096851348877,critic loss=-0.012963836081326008\n",
      "Epoch 33, gen loss=3.988429546356201,critic loss=-0.01515449583530426\n",
      "Epoch 34, gen loss=4.2903900146484375,critic loss=-0.013808663934469223\n",
      "Epoch 35, gen loss=4.021193504333496,critic loss=-0.01826103962957859\n",
      "Epoch 36, gen loss=3.553799629211426,critic loss=-0.015369800850749016\n",
      "Epoch 37, gen loss=4.247023582458496,critic loss=-0.01809392310678959\n",
      "Epoch 38, gen loss=4.35077428817749,critic loss=-0.018434591591358185\n",
      "Epoch 39, gen loss=4.544349193572998,critic loss=-0.019012654200196266\n",
      "Epoch 40, gen loss=4.95930290222168,critic loss=-0.017648333683609962\n",
      "Epoch 41, gen loss=5.082076072692871,critic loss=-0.018769655376672745\n",
      "Epoch 42, gen loss=5.337032794952393,critic loss=-0.01812242530286312\n",
      "Epoch 43, gen loss=5.31520938873291,critic loss=-0.018996911123394966\n",
      "Epoch 44, gen loss=5.064869403839111,critic loss=-0.02315637096762657\n",
      "Epoch 45, gen loss=5.335660457611084,critic loss=-0.021599719300866127\n",
      "Epoch 46, gen loss=5.216917037963867,critic loss=-0.022738590836524963\n",
      "Epoch 47, gen loss=4.785548686981201,critic loss=-0.022283973172307014\n",
      "Epoch 48, gen loss=3.56735897064209,critic loss=-0.022388191893696785\n",
      "Epoch 49, gen loss=3.2861437797546387,critic loss=-0.02304566279053688\n",
      "Epoch 50, gen loss=3.2883849143981934,critic loss=-0.025632407516241074\n"
     ]
    }
   ],
   "source": [
    "G_loss , C_loss = train(train_dataset,epochs)"
   ]
  },
  {
   "cell_type": "code",
   "execution_count": 273,
   "metadata": {
    "colab": {
     "base_uri": "https://localhost:8080/",
     "height": 282
    },
    "id": "5fBcOg-VZgIU",
    "outputId": "0c11079e-9303-474e-cbce-bdedbd14e871"
   },
   "outputs": [
    {
     "data": {
      "text/plain": [
       "<matplotlib.image.AxesImage at 0x7fba2de0d198>"
      ]
     },
     "execution_count": 273,
     "metadata": {
      "tags": []
     },
     "output_type": "execute_result"
    },
    {
     "data": {
      "image/png": "[encoded data removed]",
      "text/plain": [
       "<Figure size 432x288 with 1 Axes>"
      ]
     },
     "metadata": {
      "needs_background": "light",
      "tags": []
     },
     "output_type": "display_data"
    }
   ],
   "source": [
    "i = (gen(np.random.rand(1,64)).numpy().reshape(28,28) )\n",
    "plt.imshow(i*255,cmap=\"gray\")"
   ]
  },
  {
   "cell_type": "code",
   "execution_count": 278,
   "metadata": {
    "colab": {
     "base_uri": "https://localhost:8080/",
     "height": 364
    },
    "id": "AUTK9g98k0nV",
    "outputId": "d95b571b-0218-45e3-fc82-75ce334a7f9c"
   },
   "outputs": [
    {
     "data": {
      "image/png": "[encoded data removed]",
      "text/plain": [
       "<Figure size 720x576 with 10 Axes>"
      ]
     },
     "metadata": {
      "needs_background": "light",
      "tags": []
     },
     "output_type": "display_data"
    }
   ],
   "source": [
    "#mode collapse is not observed\n",
    "\n",
    "\n",
    "noises = np.random.rand(10,64)\n",
    "images = []\n",
    "for i in range(noises.shape[0]):\n",
    "    images.append((gen(noises[i].reshape(1,64)).numpy().reshape(28,28))*(255))\n",
    "\n",
    "fig , ax = plt.subplots(2,5 , figsize = (10,8))\n",
    "\n",
    "for j in range(2):\n",
    "  for i in range(5):\n",
    "    plt.sca(ax[j][i])\n",
    "    if j == 0:\n",
    "      plt.imshow(images[i] , cmap = \"gray\")\n",
    "    else:\n",
    "      plt.imshow(images[i+5],cmap = \"gray\")\n",
    "    plt.axis(\"off\")\n",
    "    "
   ]
  },
  {
   "cell_type": "code",
   "execution_count": 253,
   "metadata": {
    "colab": {
     "base_uri": "https://localhost:8080/",
     "height": 499
    },
    "id": "dSUSel_2k_Jg",
    "outputId": "34480549-276a-4db7-8181-5217304c3237"
   },
   "outputs": [
    {
     "data": {
      "image/png": "[encoded data removed]",
      "text/plain": [
       "<Figure size 720x576 with 1 Axes>"
      ]
     },
     "metadata": {
      "needs_background": "light",
      "tags": []
     },
     "output_type": "display_data"
    }
   ],
   "source": [
    "plt.figure(figsize=(10,8))\n",
    "plt.plot(G_loss , label = \"Generator loss\" , linewidth = 1.5)\n",
    "plt.plot(C_loss, label = \"Critic's loss\" , linewidth = 1.5)\n",
    "plt.legend()\n",
    "plt.title(\"Loss per Epoch\")\n",
    "plt.show()\n"
   ]
  },
  {
   "cell_type": "code",
   "execution_count": null,
   "metadata": {
    "id": "hrszMt_iyi12"
   },
   "outputs": [],
   "source": []
  }
 ],
 "metadata": {
  "accelerator": "GPU",
  "colab": {
   "collapsed_sections": [],
   "name": "WGAN.ipynb",
   "provenance": []
  },
  "kernelspec": {
   "display_name": "Python 3",
   "language": "python",
   "name": "python3"
  },
  "language_info": {
   "codemirror_mode": {
    "name": "ipython",
    "version": 3
   },
   "file_extension": ".py",
   "mimetype": "text/x-python",
   "name": "python",
   "nbconvert_exporter": "python",
   "pygments_lexer": "ipython3",
   "version": "3.8.5"
  }
 },
 "nbformat": 4,
 "nbformat_minor": 1
}

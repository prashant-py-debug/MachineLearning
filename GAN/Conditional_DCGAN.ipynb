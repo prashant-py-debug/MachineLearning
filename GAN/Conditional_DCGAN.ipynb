{
  "nbformat": 4,
  "nbformat_minor": 0,
  "metadata": {
    "accelerator": "GPU",
    "colab": {
      "name": "Conditional_DCGAN.ipynb",
      "provenance": [],
      "collapsed_sections": []
    },
    "kernelspec": {
      "display_name": "Python 3",
      "language": "python",
      "name": "python3"
    },
    "language_info": {
      "codemirror_mode": {
        "name": "ipython",
        "version": 3
      },
      "file_extension": ".py",
      "mimetype": "text/x-python",
      "name": "python",
      "nbconvert_exporter": "python",
      "pygments_lexer": "ipython3",
      "version": "3.8.5"
    }
  },
  "cells": [
    {
      "cell_type": "code",
      "metadata": {
        "id": "93Gvr8iS_0xU",
        "outputId": "97988dfa-979e-40db-a068-76a272f9d299",
        "colab": {
          "base_uri": "https://localhost:8080/",
          "height": 35
        }
      },
      "source": [
        "import tensorflow as tf\n",
        "import numpy as np\n",
        "import matplotlib.pyplot as plt\n",
        "import time\n",
        "tf.__version__"
      ],
      "execution_count": 35,
      "outputs": [
        {
          "output_type": "execute_result",
          "data": {
            "application/vnd.google.colaboratory.intrinsic+json": {
              "type": "string"
            },
            "text/plain": [
              "'2.3.0'"
            ]
          },
          "metadata": {
            "tags": []
          },
          "execution_count": 35
        }
      ]
    },
    {
      "cell_type": "code",
      "metadata": {
        "id": "lJ2gshhG_0xt"
      },
      "source": [
        "(x_train,y_train),(x_test,y_test) = tf.keras.datasets.mnist.load_data()\n",
        "train_images = x_train.reshape(x_train.shape[0],28,28,1).astype(\"float32\")\n",
        "train_images = train_images/255.0\n",
        "y_train = y_train.astype(\"float32\")\n",
        "y_train = tf.keras.utils.to_categorical(y_train,10)\n",
        "\n",
        "samples = 128\n",
        "\n",
        "train_dataset = tf.data.Dataset.from_tensor_slices((train_images , y_train)).batch(samples , drop_remainder = True)"
      ],
      "execution_count": 36,
      "outputs": []
    },
    {
      "cell_type": "code",
      "metadata": {
        "id": "JKXVWYdCkKCT",
        "outputId": "4954a5f1-c9bb-4895-cc6f-45a1c7c9cafc",
        "colab": {
          "base_uri": "https://localhost:8080/"
        }
      },
      "source": [
        "def combine_vectors(x,y):\n",
        "     #combining two vectors x,y \n",
        "\n",
        "     \n",
        "    combined = tf.concat([x,y] , axis = -1)\n",
        "    return combined\n",
        "\n",
        "#testing...\n",
        "noise = tf.random.normal([1,64])\n",
        "one_hot = tf.random.normal([1,10])\n",
        "test = combine_vectors(noise,one_hot)\n",
        "test.shape"
      ],
      "execution_count": 37,
      "outputs": [
        {
          "output_type": "execute_result",
          "data": {
            "text/plain": [
              "TensorShape([1, 74])"
            ]
          },
          "metadata": {
            "tags": []
          },
          "execution_count": 37
        }
      ]
    },
    {
      "cell_type": "code",
      "metadata": {
        "id": "7N32GcUqkKDz",
        "outputId": "cfc9f7ad-1391-45d3-afe0-5ccdeca4de98",
        "colab": {
          "base_uri": "https://localhost:8080/"
        }
      },
      "source": [
        "def embedded_channels(x,one_hot,n_classes): #[128,28,28,1]\n",
        "    #creating one_hot channels\n",
        "\n",
        "\n",
        "    batch,m,n,_ = x.shape\n",
        "    test_image = tf.repeat(one_hot,[m*n])\n",
        "    test_image = tf.reshape(test_image,[batch,28,28,n_classes])\n",
        "    test_image\n",
        "    \n",
        "    return test_image\n",
        "    \n",
        "#testing....\n",
        "image = tf.random.normal([128,28,28,1])\n",
        "one_hot = tf.random.normal([128,10])\n",
        "test = embedded_channels(image,one_hot,10)\n",
        "test.shape\n"
      ],
      "execution_count": 67,
      "outputs": [
        {
          "output_type": "execute_result",
          "data": {
            "text/plain": [
              "TensorShape([128, 28, 28, 10])"
            ]
          },
          "metadata": {
            "tags": []
          },
          "execution_count": 67
        }
      ]
    },
    {
      "cell_type": "code",
      "metadata": {
        "id": "xmu8PYC1_0x8"
      },
      "source": [
        "def get_noise(n_samples,z_dim):\n",
        "    #getting random noise vector for image generation\n",
        "\n",
        "    return tf.random.normal([n_samples,z_dim])"
      ],
      "execution_count": 39,
      "outputs": []
    },
    {
      "cell_type": "code",
      "metadata": {
        "id": "8g3Fqgis_0yK"
      },
      "source": [
        "def generator():\n",
        "    model = tf.keras.Sequential()\n",
        "    model.add(tf.keras.layers.Dense(7*7*256, use_bias=False, input_shape=(64+10,)))\n",
        "    model.add(tf.keras.layers.BatchNormalization())\n",
        "    model.add(tf.keras.layers.LeakyReLU())\n",
        "      \n",
        "    model.add(tf.keras.layers.Reshape((7, 7, 256)))\n",
        "    assert model.output_shape == (None, 7, 7, 256) # Note: None is the batch size\n",
        "    \n",
        "    model.add(tf.keras.layers.Conv2DTranspose(128, (5, 5), strides=(1, 1), padding='same', use_bias=False))\n",
        "    assert model.output_shape == (None, 7, 7, 128)  \n",
        "    model.add(tf.keras.layers.BatchNormalization())\n",
        "    model.add(tf.keras.layers.LeakyReLU())\n",
        "\n",
        "    model.add(tf.keras.layers.Conv2DTranspose(64, (5, 5), strides=(2, 2), padding='same', use_bias=False))\n",
        "    assert model.output_shape == (None, 14, 14, 64)    \n",
        "    model.add(tf.keras.layers.BatchNormalization())\n",
        "    model.add(tf.keras.layers.LeakyReLU())\n",
        "\n",
        "    model.add(tf.keras.layers.Conv2DTranspose(1, (5, 5), strides=(2, 2), padding='same', use_bias=False, activation='tanh'))\n",
        "    assert model.output_shape == (None, 28, 28, 1)\n",
        "  \n",
        "    return model\n",
        "        \n",
        "\n",
        "    "
      ],
      "execution_count": 40,
      "outputs": []
    },
    {
      "cell_type": "code",
      "metadata": {
        "id": "qR5XVB-b_0yY"
      },
      "source": [
        "def discriminator():\n",
        "    model = tf.keras.Sequential()\n",
        "    model.add(tf.keras.layers.Conv2D(64,(5,5), strides = (2,2) , padding = \"same\"  ,input_shape = (28,28,11)))\n",
        "    model.add(tf.keras.layers.BatchNormalization())\n",
        "    model.add(tf.keras.layers.LeakyReLU())\n",
        "    \n",
        "    \n",
        "    model.add(tf.keras.layers.Conv2D(128,(5,5), strides = (2,2) , padding = \"same\"))\n",
        "    model.add(tf.keras.layers.BatchNormalization())\n",
        "    model.add(tf.keras.layers.LeakyReLU())\n",
        "    \n",
        "    \n",
        "    model.add(tf.keras.layers.Flatten())\n",
        "    model.add(tf.keras.layers.Dense(1 , activation = \"sigmoid\" ))\n",
        "    \n",
        "    \n",
        "    return model\n"
      ],
      "execution_count": 41,
      "outputs": []
    },
    {
      "cell_type": "code",
      "metadata": {
        "id": "DMYn_h0h_0ym"
      },
      "source": [
        "gen = generator()\n",
        "disc = discriminator()\n",
        "bce = tf.losses.BinaryCrossentropy()"
      ],
      "execution_count": 42,
      "outputs": []
    },
    {
      "cell_type": "code",
      "metadata": {
        "id": "1RHNv5SZ_0yz"
      },
      "source": [
        "def gen_loss(fake_output):\n",
        "    \n",
        "    \n",
        "    return bce(tf.ones_like(fake_output) , fake_output )\n",
        "    \n",
        "    \n",
        "    \n",
        "    \n",
        "\n",
        "def disc_loss(fake_output,real_output):\n",
        "    \n",
        "    fake_loss = bce(tf.zeros_like(fake_output),fake_output)\n",
        "    real_loss = bce(tf.ones_like(real_output),real_output)\n",
        "    total_loss = (fake_loss + real_loss)\n",
        "    \n",
        "    \n",
        "    \n",
        "    return total_loss\n",
        "\n",
        "\n",
        "\n"
      ],
      "execution_count": 43,
      "outputs": []
    },
    {
      "cell_type": "code",
      "metadata": {
        "id": "wwYTeT2O_0zC"
      },
      "source": [
        "gen_optimizer = tf.optimizers.Adam(0.002,0.5,0.999)\n",
        "disc_optimizer = tf.optimizers.Adam(0.0002,0.5,0.999)\n"
      ],
      "execution_count": 44,
      "outputs": []
    },
    {
      "cell_type": "code",
      "metadata": {
        "id": "4DN0y_Hh_0zP"
      },
      "source": [
        "epochs = 50\n",
        "z_dim = 64\n",
        "n_classes = 10"
      ],
      "execution_count": 45,
      "outputs": []
    },
    {
      "cell_type": "code",
      "metadata": {
        "id": "encIP9mh_0zc"
      },
      "source": [
        "@tf.function\n",
        "def train_step(real_images , one_hot_y):\n",
        "    \n",
        "    \n",
        "    with tf.GradientTape() as gen_tape , tf.GradientTape() as disc_tape:\n",
        "        noise = get_noise(samples,z_dim)\n",
        "        embedded_noise = combine_vectors(noise,one_hot_y)\n",
        "        channels = embedded_channels(real_images,one_hot_y,n_classes)\n",
        "        embedded_image = combine_vectors(real_images,channels)\n",
        "        #####################################\n",
        "        fake_image = gen(embedded_noise , training = True)\n",
        "        fake_emb_image = combine_vectors(fake_image,channels)\n",
        "        fake_output = disc(fake_emb_image , training = True)\n",
        "        real_output = disc(embedded_image , training = True)\n",
        "    \n",
        "        ####################################\n",
        "\n",
        "        g_loss = gen_loss(fake_output)\n",
        "        d_loss = disc_loss(fake_output,real_output)\n",
        "        \n",
        "    gen_grad = gen_tape.gradient(g_loss , gen.trainable_variables)\n",
        "    gen_optimizer.apply_gradients(zip(gen_grad,gen.trainable_variables))\n",
        "        \n",
        "    disc_grad = disc_tape.gradient(d_loss , disc.trainable_variables)\n",
        "    disc_optimizer.apply_gradients(zip(disc_grad , disc.trainable_variables))\n",
        "    return g_loss ,d_loss  \n",
        "        \n",
        "        \n",
        "        \n",
        "    "
      ],
      "execution_count": 46,
      "outputs": []
    },
    {
      "cell_type": "code",
      "metadata": {
        "id": "aTDbdYpO_0zo"
      },
      "source": [
        "def train(dataset,epoch):\n",
        "    mean_gen_loss_list = []\n",
        "    mean_disc_loss_list = []\n",
        "\n",
        "    for epoch in range(epochs):\n",
        "        gen_loss_list = []\n",
        "        disc_loss_list = []\n",
        "        for image , y_hot in dataset:\n",
        "            \n",
        "            g_loss, d_loss , = train_step(image , y_hot)\n",
        "            \n",
        "            gen_loss_list.append(g_loss)\n",
        "            disc_loss_list.append(d_loss)\n",
        "            \n",
        "        mean_g_loss = sum(gen_loss_list)/len(gen_loss_list)\n",
        "        mean_d_loss = sum(disc_loss_list)/len(disc_loss_list)\n",
        "        mean_gen_loss_list.append(mean_g_loss)\n",
        "        mean_disc_loss_list.append(mean_d_loss)    \n",
        "            \n",
        "        print (f'Epoch {epoch+1}, gen loss={mean_g_loss},disc loss={mean_d_loss}')\n",
        "        \n",
        "    return mean_gen_loss_list , mean_disc_loss_list    \n",
        "        "
      ],
      "execution_count": 47,
      "outputs": []
    },
    {
      "cell_type": "code",
      "metadata": {
        "id": "hs7bZSO3_0z2",
        "outputId": "0934249a-32a2-40de-fdc7-8aa037d183d9",
        "colab": {
          "base_uri": "https://localhost:8080/"
        }
      },
      "source": [
        "G_loss , D_loss = train(train_dataset,epochs)"
      ],
      "execution_count": 48,
      "outputs": [
        {
          "output_type": "stream",
          "text": [
            "Epoch 1, gen loss=0.6142616868019104,disc loss=1.6009879112243652\n",
            "Epoch 2, gen loss=0.6875748038291931,disc loss=1.3986800909042358\n",
            "Epoch 3, gen loss=0.6929887533187866,disc loss=1.387782335281372\n",
            "Epoch 4, gen loss=0.7133200764656067,disc loss=1.363207459449768\n",
            "Epoch 5, gen loss=0.7968214750289917,disc loss=1.2832533121109009\n",
            "Epoch 6, gen loss=1.0036646127700806,disc loss=1.0703314542770386\n",
            "Epoch 7, gen loss=1.216791033744812,disc loss=0.878300130367279\n",
            "Epoch 8, gen loss=1.4847126007080078,disc loss=0.6974454522132874\n",
            "Epoch 9, gen loss=1.7026333808898926,disc loss=0.5687386989593506\n",
            "Epoch 10, gen loss=1.9175283908843994,disc loss=0.4732576012611389\n",
            "Epoch 11, gen loss=1.9808180332183838,disc loss=0.4585741460323334\n",
            "Epoch 12, gen loss=2.260652542114258,disc loss=0.3743920624256134\n",
            "Epoch 13, gen loss=2.3289237022399902,disc loss=0.33025458455085754\n",
            "Epoch 14, gen loss=2.318223237991333,disc loss=0.3577669560909271\n",
            "Epoch 15, gen loss=2.5165536403656006,disc loss=0.3063790500164032\n",
            "Epoch 16, gen loss=2.4357783794403076,disc loss=0.34028610587120056\n",
            "Epoch 17, gen loss=2.620830535888672,disc loss=0.28153568506240845\n",
            "Epoch 18, gen loss=2.540569305419922,disc loss=0.3169291317462921\n",
            "Epoch 19, gen loss=2.823850393295288,disc loss=0.2442314624786377\n",
            "Epoch 20, gen loss=2.6928207874298096,disc loss=0.2758224308490753\n",
            "Epoch 21, gen loss=2.895871639251709,disc loss=0.2430334985256195\n",
            "Epoch 22, gen loss=2.8273494243621826,disc loss=0.267558753490448\n",
            "Epoch 23, gen loss=2.867856740951538,disc loss=0.2415699064731598\n",
            "Epoch 24, gen loss=2.9506945610046387,disc loss=0.21916958689689636\n",
            "Epoch 25, gen loss=3.075319290161133,disc loss=0.20897366106510162\n",
            "Epoch 26, gen loss=3.149972438812256,disc loss=0.2017534375190735\n",
            "Epoch 27, gen loss=2.8636040687561035,disc loss=0.2824500501155853\n",
            "Epoch 28, gen loss=3.138760566711426,disc loss=0.21084848046302795\n",
            "Epoch 29, gen loss=2.9937329292297363,disc loss=0.23683485388755798\n",
            "Epoch 30, gen loss=3.1613030433654785,disc loss=0.2060312181711197\n",
            "Epoch 31, gen loss=3.155302047729492,disc loss=0.24170494079589844\n",
            "Epoch 32, gen loss=3.1394577026367188,disc loss=0.19637586176395416\n",
            "Epoch 33, gen loss=3.159229040145874,disc loss=0.22662854194641113\n",
            "Epoch 34, gen loss=3.1476314067840576,disc loss=0.21580475568771362\n",
            "Epoch 35, gen loss=3.2753474712371826,disc loss=0.17699921131134033\n",
            "Epoch 36, gen loss=3.554497718811035,disc loss=0.15587523579597473\n",
            "Epoch 37, gen loss=3.536027669906616,disc loss=0.15088316798210144\n",
            "Epoch 38, gen loss=3.2085132598876953,disc loss=0.24918828904628754\n",
            "Epoch 39, gen loss=3.3381688594818115,disc loss=0.18558086454868317\n",
            "Epoch 40, gen loss=3.3242974281311035,disc loss=0.1781657338142395\n",
            "Epoch 41, gen loss=3.383023500442505,disc loss=0.1876511573791504\n",
            "Epoch 42, gen loss=3.3310232162475586,disc loss=0.19740281999111176\n",
            "Epoch 43, gen loss=3.227553606033325,disc loss=0.22574661672115326\n",
            "Epoch 44, gen loss=3.2473032474517822,disc loss=0.21437978744506836\n",
            "Epoch 45, gen loss=3.51468563079834,disc loss=0.1521948277950287\n",
            "Epoch 46, gen loss=3.541954517364502,disc loss=0.15131524205207825\n",
            "Epoch 47, gen loss=3.572300910949707,disc loss=0.18588775396347046\n",
            "Epoch 48, gen loss=3.5978753566741943,disc loss=0.14010511338710785\n",
            "Epoch 49, gen loss=3.58906888961792,disc loss=0.15330109000205994\n",
            "Epoch 50, gen loss=3.563187837600708,disc loss=0.171754390001297\n"
          ],
          "name": "stdout"
        }
      ]
    },
    {
      "cell_type": "code",
      "metadata": {
        "id": "43nK17OQ_00D",
        "outputId": "0f8c72eb-731d-42b9-de63-9d2cff7b6c60",
        "colab": {
          "base_uri": "https://localhost:8080/",
          "height": 282
        }
      },
      "source": [
        "noise = tf.random.normal([1,64])\n",
        "digit_hot_vector = np.array([0,0,0,1,0,0,0,0,0,0]).reshape(1,10)\n",
        "\n",
        "embedded_noise = combine_vectors(noise,digit_hot_vector)\n",
        "test_image = gen(embedded_noise).numpy()\n",
        "\n",
        "image = test_image.reshape(28,28)\n",
        "plt.imshow(image*255,cmap=\"gray\")"
      ],
      "execution_count": 51,
      "outputs": [
        {
          "output_type": "execute_result",
          "data": {
            "text/plain": [
              "<matplotlib.image.AxesImage at 0x7f7e902a45c0>"
            ]
          },
          "metadata": {
            "tags": []
          },
          "execution_count": 51
        },
        {
          "output_type": "display_data",
          "data": {
            "image/png": "[encoded data removed]",
            "text/plain": [
              "<Figure size 432x288 with 1 Axes>"
            ]
          },
          "metadata": {
            "tags": [],
            "needs_background": "light"
          }
        }
      ]
    },
    {
      "cell_type": "code",
      "metadata": {
        "id": "RyGeBeUY_00P",
        "outputId": "e574415f-9819-4f66-818c-2a63b4c4d625",
        "colab": {
          "base_uri": "https://localhost:8080/",
          "height": 381
        }
      },
      "source": [
        "\n",
        "noises = np.random.rand(10,64)\n",
        "digits = np.array([0,1,2,3,4,5,6,7,8,9])\n",
        "one_hot_vectors = tf.keras.utils.to_categorical(digits , 10)\n",
        "emb_noise = combine_vectors(noises , one_hot_vectors) \n",
        "print(\"shape of embedded noise vector:\",emb_noise.shape)\n",
        "images = gen(emb_noise).numpy().reshape(10,28,28)\n",
        "\n",
        "\n",
        "fig , ax = plt.subplots(2,5 , figsize = (10,8))\n",
        "\n",
        "for j in range(2):\n",
        "  for i in range(5):\n",
        "    plt.sca(ax[j][i])\n",
        "    if j == 0:\n",
        "      plt.imshow(images[i] , cmap = \"gray\")\n",
        "    else:\n",
        "      plt.imshow(images[i+5],cmap = \"gray\")\n",
        "    plt.axis(\"off\")\n",
        "    "
      ],
      "execution_count": 65,
      "outputs": [
        {
          "output_type": "stream",
          "text": [
            "shape of embedded noise vector: (10, 74)\n"
          ],
          "name": "stdout"
        },
        {
          "output_type": "display_data",
          "data": {
            "image/png": "[encoded data removed]",
            "text/plain": [
              "<Figure size 720x576 with 10 Axes>"
            ]
          },
          "metadata": {
            "tags": [],
            "needs_background": "light"
          }
        }
      ]
    },
    {
      "cell_type": "code",
      "metadata": {
        "id": "3FVx_GUK_00d",
        "outputId": "caa5c8d0-979d-4101-e710-8a718e41fd83",
        "colab": {
          "base_uri": "https://localhost:8080/",
          "height": 499
        }
      },
      "source": [
        "plt.figure(figsize=(10,8))\n",
        "plt.plot(G_loss , label = \"Generator loss\" , linewidth = 1.5)\n",
        "plt.plot(D_loss, label = \"discriminator loss\" , linewidth = 1.5)\n",
        "plt.legend()\n",
        "plt.title(\"Loss per Epoch\")\n",
        "plt.show()\n",
        "\n",
        "    \n"
      ],
      "execution_count": 66,
      "outputs": [
        {
          "output_type": "display_data",
          "data": {
            "image/png": "[encoded data removed]",
            "text/plain": [
              "<Figure size 720x576 with 1 Axes>"
            ]
          },
          "metadata": {
            "tags": [],
            "needs_background": "light"
          }
        }
      ]
    },
    {
      "cell_type": "code",
      "metadata": {
        "id": "vr9S666dkKMa"
      },
      "source": [
        ""
      ],
      "execution_count": null,
      "outputs": []
    }
  ]
}
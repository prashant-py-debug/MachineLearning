{
  "nbformat": 4,
  "nbformat_minor": 0,
  "metadata": {
    "kernelspec": {
      "display_name": "Python 3",
      "language": "python",
      "name": "python3"
    },
    "language_info": {
      "codemirror_mode": {
        "name": "ipython",
        "version": 3
      },
      "file_extension": ".py",
      "mimetype": "text/x-python",
      "name": "python",
      "nbconvert_exporter": "python",
      "pygments_lexer": "ipython3",
      "version": "3.8.5"
    },
    "colab": {
      "name": "DCGAN.ipynb",
      "provenance": [],
      "collapsed_sections": []
    },
    "accelerator": "GPU"
  },
  "cells": [
    {
      "cell_type": "code",
      "metadata": {
        "id": "93Gvr8iS_0xU",
        "outputId": "4adabe3b-e7a3-4900-a9da-768dded271dd",
        "colab": {
          "base_uri": "https://localhost:8080/",
          "height": 35
        }
      },
      "source": [
        "import tensorflow as tf\n",
        "import numpy as np\n",
        "import matplotlib.pyplot as plt\n",
        "import time\n",
        "tf.__version__"
      ],
      "execution_count": 2,
      "outputs": [
        {
          "output_type": "execute_result",
          "data": {
            "application/vnd.google.colaboratory.intrinsic+json": {
              "type": "string"
            },
            "text/plain": [
              "'2.3.0'"
            ]
          },
          "metadata": {
            "tags": []
          },
          "execution_count": 2
        }
      ]
    },
    {
      "cell_type": "code",
      "metadata": {
        "id": "lJ2gshhG_0xt"
      },
      "source": [
        "(x_train,y_train),(x_test,y_test) = tf.keras.datasets.mnist.load_data()\n",
        "train_images = x_train.reshape(x_train.shape[0],28,28,1).astype(\"float32\")\n",
        "train_images = train_images/255.0\n",
        "\n",
        "samples = 128\n",
        "\n",
        "train_dataset = tf.data.Dataset.from_tensor_slices((train_images)).batch(samples)"
      ],
      "execution_count": 67,
      "outputs": []
    },
    {
      "cell_type": "code",
      "metadata": {
        "id": "xmu8PYC1_0x8"
      },
      "source": [
        "def get_noise(n_samples,z_dim):\n",
        "    return tf.random.normal([n_samples,z_dim])"
      ],
      "execution_count": 68,
      "outputs": []
    },
    {
      "cell_type": "code",
      "metadata": {
        "id": "8g3Fqgis_0yK"
      },
      "source": [
        "def generator():\n",
        "    model = tf.keras.Sequential()\n",
        "    model.add(tf.keras.layers.Dense(7*7*256, use_bias=False, input_shape=(64,)))\n",
        "    model.add(tf.keras.layers.BatchNormalization())\n",
        "    model.add(tf.keras.layers.LeakyReLU())\n",
        "      \n",
        "    model.add(tf.keras.layers.Reshape((7, 7, 256)))\n",
        "    assert model.output_shape == (None, 7, 7, 256) # Note: None is the batch size\n",
        "    \n",
        "    model.add(tf.keras.layers.Conv2DTranspose(128, (5, 5), strides=(1, 1), padding='same', use_bias=False))\n",
        "    assert model.output_shape == (None, 7, 7, 128)  \n",
        "    model.add(tf.keras.layers.BatchNormalization())\n",
        "    model.add(tf.keras.layers.LeakyReLU())\n",
        "\n",
        "    model.add(tf.keras.layers.Conv2DTranspose(64, (5, 5), strides=(2, 2), padding='same', use_bias=False))\n",
        "    assert model.output_shape == (None, 14, 14, 64)    \n",
        "    model.add(tf.keras.layers.BatchNormalization())\n",
        "    model.add(tf.keras.layers.LeakyReLU())\n",
        "\n",
        "    model.add(tf.keras.layers.Conv2DTranspose(1, (5, 5), strides=(2, 2), padding='same', use_bias=False, activation='tanh'))\n",
        "    assert model.output_shape == (None, 28, 28, 1)\n",
        "  \n",
        "    return model\n",
        "        \n",
        "\n",
        "    "
      ],
      "execution_count": 69,
      "outputs": []
    },
    {
      "cell_type": "code",
      "metadata": {
        "id": "qR5XVB-b_0yY"
      },
      "source": [
        "def discriminator():\n",
        "    model = tf.keras.Sequential()\n",
        "    model.add(tf.keras.layers.Conv2D(64,(5,5), strides = (2,2) , padding = \"same\"  ,input_shape = (28,28,1)))\n",
        "    model.add(tf.keras.layers.BatchNormalization())\n",
        "    model.add(tf.keras.layers.LeakyReLU())\n",
        "    \n",
        "    \n",
        "    model.add(tf.keras.layers.Conv2D(128,(5,5), strides = (2,2) , padding = \"same\"))\n",
        "    model.add(tf.keras.layers.BatchNormalization())\n",
        "    model.add(tf.keras.layers.LeakyReLU())\n",
        "    \n",
        "    \n",
        "    model.add(tf.keras.layers.Flatten())\n",
        "    model.add(tf.keras.layers.Dense(1 , activation = \"sigmoid\" ))\n",
        "    \n",
        "    \n",
        "    return model\n"
      ],
      "execution_count": 70,
      "outputs": []
    },
    {
      "cell_type": "code",
      "metadata": {
        "id": "DMYn_h0h_0ym"
      },
      "source": [
        "gen = generator()\n",
        "disc = discriminator()\n",
        "bce = tf.losses.BinaryCrossentropy()"
      ],
      "execution_count": 71,
      "outputs": []
    },
    {
      "cell_type": "code",
      "metadata": {
        "id": "1RHNv5SZ_0yz"
      },
      "source": [
        "def gen_loss(fake_output):\n",
        "    \n",
        "    \n",
        "    return bce(tf.ones_like(fake_output) , fake_output )\n",
        "    \n",
        "    \n",
        "    \n",
        "    \n",
        "\n",
        "def disc_loss(fake_output,real_output):\n",
        "    \n",
        "    fake_loss = bce(tf.zeros_like(fake_output),fake_output)\n",
        "    real_loss = bce(tf.ones_like(real_output),real_output)\n",
        "    total_loss = (fake_loss + real_loss)\n",
        "    \n",
        "    \n",
        "    \n",
        "    return total_loss\n",
        "\n",
        "\n",
        "\n"
      ],
      "execution_count": 72,
      "outputs": []
    },
    {
      "cell_type": "code",
      "metadata": {
        "id": "wwYTeT2O_0zC"
      },
      "source": [
        "gen_optimizer = tf.optimizers.Adam(0.002,0.5,0.999)\n",
        "disc_optimizer = tf.optimizers.Adam(0.0002,0.5,0.999)\n"
      ],
      "execution_count": 73,
      "outputs": []
    },
    {
      "cell_type": "code",
      "metadata": {
        "id": "4DN0y_Hh_0zP"
      },
      "source": [
        "epochs = 50\n",
        "z_dim = 64\n"
      ],
      "execution_count": 74,
      "outputs": []
    },
    {
      "cell_type": "code",
      "metadata": {
        "id": "encIP9mh_0zc"
      },
      "source": [
        "@tf.function\n",
        "def train_step(real_images):\n",
        "    \n",
        "    \n",
        "    with tf.GradientTape() as gen_tape , tf.GradientTape() as disc_tape:\n",
        "        noise = get_noise(samples,z_dim)\n",
        "        fake_image = gen(noise , training = True)\n",
        "        fake_output = disc(fake_image , training = True)\n",
        "        real_output = disc(real_images , training = True)\n",
        "    \n",
        "        ####################################\n",
        "\n",
        "        g_loss = gen_loss(fake_output)\n",
        "        d_loss = disc_loss(fake_output,real_output)\n",
        "        \n",
        "    gen_grad = gen_tape.gradient(g_loss , gen.trainable_variables)\n",
        "    gen_optimizer.apply_gradients(zip(gen_grad,gen.trainable_variables))\n",
        "        \n",
        "    disc_grad = disc_tape.gradient(d_loss , disc.trainable_variables)\n",
        "    disc_optimizer.apply_gradients(zip(disc_grad , disc.trainable_variables))\n",
        "    return g_loss ,d_loss  \n",
        "        \n",
        "        \n",
        "        \n",
        "    "
      ],
      "execution_count": 75,
      "outputs": []
    },
    {
      "cell_type": "code",
      "metadata": {
        "id": "aTDbdYpO_0zo"
      },
      "source": [
        "def train(dataset,epoch):\n",
        "    mean_gen_loss_list = []\n",
        "    mean_disc_loss_list = []\n",
        "\n",
        "    for epoch in range(epochs):\n",
        "        gen_loss_list = []\n",
        "        disc_loss_list = []\n",
        "        for image in dataset:\n",
        "            \n",
        "            g_loss, d_loss , = train_step(image)\n",
        "            \n",
        "            gen_loss_list.append(g_loss)\n",
        "            disc_loss_list.append(d_loss)\n",
        "            \n",
        "        mean_g_loss = sum(gen_loss_list)/len(gen_loss_list)\n",
        "        mean_d_loss = sum(disc_loss_list)/len(disc_loss_list)\n",
        "        mean_gen_loss_list.append(mean_g_loss)\n",
        "        mean_disc_loss_list.append(mean_d_loss)    \n",
        "            \n",
        "        print (f'Epoch {epoch+1}, gen loss={mean_g_loss},disc loss={mean_d_loss}')\n",
        "        \n",
        "    return mean_gen_loss_list , mean_disc_loss_list    \n",
        "        "
      ],
      "execution_count": 76,
      "outputs": []
    },
    {
      "cell_type": "code",
      "metadata": {
        "id": "hs7bZSO3_0z2",
        "outputId": "2a7a1fc1-63a9-41dd-f434-d621b1e124da",
        "colab": {
          "base_uri": "https://localhost:8080/"
        }
      },
      "source": [
        "G_loss , D_loss = train(train_dataset,epochs)"
      ],
      "execution_count": 77,
      "outputs": [
        {
          "output_type": "stream",
          "text": [
            "Epoch 1, gen loss=0.8266943097114563,disc loss=1.3481650352478027\n",
            "Epoch 2, gen loss=1.3724207878112793,disc loss=0.7632327675819397\n",
            "Epoch 3, gen loss=1.6124972105026245,disc loss=0.6658332943916321\n",
            "Epoch 4, gen loss=1.7789520025253296,disc loss=0.6094807982444763\n",
            "Epoch 5, gen loss=1.8789514303207397,disc loss=0.5867072343826294\n",
            "Epoch 6, gen loss=1.9360902309417725,disc loss=0.5781580805778503\n",
            "Epoch 7, gen loss=1.8794550895690918,disc loss=0.6442098617553711\n",
            "Epoch 8, gen loss=1.9544802904129028,disc loss=0.5946199893951416\n",
            "Epoch 9, gen loss=2.040926456451416,disc loss=0.5824657082557678\n",
            "Epoch 10, gen loss=1.984800934791565,disc loss=0.6254510879516602\n",
            "Epoch 11, gen loss=2.0101935863494873,disc loss=0.6287686228752136\n",
            "Epoch 12, gen loss=2.1331357955932617,disc loss=0.5542134642601013\n",
            "Epoch 13, gen loss=2.100367784500122,disc loss=0.5868800282478333\n",
            "Epoch 14, gen loss=2.1060097217559814,disc loss=0.5741260647773743\n",
            "Epoch 15, gen loss=2.295571804046631,disc loss=0.5055147409439087\n",
            "Epoch 16, gen loss=2.129899024963379,disc loss=0.6010971069335938\n",
            "Epoch 17, gen loss=2.2796378135681152,disc loss=0.5015736222267151\n",
            "Epoch 18, gen loss=2.2988028526306152,disc loss=0.5200282335281372\n",
            "Epoch 19, gen loss=2.2810041904449463,disc loss=0.5471672415733337\n",
            "Epoch 20, gen loss=2.3647570610046387,disc loss=0.47255605459213257\n",
            "Epoch 21, gen loss=2.3761353492736816,disc loss=0.5233357548713684\n",
            "Epoch 22, gen loss=2.348736047744751,disc loss=0.5204948782920837\n",
            "Epoch 23, gen loss=2.4842488765716553,disc loss=0.4627685248851776\n",
            "Epoch 24, gen loss=2.5887527465820312,disc loss=0.42531847953796387\n",
            "Epoch 25, gen loss=2.445405960083008,disc loss=0.5433998107910156\n",
            "Epoch 26, gen loss=2.5246729850769043,disc loss=0.4545491337776184\n",
            "Epoch 27, gen loss=2.62161922454834,disc loss=0.43693873286247253\n",
            "Epoch 28, gen loss=2.63411283493042,disc loss=0.4713470935821533\n",
            "Epoch 29, gen loss=2.6938283443450928,disc loss=0.41508522629737854\n",
            "Epoch 30, gen loss=2.725313901901245,disc loss=0.4340788722038269\n",
            "Epoch 31, gen loss=2.432203531265259,disc loss=0.5807446837425232\n",
            "Epoch 32, gen loss=2.7916014194488525,disc loss=0.3962782025337219\n",
            "Epoch 33, gen loss=2.7291061878204346,disc loss=0.40731173753738403\n",
            "Epoch 34, gen loss=2.5953540802001953,disc loss=0.49825146794319153\n",
            "Epoch 35, gen loss=2.7926790714263916,disc loss=0.4094492793083191\n",
            "Epoch 36, gen loss=2.7991373538970947,disc loss=0.41467079520225525\n",
            "Epoch 37, gen loss=2.942502021789551,disc loss=0.3456299901008606\n",
            "Epoch 38, gen loss=2.773191213607788,disc loss=0.4651055335998535\n",
            "Epoch 39, gen loss=2.974766731262207,disc loss=0.3650771975517273\n",
            "Epoch 40, gen loss=2.913058280944824,disc loss=0.41005998849868774\n",
            "Epoch 41, gen loss=2.9601657390594482,disc loss=0.41245925426483154\n",
            "Epoch 42, gen loss=3.071920394897461,disc loss=0.31135231256484985\n",
            "Epoch 43, gen loss=3.112335205078125,disc loss=0.3471144735813141\n",
            "Epoch 44, gen loss=2.6898910999298096,disc loss=0.590569794178009\n",
            "Epoch 45, gen loss=3.0669784545898438,disc loss=0.3507847785949707\n",
            "Epoch 46, gen loss=3.1262741088867188,disc loss=0.34094130992889404\n",
            "Epoch 47, gen loss=3.0393924713134766,disc loss=0.38869911432266235\n",
            "Epoch 48, gen loss=3.0712831020355225,disc loss=0.34925711154937744\n",
            "Epoch 49, gen loss=3.0324156284332275,disc loss=0.3983094096183777\n",
            "Epoch 50, gen loss=2.7814443111419678,disc loss=0.6279533505439758\n"
          ],
          "name": "stdout"
        }
      ]
    },
    {
      "cell_type": "code",
      "metadata": {
        "id": "43nK17OQ_00D",
        "outputId": "a1ab908c-3428-434f-fcf4-060304eef870",
        "colab": {
          "base_uri": "https://localhost:8080/",
          "height": 282
        }
      },
      "source": [
        "i = (gen(np.random.rand(1,64)).numpy().reshape(28,28) )\n",
        "plt.imshow(i*255,cmap=\"gray\")"
      ],
      "execution_count": 78,
      "outputs": [
        {
          "output_type": "execute_result",
          "data": {
            "text/plain": [
              "<matplotlib.image.AxesImage at 0x7f472ea1d7f0>"
            ]
          },
          "metadata": {
            "tags": []
          },
          "execution_count": 78
        },
        {
          "output_type": "display_data",
          "data": {
            "image/png": "[encoded data removed]",
            "text/plain": [
              "<Figure size 432x288 with 1 Axes>"
            ]
          },
          "metadata": {
            "tags": [],
            "needs_background": "light"
          }
        }
      ]
    },
    {
      "cell_type": "code",
      "metadata": {
        "id": "RyGeBeUY_00P",
        "outputId": "87883407-9e73-4121-a246-9a5a281e9e5a",
        "colab": {
          "base_uri": "https://localhost:8080/",
          "height": 364
        }
      },
      "source": [
        "#mode collapse is happening\n",
        "noises = np.random.rand(10,64)\n",
        "images = []\n",
        "for i in range(noises.shape[0]):\n",
        "    images.append((gen(noises[i].reshape(1,64)).numpy().reshape(28,28))*(255))\n",
        "\n",
        "fig , ax = plt.subplots(2,5 , figsize = (10,8))\n",
        "\n",
        "for j in range(2):\n",
        "  for i in range(5):\n",
        "    plt.sca(ax[j][i])\n",
        "    if j == 0:\n",
        "      plt.imshow(images[i] , cmap = \"gray\")\n",
        "    else:\n",
        "      plt.imshow(images[i+5],cmap = \"gray\")\n",
        "    plt.axis(\"off\")\n",
        "    "
      ],
      "execution_count": 79,
      "outputs": [
        {
          "output_type": "display_data",
          "data": {
            "image/png": "[encoded data removed]",
            "text/plain": [
              "<Figure size 720x576 with 10 Axes>"
            ]
          },
          "metadata": {
            "tags": [],
            "needs_background": "light"
          }
        }
      ]
    },
    {
      "cell_type": "code",
      "metadata": {
        "id": "3FVx_GUK_00d",
        "outputId": "f5cf9d08-43e1-4e4d-887a-a901ce188b4a",
        "colab": {
          "base_uri": "https://localhost:8080/",
          "height": 499
        }
      },
      "source": [
        "plt.figure(figsize=(10,8))\n",
        "plt.plot(G_loss , label = \"Generator loss\" , linewidth = 1.5)\n",
        "plt.plot(D_loss, label = \"discriminator loss\" , linewidth = 1.5)\n",
        "plt.legend()\n",
        "plt.title(\"Loss per Epoch\")\n",
        "plt.show()\n",
        "\n",
        "    \n"
      ],
      "execution_count": 83,
      "outputs": [
        {
          "output_type": "display_data",
          "data": {
            "image/png": "[encoded data removed]",
            "text/plain": [
              "<Figure size 720x576 with 1 Axes>"
            ]
          },
          "metadata": {
            "tags": [],
            "needs_background": "light"
          }
        }
      ]
    },
    {
      "cell_type": "code",
      "metadata": {
        "id": "aSSCupO8Q61x"
      },
      "source": [
        ""
      ],
      "execution_count": null,
      "outputs": []
    }
  ]
}
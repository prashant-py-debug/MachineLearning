{
 "cells": [
  {
   "cell_type": "markdown",
   "metadata": {
    "application/vnd.databricks.v1+cell": {
     "inputWidgets": {},
     "nuid": "96816ed7-b08a-4ca3-abb9-f99880c3535d",
     "showTitle": false,
     "title": ""
    }
   },
   "source": [
    "## Overview\n",
    "\n",
    "This notebook will show you how to create and query a table or DataFrame that you uploaded to DBFS. [DBFS](https://docs.databricks.com/user-guide/dbfs-databricks-file-system.html) is a Databricks File System that allows you to store data for querying inside of Databricks. This notebook assumes that you have a file already inside of DBFS that you would like to read from.\n",
    "\n",
    "This notebook is written in **Python** so the default cell type is Python. However, you can use different languages by using the `%LANGUAGE` syntax. Python, Scala, SQL, and R are all supported."
   ]
  },
  {
   "cell_type": "code",
   "execution_count": 0,
   "metadata": {
    "application/vnd.databricks.v1+cell": {
     "inputWidgets": {},
     "nuid": "6482be4c-f067-47c9-b0ac-35c938b94601",
     "showTitle": false,
     "title": ""
    }
   },
   "outputs": [
    {
     "data": {
      "text/html": [
       "<style scoped>\n",
       "  .table-result-container {\n",
       "    max-height: 300px;\n",
       "    overflow: auto;\n",
       "  }\n",
       "  table, th, td {\n",
       "    border: 1px solid black;\n",
       "    border-collapse: collapse;\n",
       "  }\n",
       "  th, td {\n",
       "    padding: 5px;\n",
       "  }\n",
       "  th {\n",
       "    text-align: left;\n",
       "  }\n",
       "</style><div class='table-result-container'><table class='table-result'><thead style='background-color: white'><tr><th>customerID</th><th>gender</th><th>SeniorCitizen</th><th>Partner</th><th>Dependents</th><th>tenure</th><th>PhoneService</th><th>MultipleLines</th><th>InternetService</th><th>OnlineSecurity</th><th>OnlineBackup</th><th>DeviceProtection</th><th>TechSupport</th><th>StreamingTV</th><th>StreamingMovies</th><th>Contract</th><th>PaperlessBilling</th><th>PaymentMethod</th><th>MonthlyCharges</th><th>TotalCharges</th><th>Churn</th></tr></thead><tbody><tr><td>7590-VHVEG</td><td>Female</td><td>0</td><td>Yes</td><td>No</td><td>1</td><td>No</td><td>No phone service</td><td>DSL</td><td>No</td><td>Yes</td><td>No</td><td>No</td><td>No</td><td>No</td><td>Month-to-month</td><td>Yes</td><td>Electronic check</td><td>29.85</td><td>29.85</td><td>No</td></tr><tr><td>5575-GNVDE</td><td>Male</td><td>0</td><td>No</td><td>No</td><td>34</td><td>Yes</td><td>No</td><td>DSL</td><td>Yes</td><td>No</td><td>Yes</td><td>No</td><td>No</td><td>No</td><td>One year</td><td>No</td><td>Mailed check</td><td>56.95</td><td>1889.5</td><td>No</td></tr><tr><td>3668-QPYBK</td><td>Male</td><td>0</td><td>No</td><td>No</td><td>2</td><td>Yes</td><td>No</td><td>DSL</td><td>Yes</td><td>Yes</td><td>No</td><td>No</td><td>No</td><td>No</td><td>Month-to-month</td><td>Yes</td><td>Mailed check</td><td>53.85</td><td>108.15</td><td>Yes</td></tr><tr><td>7795-CFOCW</td><td>Male</td><td>0</td><td>No</td><td>No</td><td>45</td><td>No</td><td>No phone service</td><td>DSL</td><td>Yes</td><td>No</td><td>Yes</td><td>Yes</td><td>No</td><td>No</td><td>One year</td><td>No</td><td>Bank transfer (automatic)</td><td>42.3</td><td>1840.75</td><td>No</td></tr><tr><td>9237-HQITU</td><td>Female</td><td>0</td><td>No</td><td>No</td><td>2</td><td>Yes</td><td>No</td><td>Fiber optic</td><td>No</td><td>No</td><td>No</td><td>No</td><td>No</td><td>No</td><td>Month-to-month</td><td>Yes</td><td>Electronic check</td><td>70.7</td><td>151.65</td><td>Yes</td></tr></tbody></table></div>"
      ]
     },
     "metadata": {
      "application/vnd.databricks.v1+output": {
       "addedWidgets": {},
       "aggData": [],
       "aggError": "",
       "aggOverflow": false,
       "aggSchema": [],
       "aggSeriesLimitReached": false,
       "aggType": "",
       "arguments": {},
       "columnCustomDisplayInfos": {},
       "data": [
        [
         "7590-VHVEG",
         "Female",
         0,
         "Yes",
         "No",
         1,
         "No",
         "No phone service",
         "DSL",
         "No",
         "Yes",
         "No",
         "No",
         "No",
         "No",
         "Month-to-month",
         "Yes",
         "Electronic check",
         29.85,
         "29.85",
         "No"
        ],
        [
         "5575-GNVDE",
         "Male",
         0,
         "No",
         "No",
         34,
         "Yes",
         "No",
         "DSL",
         "Yes",
         "No",
         "Yes",
         "No",
         "No",
         "No",
         "One year",
         "No",
         "Mailed check",
         56.95,
         "1889.5",
         "No"
        ],
        [
         "3668-QPYBK",
         "Male",
         0,
         "No",
         "No",
         2,
         "Yes",
         "No",
         "DSL",
         "Yes",
         "Yes",
         "No",
         "No",
         "No",
         "No",
         "Month-to-month",
         "Yes",
         "Mailed check",
         53.85,
         "108.15",
         "Yes"
        ],
        [
         "7795-CFOCW",
         "Male",
         0,
         "No",
         "No",
         45,
         "No",
         "No phone service",
         "DSL",
         "Yes",
         "No",
         "Yes",
         "Yes",
         "No",
         "No",
         "One year",
         "No",
         "Bank transfer (automatic)",
         42.3,
         "1840.75",
         "No"
        ],
        [
         "9237-HQITU",
         "Female",
         0,
         "No",
         "No",
         2,
         "Yes",
         "No",
         "Fiber optic",
         "No",
         "No",
         "No",
         "No",
         "No",
         "No",
         "Month-to-month",
         "Yes",
         "Electronic check",
         70.7,
         "151.65",
         "Yes"
        ]
       ],
       "datasetInfos": [],
       "dbfsResultPath": null,
       "isJsonSchema": true,
       "metadata": {},
       "overflow": false,
       "plotOptions": {
        "customPlotOptions": {},
        "displayType": "table",
        "pivotAggregation": null,
        "pivotColumns": null,
        "xColumns": null,
        "yColumns": null
       },
       "removedWidgets": [],
       "schema": [
        {
         "metadata": "{}",
         "name": "customerID",
         "type": "\"string\""
        },
        {
         "metadata": "{}",
         "name": "gender",
         "type": "\"string\""
        },
        {
         "metadata": "{}",
         "name": "SeniorCitizen",
         "type": "\"long\""
        },
        {
         "metadata": "{}",
         "name": "Partner",
         "type": "\"string\""
        },
        {
         "metadata": "{}",
         "name": "Dependents",
         "type": "\"string\""
        },
        {
         "metadata": "{}",
         "name": "tenure",
         "type": "\"long\""
        },
        {
         "metadata": "{}",
         "name": "PhoneService",
         "type": "\"string\""
        },
        {
         "metadata": "{}",
         "name": "MultipleLines",
         "type": "\"string\""
        },
        {
         "metadata": "{}",
         "name": "InternetService",
         "type": "\"string\""
        },
        {
         "metadata": "{}",
         "name": "OnlineSecurity",
         "type": "\"string\""
        },
        {
         "metadata": "{}",
         "name": "OnlineBackup",
         "type": "\"string\""
        },
        {
         "metadata": "{}",
         "name": "DeviceProtection",
         "type": "\"string\""
        },
        {
         "metadata": "{}",
         "name": "TechSupport",
         "type": "\"string\""
        },
        {
         "metadata": "{}",
         "name": "StreamingTV",
         "type": "\"string\""
        },
        {
         "metadata": "{}",
         "name": "StreamingMovies",
         "type": "\"string\""
        },
        {
         "metadata": "{}",
         "name": "Contract",
         "type": "\"string\""
        },
        {
         "metadata": "{}",
         "name": "PaperlessBilling",
         "type": "\"string\""
        },
        {
         "metadata": "{}",
         "name": "PaymentMethod",
         "type": "\"string\""
        },
        {
         "metadata": "{}",
         "name": "MonthlyCharges",
         "type": "\"double\""
        },
        {
         "metadata": "{}",
         "name": "TotalCharges",
         "type": "\"string\""
        },
        {
         "metadata": "{}",
         "name": "Churn",
         "type": "\"string\""
        }
       ],
       "type": "table"
      }
     },
     "output_type": "display_data"
    }
   ],
   "source": [
    "# File location and type\n",
    "file_location = \"/FileStore/tables/WA_Fn_UseC__Telco_Customer_Churn.csv\"\n",
    "file_type = \"csv\"\n",
    "\n",
    "# CSV options\n",
    "infer_schema = \"true\"\n",
    "first_row_is_header = \"true\"\n",
    "delimiter = \",\"\n",
    "\n",
    "# The applied options are for CSV files. For other file types, these will be ignored.\n",
    "df = spark.read.format(file_type) \\\n",
    "  .option(\"inferSchema\", infer_schema) \\\n",
    "  .option(\"header\", first_row_is_header) \\\n",
    "  .option(\"sep\", delimiter) \\\n",
    "  .load(file_location)\n",
    "\n",
    "display(df.take(5))"
   ]
  },
  {
   "cell_type": "code",
   "execution_count": 0,
   "metadata": {
    "application/vnd.databricks.v1+cell": {
     "inputWidgets": {},
     "nuid": "bd82bb99-1479-4d5c-be10-8c36df0f1d44",
     "showTitle": false,
     "title": ""
    }
   },
   "outputs": [
    {
     "data": {
      "text/html": [
       "<style scoped>\n",
       "  .ansiout {\n",
       "    display: block;\n",
       "    unicode-bidi: embed;\n",
       "    white-space: pre-wrap;\n",
       "    word-wrap: break-word;\n",
       "    word-break: break-all;\n",
       "    font-family: \"Source Code Pro\", \"Menlo\", monospace;;\n",
       "    font-size: 13px;\n",
       "    color: #555;\n",
       "    margin-left: 4px;\n",
       "    line-height: 19px;\n",
       "  }\n",
       "</style>\n",
       "<div class=\"ansiout\"></div>"
      ]
     },
     "metadata": {
      "application/vnd.databricks.v1+output": {
       "addedWidgets": {},
       "arguments": {},
       "data": "<div class=\"ansiout\"></div>",
       "datasetInfos": [],
       "metadata": {},
       "removedWidgets": [],
       "type": "html"
      }
     },
     "output_type": "display_data"
    }
   ],
   "source": [
    "# Create a view or table\n",
    "\n",
    "temp_table_name = \"Customer_Churn_csv\"\n",
    "\n",
    "df.createOrReplaceTempView(temp_table_name)"
   ]
  },
  {
   "cell_type": "code",
   "execution_count": 0,
   "metadata": {
    "application/vnd.databricks.v1+cell": {
     "inputWidgets": {},
     "nuid": "eca0b5aa-14d9-4a64-acac-33dc56a1410f",
     "showTitle": false,
     "title": ""
    }
   },
   "outputs": [
    {
     "data": {
      "text/html": [
       "<style scoped>\n",
       "  .ansiout {\n",
       "    display: block;\n",
       "    unicode-bidi: embed;\n",
       "    white-space: pre-wrap;\n",
       "    word-wrap: break-word;\n",
       "    word-break: break-all;\n",
       "    font-family: \"Source Code Pro\", \"Menlo\", monospace;;\n",
       "    font-size: 13px;\n",
       "    color: #555;\n",
       "    margin-left: 4px;\n",
       "    line-height: 19px;\n",
       "  }\n",
       "</style>\n",
       "<div class=\"ansiout\">root\n",
       "-- customerID: string (nullable = true)\n",
       "-- gender: string (nullable = true)\n",
       "-- SeniorCitizen: integer (nullable = true)\n",
       "-- Partner: string (nullable = true)\n",
       "-- Dependents: string (nullable = true)\n",
       "-- tenure: integer (nullable = true)\n",
       "-- PhoneService: string (nullable = true)\n",
       "-- MultipleLines: string (nullable = true)\n",
       "-- InternetService: string (nullable = true)\n",
       "-- OnlineSecurity: string (nullable = true)\n",
       "-- OnlineBackup: string (nullable = true)\n",
       "-- DeviceProtection: string (nullable = true)\n",
       "-- TechSupport: string (nullable = true)\n",
       "-- StreamingTV: string (nullable = true)\n",
       "-- StreamingMovies: string (nullable = true)\n",
       "-- Contract: string (nullable = true)\n",
       "-- PaperlessBilling: string (nullable = true)\n",
       "-- PaymentMethod: string (nullable = true)\n",
       "-- MonthlyCharges: double (nullable = true)\n",
       "-- TotalCharges: string (nullable = true)\n",
       "-- Churn: string (nullable = true)\n",
       "\n",
       "</div>"
      ]
     },
     "metadata": {
      "application/vnd.databricks.v1+output": {
       "addedWidgets": {},
       "arguments": {},
       "data": "<div class=\"ansiout\">root\n |-- customerID: string (nullable = true)\n |-- gender: string (nullable = true)\n |-- SeniorCitizen: integer (nullable = true)\n |-- Partner: string (nullable = true)\n |-- Dependents: string (nullable = true)\n |-- tenure: integer (nullable = true)\n |-- PhoneService: string (nullable = true)\n |-- MultipleLines: string (nullable = true)\n |-- InternetService: string (nullable = true)\n |-- OnlineSecurity: string (nullable = true)\n |-- OnlineBackup: string (nullable = true)\n |-- DeviceProtection: string (nullable = true)\n |-- TechSupport: string (nullable = true)\n |-- StreamingTV: string (nullable = true)\n |-- StreamingMovies: string (nullable = true)\n |-- Contract: string (nullable = true)\n |-- PaperlessBilling: string (nullable = true)\n |-- PaymentMethod: string (nullable = true)\n |-- MonthlyCharges: double (nullable = true)\n |-- TotalCharges: string (nullable = true)\n |-- Churn: string (nullable = true)\n\n</div>",
       "datasetInfos": [],
       "metadata": {},
       "removedWidgets": [],
       "type": "html"
      }
     },
     "output_type": "display_data"
    }
   ],
   "source": [
    "df.printSchema()"
   ]
  },
  {
   "cell_type": "code",
   "execution_count": 0,
   "metadata": {
    "application/vnd.databricks.v1+cell": {
     "inputWidgets": {},
     "nuid": "8bde51c0-08fe-4041-a889-ae3e3c7cee92",
     "showTitle": false,
     "title": ""
    }
   },
   "outputs": [
    {
     "data": {
      "text/html": [
       "<style scoped>\n",
       "  .ansiout {\n",
       "    display: block;\n",
       "    unicode-bidi: embed;\n",
       "    white-space: pre-wrap;\n",
       "    word-wrap: break-word;\n",
       "    word-break: break-all;\n",
       "    font-family: \"Source Code Pro\", \"Menlo\", monospace;;\n",
       "    font-size: 13px;\n",
       "    color: #555;\n",
       "    margin-left: 4px;\n",
       "    line-height: 19px;\n",
       "  }\n",
       "</style>\n",
       "<div class=\"ansiout\">+----------+------+-------------+-------+----------+------+------------+-------------+---------------+--------------+------------+----------------+-----------+-----------+---------------+--------+----------------+-------------+--------------+------------+-----+\n",
       "customerID|gender|SeniorCitizen|Partner|Dependents|tenure|PhoneService|MultipleLines|InternetService|OnlineSecurity|OnlineBackup|DeviceProtection|TechSupport|StreamingTV|StreamingMovies|Contract|PaperlessBilling|PaymentMethod|MonthlyCharges|TotalCharges|Churn|\n",
       "+----------+------+-------------+-------+----------+------+------------+-------------+---------------+--------------+------------+----------------+-----------+-----------+---------------+--------+----------------+-------------+--------------+------------+-----+\n",
       "         0|     0|            0|      0|         0|     0|           0|            0|              0|             0|           0|               0|          0|          0|              0|       0|               0|            0|             0|           0|    0|\n",
       "+----------+------+-------------+-------+----------+------+------------+-------------+---------------+--------------+------------+----------------+-----------+-----------+---------------+--------+----------------+-------------+--------------+------------+-----+\n",
       "\n",
       "</div>"
      ]
     },
     "metadata": {
      "application/vnd.databricks.v1+output": {
       "addedWidgets": {},
       "arguments": {},
       "data": "<div class=\"ansiout\">+----------+------+-------------+-------+----------+------+------------+-------------+---------------+--------------+------------+----------------+-----------+-----------+---------------+--------+----------------+-------------+--------------+------------+-----+\n|customerID|gender|SeniorCitizen|Partner|Dependents|tenure|PhoneService|MultipleLines|InternetService|OnlineSecurity|OnlineBackup|DeviceProtection|TechSupport|StreamingTV|StreamingMovies|Contract|PaperlessBilling|PaymentMethod|MonthlyCharges|TotalCharges|Churn|\n+----------+------+-------------+-------+----------+------+------------+-------------+---------------+--------------+------------+----------------+-----------+-----------+---------------+--------+----------------+-------------+--------------+------------+-----+\n|         0|     0|            0|      0|         0|     0|           0|            0|              0|             0|           0|               0|          0|          0|              0|       0|               0|            0|             0|           0|    0|\n+----------+------+-------------+-------+----------+------+------------+-------------+---------------+--------------+------------+----------------+-----------+-----------+---------------+--------+----------------+-------------+--------------+------------+-----+\n\n</div>",
       "datasetInfos": [],
       "metadata": {},
       "removedWidgets": [],
       "type": "html"
      }
     },
     "output_type": "display_data"
    }
   ],
   "source": [
    "from pyspark.sql.functions import isnan , when , count , col\n",
    "df.select([count(when(isnan(c) | col(c).isNull(),c)).alias(c) for c in df.columns]).show()"
   ]
  },
  {
   "cell_type": "code",
   "execution_count": 0,
   "metadata": {
    "application/vnd.databricks.v1+cell": {
     "inputWidgets": {},
     "nuid": "83f4305a-8eac-466c-bfb6-90c58e2e0759",
     "showTitle": false,
     "title": ""
    }
   },
   "outputs": [
    {
     "data": {
      "image/png": "[encoded data removed]"
     },
     "metadata": {
      "application/vnd.databricks.v1+output": {
       "addedWidgets": {},
       "arguments": {},
       "data": "/plots/decf14c1-6d75-4ca5-b82d-ed6cad943bdd.png",
       "datasetInfos": [],
       "metadata": {},
       "removedWidgets": [],
       "type": "image"
      }
     },
     "output_type": "display_data"
    }
   ],
   "source": [
    "pd_df = df.toPandas()\n",
    "import matplotlib.pyplot as plt\n",
    "plt.clf()\n",
    "plt.plot(pd_df[\"tenure\"],pd_df[\"TotalCharges\"],\".\")\n",
    "plt.xlabel(\"tenure\")\n",
    "plt.ylabel(\"total_charges\")\n",
    "display()"
   ]
  },
  {
   "cell_type": "code",
   "execution_count": 0,
   "metadata": {
    "application/vnd.databricks.v1+cell": {
     "inputWidgets": {},
     "nuid": "6be9938c-d5cf-4695-958f-6f35883e0f95",
     "showTitle": false,
     "title": ""
    }
   },
   "outputs": [
    {
     "data": {
      "text/html": [
       "<style scoped>\n",
       "  .ansiout {\n",
       "    display: block;\n",
       "    unicode-bidi: embed;\n",
       "    white-space: pre-wrap;\n",
       "    word-wrap: break-word;\n",
       "    word-break: break-all;\n",
       "    font-family: \"Source Code Pro\", \"Menlo\", monospace;;\n",
       "    font-size: 13px;\n",
       "    color: #555;\n",
       "    margin-left: 4px;\n",
       "    line-height: 19px;\n",
       "  }\n",
       "</style>\n",
       "<div class=\"ansiout\">+-----+-----+\n",
       "Churn|count|\n",
       "+-----+-----+\n",
       "   No| 5174|\n",
       "  Yes| 1869|\n",
       "+-----+-----+\n",
       "\n",
       "</div>"
      ]
     },
     "metadata": {
      "application/vnd.databricks.v1+output": {
       "addedWidgets": {},
       "arguments": {},
       "data": "<div class=\"ansiout\">+-----+-----+\n|Churn|count|\n+-----+-----+\n|   No| 5174|\n|  Yes| 1869|\n+-----+-----+\n\n</div>",
       "datasetInfos": [],
       "metadata": {},
       "removedWidgets": [],
       "type": "html"
      }
     },
     "output_type": "display_data"
    }
   ],
   "source": [
    "df.groupBy(\"Churn\").count().show()"
   ]
  },
  {
   "cell_type": "code",
   "execution_count": 0,
   "metadata": {
    "application/vnd.databricks.v1+cell": {
     "inputWidgets": {},
     "nuid": "1abec8ad-c8bf-4770-9905-b26690343924",
     "showTitle": false,
     "title": ""
    }
   },
   "outputs": [
    {
     "data": {
      "text/html": [
       "<style scoped>\n",
       "  .ansiout {\n",
       "    display: block;\n",
       "    unicode-bidi: embed;\n",
       "    white-space: pre-wrap;\n",
       "    word-wrap: break-word;\n",
       "    word-break: break-all;\n",
       "    font-family: \"Source Code Pro\", \"Menlo\", monospace;;\n",
       "    font-size: 13px;\n",
       "    color: #555;\n",
       "    margin-left: 4px;\n",
       "    line-height: 19px;\n",
       "  }\n",
       "</style>\n",
       "<div class=\"ansiout\">+-------+------------------+------------------+------------------+\n",
       "summary|            tenure|      TotalCharges|    MonthlyCharges|\n",
       "+-------+------------------+------------------+------------------+\n",
       "  count|              7043|              7043|              7043|\n",
       "   mean| 32.37114865824223|2283.3004408418697| 64.76169246059922|\n",
       " stddev|24.559481023094442| 2266.771361883145|30.090047097678482|\n",
       "    min|                 0|                  |             18.25|\n",
       "    max|                72|             999.9|            118.75|\n",
       "+-------+------------------+------------------+------------------+\n",
       "\n",
       "</div>"
      ]
     },
     "metadata": {
      "application/vnd.databricks.v1+output": {
       "addedWidgets": {},
       "arguments": {},
       "data": "<div class=\"ansiout\">+-------+------------------+------------------+------------------+\n|summary|            tenure|      TotalCharges|    MonthlyCharges|\n+-------+------------------+------------------+------------------+\n|  count|              7043|              7043|              7043|\n|   mean| 32.37114865824223|2283.3004408418697| 64.76169246059922|\n| stddev|24.559481023094442| 2266.771361883145|30.090047097678482|\n|    min|                 0|                  |             18.25|\n|    max|                72|             999.9|            118.75|\n+-------+------------------+------------------+------------------+\n\n</div>",
       "datasetInfos": [],
       "metadata": {},
       "removedWidgets": [],
       "type": "html"
      }
     },
     "output_type": "display_data"
    }
   ],
   "source": [
    "df.select(\"tenure\",\"TotalCharges\",\"MonthlyCharges\").describe().show()"
   ]
  },
  {
   "cell_type": "code",
   "execution_count": 0,
   "metadata": {
    "application/vnd.databricks.v1+cell": {
     "inputWidgets": {},
     "nuid": "5470e681-c5fb-4d07-8d88-736d441b2d33",
     "showTitle": false,
     "title": ""
    }
   },
   "outputs": [
    {
     "data": {
      "text/html": [
       "<style scoped>\n",
       "  .table-result-container {\n",
       "    max-height: 300px;\n",
       "    overflow: auto;\n",
       "  }\n",
       "  table, th, td {\n",
       "    border: 1px solid black;\n",
       "    border-collapse: collapse;\n",
       "  }\n",
       "  th, td {\n",
       "    padding: 5px;\n",
       "  }\n",
       "  th {\n",
       "    text-align: left;\n",
       "  }\n",
       "</style><div class='table-result-container'><table class='table-result'><thead style='background-color: white'><tr><th>gender</th><th>churn</th><th>count(1)</th></tr></thead><tbody><tr><td>Male</td><td>No</td><td>2625</td></tr><tr><td>Male</td><td>Yes</td><td>930</td></tr><tr><td>Female</td><td>No</td><td>2549</td></tr><tr><td>Female</td><td>Yes</td><td>939</td></tr></tbody></table></div>"
      ]
     },
     "metadata": {
      "application/vnd.databricks.v1+output": {
       "addedWidgets": {},
       "aggData": [],
       "aggError": "",
       "aggOverflow": false,
       "aggSchema": [],
       "aggSeriesLimitReached": false,
       "aggType": "",
       "arguments": {},
       "columnCustomDisplayInfos": {},
       "data": [
        [
         "Male",
         "No",
         2625
        ],
        [
         "Male",
         "Yes",
         930
        ],
        [
         "Female",
         "No",
         2549
        ],
        [
         "Female",
         "Yes",
         939
        ]
       ],
       "datasetInfos": [],
       "dbfsResultPath": null,
       "isJsonSchema": true,
       "metadata": {},
       "overflow": false,
       "plotOptions": {
        "customPlotOptions": {},
        "displayType": "pivotTable",
        "pivotAggregation": "sum",
        "pivotColumns": [
         "churn"
        ],
        "xColumns": [
         "gender"
        ],
        "yColumns": [
         "count(1)"
        ]
       },
       "removedWidgets": [],
       "schema": [
        {
         "metadata": "{}",
         "name": "gender",
         "type": "\"string\""
        },
        {
         "metadata": "{}",
         "name": "churn",
         "type": "\"string\""
        },
        {
         "metadata": "{}",
         "name": "count(1)",
         "type": "\"long\""
        }
       ],
       "type": "table"
      }
     },
     "output_type": "display_data"
    }
   ],
   "source": [
    "%sql\n",
    "select gender , churn, count(*) from Customer_Churn_csv group by gender,Churn"
   ]
  },
  {
   "cell_type": "code",
   "execution_count": 0,
   "metadata": {
    "application/vnd.databricks.v1+cell": {
     "inputWidgets": {},
     "nuid": "51414fdc-8edf-4a55-a52c-96c65c88e6e1",
     "showTitle": false,
     "title": ""
    }
   },
   "outputs": [
    {
     "data": {
      "text/html": [
       "<style scoped>\n",
       "  .table-result-container {\n",
       "    max-height: 300px;\n",
       "    overflow: auto;\n",
       "  }\n",
       "  table, th, td {\n",
       "    border: 1px solid black;\n",
       "    border-collapse: collapse;\n",
       "  }\n",
       "  th, td {\n",
       "    padding: 5px;\n",
       "  }\n",
       "  th {\n",
       "    text-align: left;\n",
       "  }\n",
       "</style><div class='table-result-container'><table class='table-result'><thead style='background-color: white'><tr><th>SeniorCitizen</th><th>Churn</th><th>count(1)</th></tr></thead><tbody><tr><td>1</td><td>No</td><td>666</td></tr><tr><td>0</td><td>No</td><td>4508</td></tr><tr><td>0</td><td>Yes</td><td>1393</td></tr><tr><td>1</td><td>Yes</td><td>476</td></tr></tbody></table></div>"
      ]
     },
     "metadata": {
      "application/vnd.databricks.v1+output": {
       "addedWidgets": {},
       "aggData": [],
       "aggError": "",
       "aggOverflow": false,
       "aggSchema": [],
       "aggSeriesLimitReached": false,
       "aggType": "",
       "arguments": {},
       "columnCustomDisplayInfos": {},
       "data": [
        [
         1,
         "No",
         666
        ],
        [
         0,
         "No",
         4508
        ],
        [
         0,
         "Yes",
         1393
        ],
        [
         1,
         "Yes",
         476
        ]
       ],
       "datasetInfos": [],
       "dbfsResultPath": null,
       "isJsonSchema": true,
       "metadata": {},
       "overflow": false,
       "plotOptions": {
        "customPlotOptions": {},
        "displayType": "pivotTable",
        "pivotAggregation": "sum",
        "pivotColumns": [
         "Churn"
        ],
        "xColumns": [
         "SeniorCitizen"
        ],
        "yColumns": [
         "count(1)"
        ]
       },
       "removedWidgets": [],
       "schema": [
        {
         "metadata": "{}",
         "name": "SeniorCitizen",
         "type": "\"integer\""
        },
        {
         "metadata": "{}",
         "name": "Churn",
         "type": "\"string\""
        },
        {
         "metadata": "{}",
         "name": "count(1)",
         "type": "\"long\""
        }
       ],
       "type": "table"
      }
     },
     "output_type": "display_data"
    }
   ],
   "source": [
    "%sql\n",
    "select SeniorCitizen, Churn , count(*) from Customer_Churn_csv group by SeniorCitizen,Churn"
   ]
  },
  {
   "cell_type": "code",
   "execution_count": 0,
   "metadata": {
    "application/vnd.databricks.v1+cell": {
     "inputWidgets": {},
     "nuid": "e7c16d48-880c-4bfd-a38a-ad954514ed61",
     "showTitle": false,
     "title": ""
    }
   },
   "outputs": [
    {
     "data": {
      "text/html": [
       "<style scoped>\n",
       "  .table-result-container {\n",
       "    max-height: 300px;\n",
       "    overflow: auto;\n",
       "  }\n",
       "  table, th, td {\n",
       "    border: 1px solid black;\n",
       "    border-collapse: collapse;\n",
       "  }\n",
       "  th, td {\n",
       "    padding: 5px;\n",
       "  }\n",
       "  th {\n",
       "    text-align: left;\n",
       "  }\n",
       "</style><div class='table-result-container'><table class='table-result'><thead style='background-color: white'><tr><th>tenure</th><th>Churn</th><th>count(1)</th></tr></thead><tbody><tr><td>0</td><td>No</td><td>11</td></tr><tr><td>1</td><td>No</td><td>233</td></tr><tr><td>1</td><td>Yes</td><td>380</td></tr><tr><td>2</td><td>No</td><td>115</td></tr><tr><td>2</td><td>Yes</td><td>123</td></tr><tr><td>3</td><td>No</td><td>106</td></tr><tr><td>3</td><td>Yes</td><td>94</td></tr><tr><td>4</td><td>No</td><td>93</td></tr><tr><td>4</td><td>Yes</td><td>83</td></tr><tr><td>5</td><td>No</td><td>69</td></tr><tr><td>5</td><td>Yes</td><td>64</td></tr><tr><td>6</td><td>No</td><td>70</td></tr><tr><td>6</td><td>Yes</td><td>40</td></tr><tr><td>7</td><td>Yes</td><td>51</td></tr><tr><td>7</td><td>No</td><td>80</td></tr><tr><td>8</td><td>Yes</td><td>42</td></tr><tr><td>8</td><td>No</td><td>81</td></tr><tr><td>9</td><td>No</td><td>73</td></tr><tr><td>9</td><td>Yes</td><td>46</td></tr><tr><td>10</td><td>No</td><td>71</td></tr><tr><td>10</td><td>Yes</td><td>45</td></tr><tr><td>11</td><td>No</td><td>68</td></tr><tr><td>11</td><td>Yes</td><td>31</td></tr><tr><td>12</td><td>Yes</td><td>38</td></tr><tr><td>12</td><td>No</td><td>79</td></tr><tr><td>13</td><td>Yes</td><td>38</td></tr><tr><td>13</td><td>No</td><td>71</td></tr><tr><td>14</td><td>Yes</td><td>24</td></tr><tr><td>14</td><td>No</td><td>52</td></tr><tr><td>15</td><td>No</td><td>62</td></tr><tr><td>15</td><td>Yes</td><td>37</td></tr><tr><td>16</td><td>No</td><td>52</td></tr><tr><td>16</td><td>Yes</td><td>28</td></tr><tr><td>17</td><td>No</td><td>61</td></tr><tr><td>17</td><td>Yes</td><td>26</td></tr><tr><td>18</td><td>No</td><td>73</td></tr><tr><td>18</td><td>Yes</td><td>24</td></tr><tr><td>19</td><td>Yes</td><td>19</td></tr><tr><td>19</td><td>No</td><td>54</td></tr><tr><td>20</td><td>No</td><td>53</td></tr><tr><td>20</td><td>Yes</td><td>18</td></tr><tr><td>21</td><td>No</td><td>46</td></tr><tr><td>21</td><td>Yes</td><td>17</td></tr><tr><td>22</td><td>No</td><td>63</td></tr><tr><td>22</td><td>Yes</td><td>27</td></tr><tr><td>23</td><td>No</td><td>72</td></tr><tr><td>23</td><td>Yes</td><td>13</td></tr><tr><td>24</td><td>No</td><td>71</td></tr><tr><td>24</td><td>Yes</td><td>23</td></tr><tr><td>25</td><td>No</td><td>56</td></tr><tr><td>25</td><td>Yes</td><td>23</td></tr><tr><td>26</td><td>No</td><td>64</td></tr><tr><td>26</td><td>Yes</td><td>15</td></tr><tr><td>27</td><td>No</td><td>59</td></tr><tr><td>27</td><td>Yes</td><td>13</td></tr><tr><td>28</td><td>Yes</td><td>12</td></tr><tr><td>28</td><td>No</td><td>45</td></tr><tr><td>29</td><td>Yes</td><td>15</td></tr><tr><td>29</td><td>No</td><td>57</td></tr><tr><td>30</td><td>Yes</td><td>16</td></tr><tr><td>30</td><td>No</td><td>56</td></tr><tr><td>31</td><td>Yes</td><td>16</td></tr><tr><td>31</td><td>No</td><td>49</td></tr><tr><td>32</td><td>No</td><td>50</td></tr><tr><td>32</td><td>Yes</td><td>19</td></tr><tr><td>33</td><td>No</td><td>50</td></tr><tr><td>33</td><td>Yes</td><td>14</td></tr><tr><td>34</td><td>No</td><td>53</td></tr><tr><td>34</td><td>Yes</td><td>12</td></tr><tr><td>35</td><td>No</td><td>73</td></tr><tr><td>35</td><td>Yes</td><td>15</td></tr><tr><td>36</td><td>Yes</td><td>10</td></tr><tr><td>36</td><td>No</td><td>40</td></tr><tr><td>37</td><td>No</td><td>50</td></tr><tr><td>37</td><td>Yes</td><td>15</td></tr><tr><td>38</td><td>Yes</td><td>13</td></tr><tr><td>38</td><td>No</td><td>46</td></tr><tr><td>39</td><td>Yes</td><td>14</td></tr><tr><td>39</td><td>No</td><td>42</td></tr><tr><td>40</td><td>Yes</td><td>13</td></tr><tr><td>40</td><td>No</td><td>51</td></tr><tr><td>41</td><td>No</td><td>56</td></tr><tr><td>41</td><td>Yes</td><td>14</td></tr><tr><td>42</td><td>No</td><td>51</td></tr><tr><td>42</td><td>Yes</td><td>14</td></tr><tr><td>43</td><td>Yes</td><td>15</td></tr><tr><td>43</td><td>No</td><td>50</td></tr><tr><td>44</td><td>No</td><td>45</td></tr><tr><td>44</td><td>Yes</td><td>6</td></tr><tr><td>45</td><td>Yes</td><td>6</td></tr><tr><td>45</td><td>No</td><td>55</td></tr><tr><td>46</td><td>Yes</td><td>12</td></tr><tr><td>46</td><td>No</td><td>62</td></tr><tr><td>47</td><td>No</td><td>54</td></tr><tr><td>47</td><td>Yes</td><td>14</td></tr><tr><td>48</td><td>Yes</td><td>9</td></tr><tr><td>48</td><td>No</td><td>55</td></tr><tr><td>49</td><td>Yes</td><td>15</td></tr><tr><td>49</td><td>No</td><td>51</td></tr><tr><td>50</td><td>Yes</td><td>10</td></tr><tr><td>50</td><td>No</td><td>58</td></tr><tr><td>51</td><td>Yes</td><td>8</td></tr><tr><td>51</td><td>No</td><td>60</td></tr><tr><td>52</td><td>No</td><td>72</td></tr><tr><td>52</td><td>Yes</td><td>8</td></tr><tr><td>53</td><td>Yes</td><td>14</td></tr><tr><td>53</td><td>No</td><td>56</td></tr><tr><td>54</td><td>No</td><td>55</td></tr><tr><td>54</td><td>Yes</td><td>13</td></tr><tr><td>55</td><td>Yes</td><td>9</td></tr><tr><td>55</td><td>No</td><td>55</td></tr><tr><td>56</td><td>No</td><td>70</td></tr><tr><td>56</td><td>Yes</td><td>10</td></tr><tr><td>57</td><td>Yes</td><td>8</td></tr><tr><td>57</td><td>No</td><td>57</td></tr><tr><td>58</td><td>No</td><td>56</td></tr><tr><td>58</td><td>Yes</td><td>11</td></tr><tr><td>59</td><td>No</td><td>52</td></tr><tr><td>59</td><td>Yes</td><td>8</td></tr><tr><td>60</td><td>Yes</td><td>6</td></tr><tr><td>60</td><td>No</td><td>70</td></tr><tr><td>61</td><td>No</td><td>68</td></tr><tr><td>61</td><td>Yes</td><td>8</td></tr><tr><td>62</td><td>No</td><td>65</td></tr><tr><td>62</td><td>Yes</td><td>5</td></tr><tr><td>63</td><td>Yes</td><td>4</td></tr><tr><td>63</td><td>No</td><td>68</td></tr><tr><td>64</td><td>Yes</td><td>4</td></tr><tr><td>64</td><td>No</td><td>76</td></tr><tr><td>65</td><td>Yes</td><td>9</td></tr><tr><td>65</td><td>No</td><td>67</td></tr><tr><td>66</td><td>Yes</td><td>13</td></tr><tr><td>66</td><td>No</td><td>76</td></tr><tr><td>67</td><td>Yes</td><td>10</td></tr><tr><td>67</td><td>No</td><td>88</td></tr><tr><td>68</td><td>No</td><td>91</td></tr><tr><td>68</td><td>Yes</td><td>9</td></tr><tr><td>69</td><td>No</td><td>87</td></tr><tr><td>69</td><td>Yes</td><td>8</td></tr><tr><td>70</td><td>No</td><td>108</td></tr><tr><td>70</td><td>Yes</td><td>11</td></tr><tr><td>71</td><td>Yes</td><td>6</td></tr><tr><td>71</td><td>No</td><td>164</td></tr><tr><td>72</td><td>Yes</td><td>6</td></tr><tr><td>72</td><td>No</td><td>356</td></tr></tbody></table></div>"
      ]
     },
     "metadata": {
      "application/vnd.databricks.v1+output": {
       "addedWidgets": {},
       "aggData": [],
       "aggError": "",
       "aggOverflow": false,
       "aggSchema": [],
       "aggSeriesLimitReached": false,
       "aggType": "",
       "arguments": {},
       "columnCustomDisplayInfos": {},
       "data": [
        [
         0,
         "No",
         11
        ],
        [
         1,
         "No",
         233
        ],
        [
         1,
         "Yes",
         380
        ],
        [
         2,
         "No",
         115
        ],
        [
         2,
         "Yes",
         123
        ],
        [
         3,
         "No",
         106
        ],
        [
         3,
         "Yes",
         94
        ],
        [
         4,
         "No",
         93
        ],
        [
         4,
         "Yes",
         83
        ],
        [
         5,
         "No",
         69
        ],
        [
         5,
         "Yes",
         64
        ],
        [
         6,
         "No",
         70
        ],
        [
         6,
         "Yes",
         40
        ],
        [
         7,
         "Yes",
         51
        ],
        [
         7,
         "No",
         80
        ],
        [
         8,
         "Yes",
         42
        ],
        [
         8,
         "No",
         81
        ],
        [
         9,
         "No",
         73
        ],
        [
         9,
         "Yes",
         46
        ],
        [
         10,
         "No",
         71
        ],
        [
         10,
         "Yes",
         45
        ],
        [
         11,
         "No",
         68
        ],
        [
         11,
         "Yes",
         31
        ],
        [
         12,
         "Yes",
         38
        ],
        [
         12,
         "No",
         79
        ],
        [
         13,
         "Yes",
         38
        ],
        [
         13,
         "No",
         71
        ],
        [
         14,
         "Yes",
         24
        ],
        [
         14,
         "No",
         52
        ],
        [
         15,
         "No",
         62
        ],
        [
         15,
         "Yes",
         37
        ],
        [
         16,
         "No",
         52
        ],
        [
         16,
         "Yes",
         28
        ],
        [
         17,
         "No",
         61
        ],
        [
         17,
         "Yes",
         26
        ],
        [
         18,
         "No",
         73
        ],
        [
         18,
         "Yes",
         24
        ],
        [
         19,
         "Yes",
         19
        ],
        [
         19,
         "No",
         54
        ],
        [
         20,
         "No",
         53
        ],
        [
         20,
         "Yes",
         18
        ],
        [
         21,
         "No",
         46
        ],
        [
         21,
         "Yes",
         17
        ],
        [
         22,
         "No",
         63
        ],
        [
         22,
         "Yes",
         27
        ],
        [
         23,
         "No",
         72
        ],
        [
         23,
         "Yes",
         13
        ],
        [
         24,
         "No",
         71
        ],
        [
         24,
         "Yes",
         23
        ],
        [
         25,
         "No",
         56
        ],
        [
         25,
         "Yes",
         23
        ],
        [
         26,
         "No",
         64
        ],
        [
         26,
         "Yes",
         15
        ],
        [
         27,
         "No",
         59
        ],
        [
         27,
         "Yes",
         13
        ],
        [
         28,
         "Yes",
         12
        ],
        [
         28,
         "No",
         45
        ],
        [
         29,
         "Yes",
         15
        ],
        [
         29,
         "No",
         57
        ],
        [
         30,
         "Yes",
         16
        ],
        [
         30,
         "No",
         56
        ],
        [
         31,
         "Yes",
         16
        ],
        [
         31,
         "No",
         49
        ],
        [
         32,
         "No",
         50
        ],
        [
         32,
         "Yes",
         19
        ],
        [
         33,
         "No",
         50
        ],
        [
         33,
         "Yes",
         14
        ],
        [
         34,
         "No",
         53
        ],
        [
         34,
         "Yes",
         12
        ],
        [
         35,
         "No",
         73
        ],
        [
         35,
         "Yes",
         15
        ],
        [
         36,
         "Yes",
         10
        ],
        [
         36,
         "No",
         40
        ],
        [
         37,
         "No",
         50
        ],
        [
         37,
         "Yes",
         15
        ],
        [
         38,
         "Yes",
         13
        ],
        [
         38,
         "No",
         46
        ],
        [
         39,
         "Yes",
         14
        ],
        [
         39,
         "No",
         42
        ],
        [
         40,
         "Yes",
         13
        ],
        [
         40,
         "No",
         51
        ],
        [
         41,
         "No",
         56
        ],
        [
         41,
         "Yes",
         14
        ],
        [
         42,
         "No",
         51
        ],
        [
         42,
         "Yes",
         14
        ],
        [
         43,
         "Yes",
         15
        ],
        [
         43,
         "No",
         50
        ],
        [
         44,
         "No",
         45
        ],
        [
         44,
         "Yes",
         6
        ],
        [
         45,
         "Yes",
         6
        ],
        [
         45,
         "No",
         55
        ],
        [
         46,
         "Yes",
         12
        ],
        [
         46,
         "No",
         62
        ],
        [
         47,
         "No",
         54
        ],
        [
         47,
         "Yes",
         14
        ],
        [
         48,
         "Yes",
         9
        ],
        [
         48,
         "No",
         55
        ],
        [
         49,
         "Yes",
         15
        ],
        [
         49,
         "No",
         51
        ],
        [
         50,
         "Yes",
         10
        ],
        [
         50,
         "No",
         58
        ],
        [
         51,
         "Yes",
         8
        ],
        [
         51,
         "No",
         60
        ],
        [
         52,
         "No",
         72
        ],
        [
         52,
         "Yes",
         8
        ],
        [
         53,
         "Yes",
         14
        ],
        [
         53,
         "No",
         56
        ],
        [
         54,
         "No",
         55
        ],
        [
         54,
         "Yes",
         13
        ],
        [
         55,
         "Yes",
         9
        ],
        [
         55,
         "No",
         55
        ],
        [
         56,
         "No",
         70
        ],
        [
         56,
         "Yes",
         10
        ],
        [
         57,
         "Yes",
         8
        ],
        [
         57,
         "No",
         57
        ],
        [
         58,
         "No",
         56
        ],
        [
         58,
         "Yes",
         11
        ],
        [
         59,
         "No",
         52
        ],
        [
         59,
         "Yes",
         8
        ],
        [
         60,
         "Yes",
         6
        ],
        [
         60,
         "No",
         70
        ],
        [
         61,
         "No",
         68
        ],
        [
         61,
         "Yes",
         8
        ],
        [
         62,
         "No",
         65
        ],
        [
         62,
         "Yes",
         5
        ],
        [
         63,
         "Yes",
         4
        ],
        [
         63,
         "No",
         68
        ],
        [
         64,
         "Yes",
         4
        ],
        [
         64,
         "No",
         76
        ],
        [
         65,
         "Yes",
         9
        ],
        [
         65,
         "No",
         67
        ],
        [
         66,
         "Yes",
         13
        ],
        [
         66,
         "No",
         76
        ],
        [
         67,
         "Yes",
         10
        ],
        [
         67,
         "No",
         88
        ],
        [
         68,
         "No",
         91
        ],
        [
         68,
         "Yes",
         9
        ],
        [
         69,
         "No",
         87
        ],
        [
         69,
         "Yes",
         8
        ],
        [
         70,
         "No",
         108
        ],
        [
         70,
         "Yes",
         11
        ],
        [
         71,
         "Yes",
         6
        ],
        [
         71,
         "No",
         164
        ],
        [
         72,
         "Yes",
         6
        ],
        [
         72,
         "No",
         356
        ]
       ],
       "datasetInfos": [],
       "dbfsResultPath": null,
       "isJsonSchema": true,
       "metadata": {},
       "overflow": false,
       "plotOptions": {
        "customPlotOptions": {},
        "displayType": "plotlyBar",
        "pivotAggregation": "sum",
        "pivotColumns": [
         "Churn"
        ],
        "xColumns": [
         "tenure"
        ],
        "yColumns": [
         "count(1)"
        ]
       },
       "removedWidgets": [],
       "schema": [
        {
         "metadata": "{}",
         "name": "tenure",
         "type": "\"integer\""
        },
        {
         "metadata": "{}",
         "name": "Churn",
         "type": "\"string\""
        },
        {
         "metadata": "{}",
         "name": "count(1)",
         "type": "\"long\""
        }
       ],
       "type": "table"
      }
     },
     "output_type": "display_data"
    }
   ],
   "source": [
    "%sql \n",
    "select tenure,Churn, count(*) from Customer_Churn_csv group by tenure,Churn order by tenure"
   ]
  },
  {
   "cell_type": "code",
   "execution_count": 0,
   "metadata": {
    "application/vnd.databricks.v1+cell": {
     "inputWidgets": {},
     "nuid": "3886f0f7-43d5-4c40-84c1-efe2bccfeacb",
     "showTitle": false,
     "title": ""
    }
   },
   "outputs": [
    {
     "data": {
      "text/html": [
       "<style scoped>\n",
       "  .ansiout {\n",
       "    display: block;\n",
       "    unicode-bidi: embed;\n",
       "    white-space: pre-wrap;\n",
       "    word-wrap: break-word;\n",
       "    word-break: break-all;\n",
       "    font-family: \"Source Code Pro\", \"Menlo\", monospace;;\n",
       "    font-size: 13px;\n",
       "    color: #555;\n",
       "    margin-left: 4px;\n",
       "    line-height: 19px;\n",
       "  }\n",
       "</style>\n",
       "<div class=\"ansiout\">+-----------------------------+----+-----------+----+\n",
       "SeniorCitizen_InternetService| DSL|Fiber optic|  No|\n",
       "+-----------------------------+----+-----------+----+\n",
       "                            1| 259|        831|  52|\n",
       "                            0|2162|       2265|1474|\n",
       "+-----------------------------+----+-----------+----+\n",
       "\n",
       "</div>"
      ]
     },
     "metadata": {
      "application/vnd.databricks.v1+output": {
       "addedWidgets": {},
       "arguments": {},
       "data": "<div class=\"ansiout\">+-----------------------------+----+-----------+----+\n|SeniorCitizen_InternetService| DSL|Fiber optic|  No|\n+-----------------------------+----+-----------+----+\n|                            1| 259|        831|  52|\n|                            0|2162|       2265|1474|\n+-----------------------------+----+-----------+----+\n\n</div>",
       "datasetInfos": [],
       "metadata": {},
       "removedWidgets": [],
       "type": "html"
      }
     },
     "output_type": "display_data"
    }
   ],
   "source": [
    "df.stat.crosstab(\"SeniorCitizen\",\"InternetService\").show()"
   ]
  },
  {
   "cell_type": "code",
   "execution_count": 0,
   "metadata": {
    "application/vnd.databricks.v1+cell": {
     "inputWidgets": {},
     "nuid": "c8808a11-81a2-4109-8359-e09c1eb662a1",
     "showTitle": false,
     "title": ""
    }
   },
   "outputs": [
    {
     "data": {
      "text/html": [
       "<style scoped>\n",
       "  .table-result-container {\n",
       "    max-height: 300px;\n",
       "    overflow: auto;\n",
       "  }\n",
       "  table, th, td {\n",
       "    border: 1px solid black;\n",
       "    border-collapse: collapse;\n",
       "  }\n",
       "  th, td {\n",
       "    padding: 5px;\n",
       "  }\n",
       "  th {\n",
       "    text-align: left;\n",
       "  }\n",
       "</style><div class='table-result-container'><table class='table-result'><thead style='background-color: white'><tr><th>PaperlessBilling</th><th>Churn</th><th>count(1)</th></tr></thead><tbody><tr><td>Yes</td><td>Yes</td><td>1400</td></tr><tr><td>No</td><td>No</td><td>2403</td></tr><tr><td>Yes</td><td>No</td><td>2771</td></tr><tr><td>No</td><td>Yes</td><td>469</td></tr></tbody></table></div>"
      ]
     },
     "metadata": {
      "application/vnd.databricks.v1+output": {
       "addedWidgets": {},
       "aggData": [],
       "aggError": "",
       "aggOverflow": false,
       "aggSchema": [],
       "aggSeriesLimitReached": false,
       "aggType": "",
       "arguments": {},
       "columnCustomDisplayInfos": {},
       "data": [
        [
         "Yes",
         "Yes",
         1400
        ],
        [
         "No",
         "No",
         2403
        ],
        [
         "Yes",
         "No",
         2771
        ],
        [
         "No",
         "Yes",
         469
        ]
       ],
       "datasetInfos": [],
       "dbfsResultPath": null,
       "isJsonSchema": true,
       "metadata": {},
       "overflow": false,
       "plotOptions": {
        "customPlotOptions": {},
        "displayType": "pivotTable",
        "pivotAggregation": "sum",
        "pivotColumns": [
         "Churn"
        ],
        "xColumns": [
         "PaperlessBilling"
        ],
        "yColumns": [
         "count(1)"
        ]
       },
       "removedWidgets": [],
       "schema": [
        {
         "metadata": "{}",
         "name": "PaperlessBilling",
         "type": "\"string\""
        },
        {
         "metadata": "{}",
         "name": "Churn",
         "type": "\"string\""
        },
        {
         "metadata": "{}",
         "name": "count(1)",
         "type": "\"long\""
        }
       ],
       "type": "table"
      }
     },
     "output_type": "display_data"
    }
   ],
   "source": [
    "%sql\n",
    "select PaperlessBilling,Churn,count(*) from Customer_Churn_csv group by PaperlessBilling,Churn"
   ]
  },
  {
   "cell_type": "code",
   "execution_count": 0,
   "metadata": {
    "application/vnd.databricks.v1+cell": {
     "inputWidgets": {},
     "nuid": "508cc725-de8b-4877-a3e3-57c37d171396",
     "showTitle": false,
     "title": ""
    }
   },
   "outputs": [
    {
     "data": {
      "text/html": [
       "<style scoped>\n",
       "  .table-result-container {\n",
       "    max-height: 300px;\n",
       "    overflow: auto;\n",
       "  }\n",
       "  table, th, td {\n",
       "    border: 1px solid black;\n",
       "    border-collapse: collapse;\n",
       "  }\n",
       "  th, td {\n",
       "    padding: 5px;\n",
       "  }\n",
       "  th {\n",
       "    text-align: left;\n",
       "  }\n",
       "</style><div class='table-result-container'><table class='table-result'><thead style='background-color: white'><tr><th>PaymentMethod</th><th>Churn</th><th>count(1)</th></tr></thead><tbody><tr><td>Credit card (automatic)</td><td>No</td><td>1290</td></tr><tr><td>Bank transfer (automatic)</td><td>No</td><td>1286</td></tr><tr><td>Mailed check</td><td>Yes</td><td>308</td></tr><tr><td>Credit card (automatic)</td><td>Yes</td><td>232</td></tr><tr><td>Electronic check</td><td>No</td><td>1294</td></tr><tr><td>Electronic check</td><td>Yes</td><td>1071</td></tr><tr><td>Bank transfer (automatic)</td><td>Yes</td><td>258</td></tr><tr><td>Mailed check</td><td>No</td><td>1304</td></tr></tbody></table></div>"
      ]
     },
     "metadata": {
      "application/vnd.databricks.v1+output": {
       "addedWidgets": {},
       "aggData": [],
       "aggError": "",
       "aggOverflow": false,
       "aggSchema": [],
       "aggSeriesLimitReached": false,
       "aggType": "",
       "arguments": {},
       "columnCustomDisplayInfos": {},
       "data": [
        [
         "Credit card (automatic)",
         "No",
         1290
        ],
        [
         "Bank transfer (automatic)",
         "No",
         1286
        ],
        [
         "Mailed check",
         "Yes",
         308
        ],
        [
         "Credit card (automatic)",
         "Yes",
         232
        ],
        [
         "Electronic check",
         "No",
         1294
        ],
        [
         "Electronic check",
         "Yes",
         1071
        ],
        [
         "Bank transfer (automatic)",
         "Yes",
         258
        ],
        [
         "Mailed check",
         "No",
         1304
        ]
       ],
       "datasetInfos": [],
       "dbfsResultPath": null,
       "isJsonSchema": true,
       "metadata": {},
       "overflow": false,
       "plotOptions": {
        "customPlotOptions": {},
        "displayType": "pivotTable",
        "pivotAggregation": "sum",
        "pivotColumns": [
         "Churn"
        ],
        "xColumns": [
         "PaymentMethod"
        ],
        "yColumns": [
         "count(1)"
        ]
       },
       "removedWidgets": [],
       "schema": [
        {
         "metadata": "{}",
         "name": "PaymentMethod",
         "type": "\"string\""
        },
        {
         "metadata": "{}",
         "name": "Churn",
         "type": "\"string\""
        },
        {
         "metadata": "{}",
         "name": "count(1)",
         "type": "\"long\""
        }
       ],
       "type": "table"
      }
     },
     "output_type": "display_data"
    }
   ],
   "source": [
    "%sql\n",
    "select PaymentMethod,Churn,count(*) from Customer_Churn_csv group by PaymentMethod,Churn"
   ]
  },
  {
   "cell_type": "code",
   "execution_count": 0,
   "metadata": {
    "application/vnd.databricks.v1+cell": {
     "inputWidgets": {},
     "nuid": "22dbe9bc-a32c-4b74-810e-948305a52df2",
     "showTitle": false,
     "title": ""
    }
   },
   "outputs": [
    {
     "data": {
      "text/html": [
       "<style scoped>\n",
       "  .ansiout {\n",
       "    display: block;\n",
       "    unicode-bidi: embed;\n",
       "    white-space: pre-wrap;\n",
       "    word-wrap: break-word;\n",
       "    word-break: break-all;\n",
       "    font-family: \"Source Code Pro\", \"Menlo\", monospace;;\n",
       "    font-size: 13px;\n",
       "    color: #555;\n",
       "    margin-left: 4px;\n",
       "    line-height: 19px;\n",
       "  }\n",
       "</style>\n",
       "<div class=\"ansiout\">train_data: 4942\n",
       "test_data: 2101\n",
       "</div>"
      ]
     },
     "metadata": {
      "application/vnd.databricks.v1+output": {
       "addedWidgets": {},
       "arguments": {},
       "data": "<div class=\"ansiout\">train_data: 4942\ntest_data: 2101\n</div>",
       "datasetInfos": [],
       "metadata": {},
       "removedWidgets": [],
       "type": "html"
      }
     },
     "output_type": "display_data"
    }
   ],
   "source": [
    "churn_df = df\n",
    "(train_data,test_data) = churn_df.randomSplit([0.7,0.3],24)\n",
    "print(f\"train_data: {train_data.count()}\")\n",
    "print(f\"test_data: {test_data.count()}\")\n"
   ]
  },
  {
   "cell_type": "code",
   "execution_count": 0,
   "metadata": {
    "application/vnd.databricks.v1+cell": {
     "inputWidgets": {},
     "nuid": "43fcafc0-77dc-4a6f-a4bd-b8a4722f5551",
     "showTitle": false,
     "title": ""
    }
   },
   "outputs": [
    {
     "data": {
      "text/html": [
       "<style scoped>\n",
       "  .ansiout {\n",
       "    display: block;\n",
       "    unicode-bidi: embed;\n",
       "    white-space: pre-wrap;\n",
       "    word-wrap: break-word;\n",
       "    word-break: break-all;\n",
       "    font-family: \"Source Code Pro\", \"Menlo\", monospace;;\n",
       "    font-size: 13px;\n",
       "    color: #555;\n",
       "    margin-left: 4px;\n",
       "    line-height: 19px;\n",
       "  }\n",
       "</style>\n",
       "<div class=\"ansiout\"></div>"
      ]
     },
     "metadata": {
      "application/vnd.databricks.v1+output": {
       "addedWidgets": {},
       "arguments": {},
       "data": "<div class=\"ansiout\"></div>",
       "datasetInfos": [],
       "metadata": {},
       "removedWidgets": [],
       "type": "html"
      }
     },
     "output_type": "display_data"
    }
   ],
   "source": [
    "from pyspark.ml import Pipeline\n",
    "from pyspark.ml.feature import OneHotEncoder ,StringIndexer, VectorAssembler\n",
    "\n",
    "catColumns = [\"gender\",\"SeniorCitizen\",\"Partner\",\"Dependents\",\"PhoneService\",\"MultipleLines\",\"InternetService\",\"OnlineSecurity\",\n",
    "             \"OnlineBackup\",\"DeviceProtection\",\"TechSupport\",\"StreamingTV\",\"StreamingMovies\",\"Contract\",\"PaperlessBilling\",\"PaymentMethod\"]"
   ]
  },
  {
   "cell_type": "code",
   "execution_count": 0,
   "metadata": {
    "application/vnd.databricks.v1+cell": {
     "inputWidgets": {},
     "nuid": "503642f0-44a2-48ae-90be-5ce6164ca035",
     "showTitle": false,
     "title": ""
    }
   },
   "outputs": [
    {
     "data": {
      "text/html": [
       "<style scoped>\n",
       "  .ansiout {\n",
       "    display: block;\n",
       "    unicode-bidi: embed;\n",
       "    white-space: pre-wrap;\n",
       "    word-wrap: break-word;\n",
       "    word-break: break-all;\n",
       "    font-family: \"Source Code Pro\", \"Menlo\", monospace;;\n",
       "    font-size: 13px;\n",
       "    color: #555;\n",
       "    margin-left: 4px;\n",
       "    line-height: 19px;\n",
       "  }\n",
       "</style>\n",
       "<div class=\"ansiout\"></div>"
      ]
     },
     "metadata": {
      "application/vnd.databricks.v1+output": {
       "addedWidgets": {},
       "arguments": {},
       "data": "<div class=\"ansiout\"></div>",
       "datasetInfos": [],
       "metadata": {},
       "removedWidgets": [],
       "type": "html"
      }
     },
     "output_type": "display_data"
    }
   ],
   "source": [
    "stages = []\n",
    "\n",
    "for catcol in catColumns:\n",
    "  \n",
    "  stringIndexer = StringIndexer(inputCol = catcol, outputCol = catcol + \"Index\")\n",
    "  \n",
    "  encoder = OneHotEncoder(inputCols = [stringIndexer.getOutputCol()], outputCols = [catcol + \"catVec\"])\n",
    "  \n",
    "  stages += [stringIndexer,encoder]"
   ]
  },
  {
   "cell_type": "code",
   "execution_count": 0,
   "metadata": {
    "application/vnd.databricks.v1+cell": {
     "inputWidgets": {},
     "nuid": "502e4099-258e-4c32-bcac-f0fb45a9fed3",
     "showTitle": false,
     "title": ""
    }
   },
   "outputs": [
    {
     "data": {
      "text/html": [
       "<style scoped>\n",
       "  .ansiout {\n",
       "    display: block;\n",
       "    unicode-bidi: embed;\n",
       "    white-space: pre-wrap;\n",
       "    word-wrap: break-word;\n",
       "    word-break: break-all;\n",
       "    font-family: \"Source Code Pro\", \"Menlo\", monospace;;\n",
       "    font-size: 13px;\n",
       "    color: #555;\n",
       "    margin-left: 4px;\n",
       "    line-height: 19px;\n",
       "  }\n",
       "</style>\n",
       "<div class=\"ansiout\">Out[26]: [StringIndexer_7ddc4c608131,\n",
       " OneHotEncoder_5d70f327efe0,\n",
       " StringIndexer_fcbbceed95c9,\n",
       " OneHotEncoder_3f07b44cd725,\n",
       " StringIndexer_f35ca085a5eb,\n",
       " OneHotEncoder_c998015c0c75,\n",
       " StringIndexer_e0033c52cd51,\n",
       " OneHotEncoder_203804eed254,\n",
       " StringIndexer_fbe0aef18d70,\n",
       " OneHotEncoder_c842a729c776,\n",
       " StringIndexer_76a745b17fdd,\n",
       " OneHotEncoder_489aeab60c15,\n",
       " StringIndexer_70bf15603f74,\n",
       " OneHotEncoder_0d2d1966e5d4,\n",
       " StringIndexer_f64d67b8b0f8,\n",
       " OneHotEncoder_858d7d3fab4e,\n",
       " StringIndexer_01f53e5479d7,\n",
       " OneHotEncoder_6edf672ef400,\n",
       " StringIndexer_c2455dc07bf5,\n",
       " OneHotEncoder_3f6290707ca6,\n",
       " StringIndexer_518cdcb994cc,\n",
       " OneHotEncoder_f05ebb902906,\n",
       " StringIndexer_39d76cb0e4f8,\n",
       " OneHotEncoder_32b0e5748725,\n",
       " StringIndexer_dedc020de4b1,\n",
       " OneHotEncoder_439e9a4a4f61,\n",
       " StringIndexer_5d51413e76d4,\n",
       " OneHotEncoder_ef1aaf0ec869,\n",
       " StringIndexer_652eb49c11b9,\n",
       " OneHotEncoder_4e8289b0b7d6,\n",
       " StringIndexer_dd9fa0f3a7d4,\n",
       " OneHotEncoder_02c08fbc7c9c]</div>"
      ]
     },
     "metadata": {
      "application/vnd.databricks.v1+output": {
       "addedWidgets": {},
       "arguments": {},
       "data": "<div class=\"ansiout\">Out[26]: [StringIndexer_7ddc4c608131,\n OneHotEncoder_5d70f327efe0,\n StringIndexer_fcbbceed95c9,\n OneHotEncoder_3f07b44cd725,\n StringIndexer_f35ca085a5eb,\n OneHotEncoder_c998015c0c75,\n StringIndexer_e0033c52cd51,\n OneHotEncoder_203804eed254,\n StringIndexer_fbe0aef18d70,\n OneHotEncoder_c842a729c776,\n StringIndexer_76a745b17fdd,\n OneHotEncoder_489aeab60c15,\n StringIndexer_70bf15603f74,\n OneHotEncoder_0d2d1966e5d4,\n StringIndexer_f64d67b8b0f8,\n OneHotEncoder_858d7d3fab4e,\n StringIndexer_01f53e5479d7,\n OneHotEncoder_6edf672ef400,\n StringIndexer_c2455dc07bf5,\n OneHotEncoder_3f6290707ca6,\n StringIndexer_518cdcb994cc,\n OneHotEncoder_f05ebb902906,\n StringIndexer_39d76cb0e4f8,\n OneHotEncoder_32b0e5748725,\n StringIndexer_dedc020de4b1,\n OneHotEncoder_439e9a4a4f61,\n StringIndexer_5d51413e76d4,\n OneHotEncoder_ef1aaf0ec869,\n StringIndexer_652eb49c11b9,\n OneHotEncoder_4e8289b0b7d6,\n StringIndexer_dd9fa0f3a7d4,\n OneHotEncoder_02c08fbc7c9c]</div>",
       "datasetInfos": [],
       "metadata": {},
       "removedWidgets": [],
       "type": "html"
      }
     },
     "output_type": "display_data"
    }
   ],
   "source": [
    "stages"
   ]
  },
  {
   "cell_type": "code",
   "execution_count": 0,
   "metadata": {
    "application/vnd.databricks.v1+cell": {
     "inputWidgets": {},
     "nuid": "59cd7abf-ed1f-45aa-895c-a8319c1d3b3a",
     "showTitle": false,
     "title": ""
    }
   },
   "outputs": [
    {
     "data": {
      "text/html": [
       "<style scoped>\n",
       "  .ansiout {\n",
       "    display: block;\n",
       "    unicode-bidi: embed;\n",
       "    white-space: pre-wrap;\n",
       "    word-wrap: break-word;\n",
       "    word-break: break-all;\n",
       "    font-family: \"Source Code Pro\", \"Menlo\", monospace;;\n",
       "    font-size: 13px;\n",
       "    color: #555;\n",
       "    margin-left: 4px;\n",
       "    line-height: 19px;\n",
       "  }\n",
       "</style>\n",
       "<div class=\"ansiout\"></div>"
      ]
     },
     "metadata": {
      "application/vnd.databricks.v1+output": {
       "addedWidgets": {},
       "arguments": {},
       "data": "<div class=\"ansiout\"></div>",
       "datasetInfos": [],
       "metadata": {},
       "removedWidgets": [],
       "type": "html"
      }
     },
     "output_type": "display_data"
    }
   ],
   "source": [
    "label_Idx = StringIndexer(inputCol=\"Churn\",outputCol = \"label\")\n",
    "stages += [label_Idx]\n"
   ]
  },
  {
   "cell_type": "code",
   "execution_count": 0,
   "metadata": {
    "application/vnd.databricks.v1+cell": {
     "inputWidgets": {},
     "nuid": "3d31e7a4-6dbe-449a-b9f6-a0482c10fc6f",
     "showTitle": false,
     "title": ""
    }
   },
   "outputs": [
    {
     "data": {
      "text/html": [
       "<style scoped>\n",
       "  .ansiout {\n",
       "    display: block;\n",
       "    unicode-bidi: embed;\n",
       "    white-space: pre-wrap;\n",
       "    word-wrap: break-word;\n",
       "    word-break: break-all;\n",
       "    font-family: \"Source Code Pro\", \"Menlo\", monospace;;\n",
       "    font-size: 13px;\n",
       "    color: #555;\n",
       "    margin-left: 4px;\n",
       "    line-height: 19px;\n",
       "  }\n",
       "</style>\n",
       "<div class=\"ansiout\">+----------+------+-------------+-------+----------+------+------------+-------------+---------------+--------------+------------+----------------+-----------+-----------+---------------+--------+----------------+-------------+--------------+------------+-----+-----+\n",
       "customerID|gender|SeniorCitizen|Partner|Dependents|tenure|PhoneService|MultipleLines|InternetService|OnlineSecurity|OnlineBackup|DeviceProtection|TechSupport|StreamingTV|StreamingMovies|Contract|PaperlessBilling|PaymentMethod|MonthlyCharges|TotalCharges|Churn|label|\n",
       "+----------+------+-------------+-------+----------+------+------------+-------------+---------------+--------------+------------+----------------+-----------+-----------+---------------+--------+----------------+-------------+--------------+------------+-----+-----+\n",
       "0002-ORFBO|Female|            0|    Yes|       Yes|     9|         Yes|           No|            DSL|            No|         Yes|              No|        Yes|        Yes|             No|One year|             Yes| Mailed check|          65.6|       593.3|   No|  0.0|\n",
       "+----------+------+-------------+-------+----------+------+------------+-------------+---------------+--------------+------------+----------------+-----------+-----------+---------------+--------+----------------+-------------+--------------+------------+-----+-----+\n",
       "only showing top 1 row\n",
       "\n",
       "</div>"
      ]
     },
     "metadata": {
      "application/vnd.databricks.v1+output": {
       "addedWidgets": {},
       "arguments": {},
       "data": "<div class=\"ansiout\">+----------+------+-------------+-------+----------+------+------------+-------------+---------------+--------------+------------+----------------+-----------+-----------+---------------+--------+----------------+-------------+--------------+------------+-----+-----+\n|customerID|gender|SeniorCitizen|Partner|Dependents|tenure|PhoneService|MultipleLines|InternetService|OnlineSecurity|OnlineBackup|DeviceProtection|TechSupport|StreamingTV|StreamingMovies|Contract|PaperlessBilling|PaymentMethod|MonthlyCharges|TotalCharges|Churn|label|\n+----------+------+-------------+-------+----------+------+------------+-------------+---------------+--------------+------------+----------------+-----------+-----------+---------------+--------+----------------+-------------+--------------+------------+-----+-----+\n|0002-ORFBO|Female|            0|    Yes|       Yes|     9|         Yes|           No|            DSL|            No|         Yes|              No|        Yes|        Yes|             No|One year|             Yes| Mailed check|          65.6|       593.3|   No|  0.0|\n+----------+------+-------------+-------+----------+------+------------+-------------+---------------+--------------+------------+----------------+-----------+-----------+---------------+--------+----------------+-------------+--------------+------------+-----+-----+\nonly showing top 1 row\n\n</div>",
       "datasetInfos": [],
       "metadata": {},
       "removedWidgets": [],
       "type": "html"
      }
     },
     "output_type": "display_data"
    }
   ],
   "source": [
    "temp = label_Idx.fit(train_data).transform(train_data)\n",
    "temp.show(1)"
   ]
  },
  {
   "cell_type": "code",
   "execution_count": 0,
   "metadata": {
    "application/vnd.databricks.v1+cell": {
     "inputWidgets": {},
     "nuid": "4bfb0970-509b-4e5e-ad31-03bdcc808552",
     "showTitle": false,
     "title": ""
    }
   },
   "outputs": [
    {
     "data": {
      "text/html": [
       "<style scoped>\n",
       "  .ansiout {\n",
       "    display: block;\n",
       "    unicode-bidi: embed;\n",
       "    white-space: pre-wrap;\n",
       "    word-wrap: break-word;\n",
       "    word-break: break-all;\n",
       "    font-family: \"Source Code Pro\", \"Menlo\", monospace;;\n",
       "    font-size: 13px;\n",
       "    color: #555;\n",
       "    margin-left: 4px;\n",
       "    line-height: 19px;\n",
       "  }\n",
       "</style>\n",
       "<div class=\"ansiout\"></div>"
      ]
     },
     "metadata": {
      "application/vnd.databricks.v1+output": {
       "addedWidgets": {},
       "arguments": {},
       "data": "<div class=\"ansiout\"></div>",
       "datasetInfos": [],
       "metadata": {},
       "removedWidgets": [],
       "type": "html"
      }
     },
     "output_type": "display_data"
    }
   ],
   "source": [
    "from pyspark.ml.feature import QuantileDiscretizer\n",
    "tenure_bin = QuantileDiscretizer(inputCol = \"tenure\" ,numBuckets = 3 , outputCol = \"tenure_bin\" )\n",
    "stages += [tenure_bin]"
   ]
  },
  {
   "cell_type": "code",
   "execution_count": 0,
   "metadata": {
    "application/vnd.databricks.v1+cell": {
     "inputWidgets": {},
     "nuid": "abe047e4-995f-4759-b64b-99296ab663a6",
     "showTitle": false,
     "title": ""
    }
   },
   "outputs": [
    {
     "data": {
      "text/html": [
       "<style scoped>\n",
       "  .ansiout {\n",
       "    display: block;\n",
       "    unicode-bidi: embed;\n",
       "    white-space: pre-wrap;\n",
       "    word-wrap: break-word;\n",
       "    word-break: break-all;\n",
       "    font-family: \"Source Code Pro\", \"Menlo\", monospace;;\n",
       "    font-size: 13px;\n",
       "    color: #555;\n",
       "    margin-left: 4px;\n",
       "    line-height: 19px;\n",
       "  }\n",
       "</style>\n",
       "<div class=\"ansiout\"></div>"
      ]
     },
     "metadata": {
      "application/vnd.databricks.v1+output": {
       "addedWidgets": {},
       "arguments": {},
       "data": "<div class=\"ansiout\"></div>",
       "datasetInfos": [],
       "metadata": {},
       "removedWidgets": [],
       "type": "html"
      }
     },
     "output_type": "display_data"
    }
   ],
   "source": [
    "numCols = [\"tenure_bin\",\"MonthlyCharges\"]\n",
    "assembleInputs = [c + \"catVec\" for c in catColumns] + numCols\n",
    "assembler = VectorAssembler(inputCols = assembleInputs , outputCol = \"features\")\n",
    "stages += [assembler]\n"
   ]
  },
  {
   "cell_type": "code",
   "execution_count": 0,
   "metadata": {
    "application/vnd.databricks.v1+cell": {
     "inputWidgets": {},
     "nuid": "31e663ee-a1d5-4506-8df6-02e03938cf78",
     "showTitle": false,
     "title": ""
    }
   },
   "outputs": [
    {
     "data": {
      "text/html": [
       "<style scoped>\n",
       "  .ansiout {\n",
       "    display: block;\n",
       "    unicode-bidi: embed;\n",
       "    white-space: pre-wrap;\n",
       "    word-wrap: break-word;\n",
       "    word-break: break-all;\n",
       "    font-family: \"Source Code Pro\", \"Menlo\", monospace;;\n",
       "    font-size: 13px;\n",
       "    color: #555;\n",
       "    margin-left: 4px;\n",
       "    line-height: 19px;\n",
       "  }\n",
       "</style>\n",
       "<div class=\"ansiout\"></div>"
      ]
     },
     "metadata": {
      "application/vnd.databricks.v1+output": {
       "addedWidgets": {},
       "arguments": {},
       "data": "<div class=\"ansiout\"></div>",
       "datasetInfos": [],
       "metadata": {},
       "removedWidgets": [],
       "type": "html"
      }
     },
     "output_type": "display_data"
    }
   ],
   "source": [
    "pipeline = Pipeline().setStages(stages)\n",
    "pipelineModel = pipeline.fit(train_data)"
   ]
  },
  {
   "cell_type": "code",
   "execution_count": 0,
   "metadata": {
    "application/vnd.databricks.v1+cell": {
     "inputWidgets": {},
     "nuid": "a5df60f6-cfe1-4142-ade8-f1a116b3cf82",
     "showTitle": false,
     "title": ""
    }
   },
   "outputs": [
    {
     "data": {
      "text/html": [
       "<style scoped>\n",
       "  .ansiout {\n",
       "    display: block;\n",
       "    unicode-bidi: embed;\n",
       "    white-space: pre-wrap;\n",
       "    word-wrap: break-word;\n",
       "    word-break: break-all;\n",
       "    font-family: \"Source Code Pro\", \"Menlo\", monospace;;\n",
       "    font-size: 13px;\n",
       "    color: #555;\n",
       "    margin-left: 4px;\n",
       "    line-height: 19px;\n",
       "  }\n",
       "</style>\n",
       "<div class=\"ansiout\"></div>"
      ]
     },
     "metadata": {
      "application/vnd.databricks.v1+output": {
       "addedWidgets": {},
       "arguments": {},
       "data": "<div class=\"ansiout\"></div>",
       "datasetInfos": [],
       "metadata": {},
       "removedWidgets": [],
       "type": "html"
      }
     },
     "output_type": "display_data"
    }
   ],
   "source": [
    "trainprepDF = pipelineModel.transform(train_data)\n",
    "testprepDF = pipelineModel.transform(test_data)"
   ]
  },
  {
   "cell_type": "code",
   "execution_count": 0,
   "metadata": {
    "application/vnd.databricks.v1+cell": {
     "inputWidgets": {},
     "nuid": "99013928-bb69-4136-9622-fc6f9bd8ceb5",
     "showTitle": false,
     "title": ""
    }
   },
   "outputs": [
    {
     "data": {
      "text/html": [
       "<style scoped>\n",
       "  .ansiout {\n",
       "    display: block;\n",
       "    unicode-bidi: embed;\n",
       "    white-space: pre-wrap;\n",
       "    word-wrap: break-word;\n",
       "    word-break: break-all;\n",
       "    font-family: \"Source Code Pro\", \"Menlo\", monospace;;\n",
       "    font-size: 13px;\n",
       "    color: #555;\n",
       "    margin-left: 4px;\n",
       "    line-height: 19px;\n",
       "  }\n",
       "</style>\n",
       "<div class=\"ansiout\">Out[40]: [Row(customerID=&#39;0002-ORFBO&#39;, gender=&#39;Female&#39;, SeniorCitizen=0, Partner=&#39;Yes&#39;, Dependents=&#39;Yes&#39;, tenure=9, PhoneService=&#39;Yes&#39;, MultipleLines=&#39;No&#39;, InternetService=&#39;DSL&#39;, OnlineSecurity=&#39;No&#39;, OnlineBackup=&#39;Yes&#39;, DeviceProtection=&#39;No&#39;, TechSupport=&#39;Yes&#39;, StreamingTV=&#39;Yes&#39;, StreamingMovies=&#39;No&#39;, Contract=&#39;One year&#39;, PaperlessBilling=&#39;Yes&#39;, PaymentMethod=&#39;Mailed check&#39;, MonthlyCharges=65.6, TotalCharges=&#39;593.3&#39;, Churn=&#39;No&#39;, genderIndex=1.0, gendercatVec=SparseVector(1, {}), SeniorCitizenIndex=0.0, SeniorCitizencatVec=SparseVector(1, {0: 1.0}), PartnerIndex=1.0, PartnercatVec=SparseVector(1, {}), DependentsIndex=1.0, DependentscatVec=SparseVector(1, {}), PhoneServiceIndex=0.0, PhoneServicecatVec=SparseVector(1, {0: 1.0}), MultipleLinesIndex=0.0, MultipleLinescatVec=SparseVector(2, {0: 1.0}), InternetServiceIndex=1.0, InternetServicecatVec=SparseVector(2, {1: 1.0}), OnlineSecurityIndex=0.0, OnlineSecuritycatVec=SparseVector(2, {0: 1.0}), OnlineBackupIndex=1.0, OnlineBackupcatVec=SparseVector(2, {1: 1.0}), DeviceProtectionIndex=0.0, DeviceProtectioncatVec=SparseVector(2, {0: 1.0}), TechSupportIndex=1.0, TechSupportcatVec=SparseVector(2, {1: 1.0}), StreamingTVIndex=1.0, StreamingTVcatVec=SparseVector(2, {1: 1.0}), StreamingMoviesIndex=0.0, StreamingMoviescatVec=SparseVector(2, {0: 1.0}), ContractIndex=2.0, ContractcatVec=SparseVector(2, {}), PaperlessBillingIndex=0.0, PaperlessBillingcatVec=SparseVector(1, {0: 1.0}), PaymentMethodIndex=1.0, PaymentMethodcatVec=SparseVector(3, {1: 1.0}), label=0.0, tenure_bin=0.0, features=SparseVector(29, {1: 1.0, 4: 1.0, 5: 1.0, 8: 1.0, 9: 1.0, 12: 1.0, 13: 1.0, 16: 1.0, 18: 1.0, 19: 1.0, 23: 1.0, 25: 1.0, 28: 65.6}))]</div>"
      ]
     },
     "metadata": {
      "application/vnd.databricks.v1+output": {
       "addedWidgets": {},
       "arguments": {},
       "data": "<div class=\"ansiout\">Out[40]: [Row(customerID=&#39;0002-ORFBO&#39;, gender=&#39;Female&#39;, SeniorCitizen=0, Partner=&#39;Yes&#39;, Dependents=&#39;Yes&#39;, tenure=9, PhoneService=&#39;Yes&#39;, MultipleLines=&#39;No&#39;, InternetService=&#39;DSL&#39;, OnlineSecurity=&#39;No&#39;, OnlineBackup=&#39;Yes&#39;, DeviceProtection=&#39;No&#39;, TechSupport=&#39;Yes&#39;, StreamingTV=&#39;Yes&#39;, StreamingMovies=&#39;No&#39;, Contract=&#39;One year&#39;, PaperlessBilling=&#39;Yes&#39;, PaymentMethod=&#39;Mailed check&#39;, MonthlyCharges=65.6, TotalCharges=&#39;593.3&#39;, Churn=&#39;No&#39;, genderIndex=1.0, gendercatVec=SparseVector(1, {}), SeniorCitizenIndex=0.0, SeniorCitizencatVec=SparseVector(1, {0: 1.0}), PartnerIndex=1.0, PartnercatVec=SparseVector(1, {}), DependentsIndex=1.0, DependentscatVec=SparseVector(1, {}), PhoneServiceIndex=0.0, PhoneServicecatVec=SparseVector(1, {0: 1.0}), MultipleLinesIndex=0.0, MultipleLinescatVec=SparseVector(2, {0: 1.0}), InternetServiceIndex=1.0, InternetServicecatVec=SparseVector(2, {1: 1.0}), OnlineSecurityIndex=0.0, OnlineSecuritycatVec=SparseVector(2, {0: 1.0}), OnlineBackupIndex=1.0, OnlineBackupcatVec=SparseVector(2, {1: 1.0}), DeviceProtectionIndex=0.0, DeviceProtectioncatVec=SparseVector(2, {0: 1.0}), TechSupportIndex=1.0, TechSupportcatVec=SparseVector(2, {1: 1.0}), StreamingTVIndex=1.0, StreamingTVcatVec=SparseVector(2, {1: 1.0}), StreamingMoviesIndex=0.0, StreamingMoviescatVec=SparseVector(2, {0: 1.0}), ContractIndex=2.0, ContractcatVec=SparseVector(2, {}), PaperlessBillingIndex=0.0, PaperlessBillingcatVec=SparseVector(1, {0: 1.0}), PaymentMethodIndex=1.0, PaymentMethodcatVec=SparseVector(3, {1: 1.0}), label=0.0, tenure_bin=0.0, features=SparseVector(29, {1: 1.0, 4: 1.0, 5: 1.0, 8: 1.0, 9: 1.0, 12: 1.0, 13: 1.0, 16: 1.0, 18: 1.0, 19: 1.0, 23: 1.0, 25: 1.0, 28: 65.6}))]</div>",
       "datasetInfos": [],
       "metadata": {},
       "removedWidgets": [],
       "type": "html"
      }
     },
     "output_type": "display_data"
    }
   ],
   "source": [
    "trainprepDF.head(1)"
   ]
  },
  {
   "cell_type": "code",
   "execution_count": 0,
   "metadata": {
    "application/vnd.databricks.v1+cell": {
     "inputWidgets": {},
     "nuid": "b8389121-33b8-44ef-a117-7689d6c6a977",
     "showTitle": false,
     "title": ""
    }
   },
   "outputs": [
    {
     "data": {
      "text/html": [
       "<style scoped>\n",
       "  .ansiout {\n",
       "    display: block;\n",
       "    unicode-bidi: embed;\n",
       "    white-space: pre-wrap;\n",
       "    word-wrap: break-word;\n",
       "    word-break: break-all;\n",
       "    font-family: \"Source Code Pro\", \"Menlo\", monospace;;\n",
       "    font-size: 13px;\n",
       "    color: #555;\n",
       "    margin-left: 4px;\n",
       "    line-height: 19px;\n",
       "  }\n",
       "</style>\n",
       "<div class=\"ansiout\"></div>"
      ]
     },
     "metadata": {
      "application/vnd.databricks.v1+output": {
       "addedWidgets": {},
       "arguments": {},
       "data": "<div class=\"ansiout\"></div>",
       "datasetInfos": [],
       "metadata": {},
       "removedWidgets": [],
       "type": "html"
      }
     },
     "output_type": "display_data"
    }
   ],
   "source": [
    "from pyspark.ml.classification import LogisticRegression\n",
    "\n",
    "lr = LogisticRegression(labelCol = \"label\",featuresCol=\"features\",maxIter = 10)\n",
    "lrModel = lr.fit(trainprepDF)"
   ]
  },
  {
   "cell_type": "code",
   "execution_count": 0,
   "metadata": {
    "application/vnd.databricks.v1+cell": {
     "inputWidgets": {},
     "nuid": "91a77450-4605-44a7-9ebe-afb87b8af731",
     "showTitle": false,
     "title": ""
    }
   },
   "outputs": [
    {
     "data": {
      "text/html": [
       "<style scoped>\n",
       "  .ansiout {\n",
       "    display: block;\n",
       "    unicode-bidi: embed;\n",
       "    white-space: pre-wrap;\n",
       "    word-wrap: break-word;\n",
       "    word-break: break-all;\n",
       "    font-family: \"Source Code Pro\", \"Menlo\", monospace;;\n",
       "    font-size: 13px;\n",
       "    color: #555;\n",
       "    margin-left: 4px;\n",
       "    line-height: 19px;\n",
       "  }\n",
       "</style>\n",
       "<div class=\"ansiout\">accuracy: 0.8047349251315257,\n",
       "False positivity rate: 0.36287920021128467,\n",
       "True positivity rate: 0.8047349251315257,\n",
       "F value :0.7984926246247309,\n",
       "precsion:0.7961582971523463,\n",
       "recall: 0.8047349251315257\n",
       "</div>"
      ]
     },
     "metadata": {
      "application/vnd.databricks.v1+output": {
       "addedWidgets": {},
       "arguments": {},
       "data": "<div class=\"ansiout\">accuracy: 0.8047349251315257,\nFalse positivity rate: 0.36287920021128467,\nTrue positivity rate: 0.8047349251315257,\nF value :0.7984926246247309,\nprecsion:0.7961582971523463,\nrecall: 0.8047349251315257\n</div>",
       "datasetInfos": [],
       "metadata": {},
       "removedWidgets": [],
       "type": "html"
      }
     },
     "output_type": "display_data"
    }
   ],
   "source": [
    "summary = lrModel.summary\n",
    "acc = summary.accuracy\n",
    "falsepositive = summary.weightedFalsePositiveRate\n",
    "truepositiverate = summary.weightedTruePositiveRate\n",
    "Fvalue = summary.weightedFMeasure()\n",
    "precision = summary.weightedPrecision\n",
    "recall = summary.weightedRecall\n",
    "print(f\"\"\"accuracy: {acc},\n",
    "False positivity rate: {falsepositive},\n",
    "True positivity rate: {truepositiverate},\n",
    "F value :{Fvalue},\n",
    "precsion:{precision},\n",
    "recall: {recall}\"\"\")"
   ]
  },
  {
   "cell_type": "code",
   "execution_count": 0,
   "metadata": {
    "application/vnd.databricks.v1+cell": {
     "inputWidgets": {},
     "nuid": "c9a83005-88c8-4f50-84a1-0a97342da62a",
     "showTitle": false,
     "title": ""
    }
   },
   "outputs": [
    {
     "data": {
      "text/html": [
       "<style scoped>\n",
       "  .table-result-container {\n",
       "    max-height: 300px;\n",
       "    overflow: auto;\n",
       "  }\n",
       "  table, th, td {\n",
       "    border: 1px solid black;\n",
       "    border-collapse: collapse;\n",
       "  }\n",
       "  th, td {\n",
       "    padding: 5px;\n",
       "  }\n",
       "  th {\n",
       "    text-align: left;\n",
       "  }\n",
       "</style><div class='table-result-container'><table class='table-result'><thead style='background-color: white'><tr><th>False Positive Rate</th><th>True Positive Rate</th><th>Threshold</th></tr></thead><tbody><tr><td>0.0</td><td>0.0</td><td>0.8328895166451664</td></tr><tr><td>0.0</td><td>0.029411764705882353</td><td>0.8328895166451664</td></tr><tr><td>0.0</td><td>0.058823529411764705</td><td>0.8208970659486171</td></tr><tr><td>0.0</td><td>0.08823529411764706</td><td>0.8027985511298473</td></tr><tr><td>0.013333333333333334</td><td>0.08823529411764706</td><td>0.7671391662834024</td></tr><tr><td>0.013333333333333334</td><td>0.11764705882352941</td><td>0.7420237776049148</td></tr><tr><td>0.02666666666666667</td><td>0.11764705882352941</td><td>0.7415030877851138</td></tr><tr><td>0.02666666666666667</td><td>0.14705882352941177</td><td>0.7372651525253646</td></tr><tr><td>0.04</td><td>0.14705882352941177</td><td>0.7273512680662639</td></tr><tr><td>0.04</td><td>0.17647058823529413</td><td>0.7182733442748295</td></tr><tr><td>0.04</td><td>0.20588235294117646</td><td>0.7175747784801831</td></tr><tr><td>0.04</td><td>0.23529411764705882</td><td>0.7118663671581701</td></tr><tr><td>0.04</td><td>0.2647058823529412</td><td>0.7033122855896821</td></tr><tr><td>0.04</td><td>0.29411764705882354</td><td>0.6886464338541486</td></tr><tr><td>0.04</td><td>0.3235294117647059</td><td>0.677043157636869</td></tr><tr><td>0.05333333333333334</td><td>0.3235294117647059</td><td>0.6660533889019828</td></tr><tr><td>0.06666666666666667</td><td>0.3235294117647059</td><td>0.6465686100952766</td></tr><tr><td>0.06666666666666667</td><td>0.35294117647058826</td><td>0.6413478620308075</td></tr><tr><td>0.08</td><td>0.35294117647058826</td><td>0.6117461319611452</td></tr><tr><td>0.08</td><td>0.38235294117647056</td><td>0.6080593438447957</td></tr><tr><td>0.08</td><td>0.4117647058823529</td><td>0.6049315501668707</td></tr><tr><td>0.08</td><td>0.4411764705882353</td><td>0.5362022617774413</td></tr><tr><td>0.09333333333333334</td><td>0.4411764705882353</td><td>0.5303375346663293</td></tr><tr><td>0.09333333333333334</td><td>0.47058823529411764</td><td>0.5136573152014798</td></tr><tr><td>0.10666666666666667</td><td>0.47058823529411764</td><td>0.5126786064072661</td></tr><tr><td>0.10666666666666667</td><td>0.5</td><td>0.5036169676121405</td></tr><tr><td>0.12</td><td>0.5</td><td>0.4982496339663023</td></tr><tr><td>0.12</td><td>0.5294117647058824</td><td>0.48073344580807476</td></tr><tr><td>0.12</td><td>0.5588235294117647</td><td>0.47838059831319724</td></tr><tr><td>0.12</td><td>0.5882352941176471</td><td>0.46137576892623766</td></tr><tr><td>0.12</td><td>0.6176470588235294</td><td>0.4575303548074817</td></tr><tr><td>0.12</td><td>0.6470588235294118</td><td>0.4512451665633317</td></tr><tr><td>0.13333333333333333</td><td>0.6470588235294118</td><td>0.4293161395492153</td></tr><tr><td>0.13333333333333333</td><td>0.6764705882352942</td><td>0.40475914637917443</td></tr><tr><td>0.13333333333333333</td><td>0.7058823529411765</td><td>0.3975904095060723</td></tr><tr><td>0.14666666666666667</td><td>0.7058823529411765</td><td>0.38251593695774566</td></tr><tr><td>0.14666666666666667</td><td>0.7352941176470589</td><td>0.35852193212906036</td></tr><tr><td>0.16</td><td>0.7352941176470589</td><td>0.3521807547085404</td></tr><tr><td>0.16</td><td>0.7647058823529411</td><td>0.34738447468125244</td></tr><tr><td>0.17333333333333334</td><td>0.7647058823529411</td><td>0.3193790221446611</td></tr><tr><td>0.17333333333333334</td><td>0.7941176470588235</td><td>0.3122612138473423</td></tr><tr><td>0.17333333333333334</td><td>0.8235294117647058</td><td>0.3075355097832684</td></tr><tr><td>0.17333333333333334</td><td>0.8529411764705882</td><td>0.2785513935660797</td></tr><tr><td>0.18666666666666668</td><td>0.8529411764705882</td><td>0.27018960766600053</td></tr><tr><td>0.2</td><td>0.8529411764705882</td><td>0.251342505563514</td></tr><tr><td>0.21333333333333335</td><td>0.8529411764705882</td><td>0.24852589163469185</td></tr><tr><td>0.22666666666666666</td><td>0.8529411764705882</td><td>0.22910520626538045</td></tr><tr><td>0.24</td><td>0.8529411764705882</td><td>0.22627160962596737</td></tr><tr><td>0.24</td><td>0.8823529411764706</td><td>0.21596203020046745</td></tr><tr><td>0.24</td><td>0.9117647058823529</td><td>0.20335200767025408</td></tr><tr><td>0.25333333333333335</td><td>0.9117647058823529</td><td>0.19182641499252906</td></tr><tr><td>0.26666666666666666</td><td>0.9117647058823529</td><td>0.18515165046521975</td></tr><tr><td>0.28</td><td>0.9117647058823529</td><td>0.18192739572967442</td></tr><tr><td>0.28</td><td>0.9411764705882353</td><td>0.17924568427014942</td></tr><tr><td>0.29333333333333333</td><td>0.9411764705882353</td><td>0.17442186524195913</td></tr><tr><td>0.30666666666666664</td><td>0.9411764705882353</td><td>0.16542083211886438</td></tr><tr><td>0.32</td><td>0.9411764705882353</td><td>0.15879803491687527</td></tr><tr><td>0.32</td><td>0.9705882352941176</td><td>0.1376278276504036</td></tr><tr><td>0.3333333333333333</td><td>0.9705882352941176</td><td>0.13583289419892175</td></tr><tr><td>0.3466666666666667</td><td>0.9705882352941176</td><td>0.12503724322098886</td></tr><tr><td>0.36</td><td>0.9705882352941176</td><td>0.124255266204645</td></tr><tr><td>0.37333333333333335</td><td>0.9705882352941176</td><td>0.12253022070332065</td></tr><tr><td>0.38666666666666666</td><td>0.9705882352941176</td><td>0.11943225660801071</td></tr><tr><td>0.4</td><td>0.9705882352941176</td><td>0.11849943712164934</td></tr><tr><td>0.41333333333333333</td><td>0.9705882352941176</td><td>0.11601501139163517</td></tr><tr><td>0.4266666666666667</td><td>0.9705882352941176</td><td>0.1151201485346185</td></tr><tr><td>0.44</td><td>0.9705882352941176</td><td>0.1111657457567703</td></tr><tr><td>0.4533333333333333</td><td>0.9705882352941176</td><td>0.09394974954958046</td></tr><tr><td>0.4666666666666667</td><td>0.9705882352941176</td><td>0.09124802351056105</td></tr><tr><td>0.48</td><td>0.9705882352941176</td><td>0.08122263123378248</td></tr><tr><td>0.49333333333333335</td><td>0.9705882352941176</td><td>0.07832555388203366</td></tr><tr><td>0.5066666666666667</td><td>0.9705882352941176</td><td>0.07781526088121904</td></tr><tr><td>0.52</td><td>0.9705882352941176</td><td>0.07182070297569332</td></tr><tr><td>0.5333333333333333</td><td>0.9705882352941176</td><td>0.06996011280947767</td></tr><tr><td>0.5466666666666666</td><td>0.9705882352941176</td><td>0.06799563066124226</td></tr><tr><td>0.56</td><td>0.9705882352941176</td><td>0.06413343188361886</td></tr><tr><td>0.5733333333333334</td><td>0.9705882352941176</td><td>0.04992442119053064</td></tr><tr><td>0.5866666666666667</td><td>0.9705882352941176</td><td>0.04931307437771837</td></tr><tr><td>0.6</td><td>0.9705882352941176</td><td>0.045950910379483845</td></tr><tr><td>0.6133333333333333</td><td>0.9705882352941176</td><td>0.04294671239164116</td></tr><tr><td>0.6266666666666667</td><td>0.9705882352941176</td><td>0.0413080215233963</td></tr><tr><td>0.64</td><td>0.9705882352941176</td><td>0.041263981236131064</td></tr><tr><td>0.6533333333333333</td><td>0.9705882352941176</td><td>0.0405973130378281</td></tr><tr><td>0.6666666666666666</td><td>0.9705882352941176</td><td>0.0404328318354793</td></tr><tr><td>0.68</td><td>0.9705882352941176</td><td>0.037711010939869616</td></tr><tr><td>0.6933333333333334</td><td>0.9705882352941176</td><td>0.03712120287009679</td></tr><tr><td>0.7066666666666667</td><td>0.9705882352941176</td><td>0.036224810635437366</td></tr><tr><td>0.72</td><td>0.9705882352941176</td><td>0.031677739970185415</td></tr><tr><td>0.7333333333333333</td><td>0.9705882352941176</td><td>0.02820911792812042</td></tr><tr><td>0.7466666666666667</td><td>0.9705882352941176</td><td>0.02661655367729021</td></tr><tr><td>0.76</td><td>0.9705882352941176</td><td>0.02492810340468321</td></tr><tr><td>0.7733333333333333</td><td>0.9705882352941176</td><td>0.02438658943598948</td></tr><tr><td>0.7866666666666666</td><td>0.9705882352941176</td><td>0.022005977107998898</td></tr><tr><td>0.7866666666666666</td><td>1.0</td><td>0.020898305646300797</td></tr><tr><td>0.8</td><td>1.0</td><td>0.019220213473274295</td></tr><tr><td>0.8133333333333334</td><td>1.0</td><td>0.017686731045400528</td></tr><tr><td>0.8266666666666667</td><td>1.0</td><td>0.015003735314516597</td></tr><tr><td>0.84</td><td>1.0</td><td>0.01495354362992829</td></tr><tr><td>0.8533333333333334</td><td>1.0</td><td>0.014495537851661577</td></tr><tr><td>0.8666666666666667</td><td>1.0</td><td>0.012162690077294647</td></tr><tr><td>0.88</td><td>1.0</td><td>0.011863088097803787</td></tr><tr><td>0.8933333333333333</td><td>1.0</td><td>0.010167677012233867</td></tr><tr><td>0.9066666666666666</td><td>1.0</td><td>0.0095476225940625</td></tr><tr><td>0.92</td><td>1.0</td><td>0.009368910816085818</td></tr><tr><td>0.9333333333333333</td><td>1.0</td><td>0.009236405450224638</td></tr><tr><td>0.9466666666666667</td><td>1.0</td><td>0.008394160007303086</td></tr><tr><td>0.96</td><td>1.0</td><td>0.008042106951886119</td></tr><tr><td>0.9733333333333334</td><td>1.0</td><td>0.007671345999183954</td></tr><tr><td>0.9866666666666667</td><td>1.0</td><td>0.006522940651010001</td></tr><tr><td>1.0</td><td>1.0</td><td>0.004682639113924858</td></tr><tr><td>1.0</td><td>1.0</td><td>0.004682639113924858</td></tr></tbody></table></div>"
      ]
     },
     "metadata": {
      "application/vnd.databricks.v1+output": {
       "addedWidgets": {},
       "aggData": [],
       "aggError": "",
       "aggOverflow": false,
       "aggSchema": [],
       "aggSeriesLimitReached": false,
       "aggType": "",
       "arguments": {},
       "columnCustomDisplayInfos": {},
       "data": [
        [
         0,
         0,
         0.8328895166451664
        ],
        [
         0,
         0.029411764705882353,
         0.8328895166451664
        ],
        [
         0,
         0.058823529411764705,
         0.8208970659486171
        ],
        [
         0,
         0.08823529411764706,
         0.8027985511298473
        ],
        [
         0.013333333333333334,
         0.08823529411764706,
         0.7671391662834024
        ],
        [
         0.013333333333333334,
         0.11764705882352941,
         0.7420237776049148
        ],
        [
         0.02666666666666667,
         0.11764705882352941,
         0.7415030877851138
        ],
        [
         0.02666666666666667,
         0.14705882352941177,
         0.7372651525253646
        ],
        [
         0.04,
         0.14705882352941177,
         0.7273512680662639
        ],
        [
         0.04,
         0.17647058823529413,
         0.7182733442748295
        ],
        [
         0.04,
         0.20588235294117646,
         0.7175747784801831
        ],
        [
         0.04,
         0.23529411764705882,
         0.7118663671581701
        ],
        [
         0.04,
         0.2647058823529412,
         0.7033122855896821
        ],
        [
         0.04,
         0.29411764705882354,
         0.6886464338541486
        ],
        [
         0.04,
         0.3235294117647059,
         0.677043157636869
        ],
        [
         0.05333333333333334,
         0.3235294117647059,
         0.6660533889019828
        ],
        [
         0.06666666666666667,
         0.3235294117647059,
         0.6465686100952766
        ],
        [
         0.06666666666666667,
         0.35294117647058826,
         0.6413478620308075
        ],
        [
         0.08,
         0.35294117647058826,
         0.6117461319611452
        ],
        [
         0.08,
         0.38235294117647056,
         0.6080593438447957
        ],
        [
         0.08,
         0.4117647058823529,
         0.6049315501668707
        ],
        [
         0.08,
         0.4411764705882353,
         0.5362022617774413
        ],
        [
         0.09333333333333334,
         0.4411764705882353,
         0.5303375346663293
        ],
        [
         0.09333333333333334,
         0.47058823529411764,
         0.5136573152014798
        ],
        [
         0.10666666666666667,
         0.47058823529411764,
         0.5126786064072661
        ],
        [
         0.10666666666666667,
         0.5,
         0.5036169676121405
        ],
        [
         0.12,
         0.5,
         0.4982496339663023
        ],
        [
         0.12,
         0.5294117647058824,
         0.48073344580807476
        ],
        [
         0.12,
         0.5588235294117647,
         0.47838059831319724
        ],
        [
         0.12,
         0.5882352941176471,
         0.46137576892623766
        ],
        [
         0.12,
         0.6176470588235294,
         0.4575303548074817
        ],
        [
         0.12,
         0.6470588235294118,
         0.4512451665633317
        ],
        [
         0.13333333333333333,
         0.6470588235294118,
         0.4293161395492153
        ],
        [
         0.13333333333333333,
         0.6764705882352942,
         0.40475914637917443
        ],
        [
         0.13333333333333333,
         0.7058823529411765,
         0.3975904095060723
        ],
        [
         0.14666666666666667,
         0.7058823529411765,
         0.38251593695774566
        ],
        [
         0.14666666666666667,
         0.7352941176470589,
         0.35852193212906036
        ],
        [
         0.16,
         0.7352941176470589,
         0.3521807547085404
        ],
        [
         0.16,
         0.7647058823529411,
         0.34738447468125244
        ],
        [
         0.17333333333333334,
         0.7647058823529411,
         0.3193790221446611
        ],
        [
         0.17333333333333334,
         0.7941176470588235,
         0.3122612138473423
        ],
        [
         0.17333333333333334,
         0.8235294117647058,
         0.3075355097832684
        ],
        [
         0.17333333333333334,
         0.8529411764705882,
         0.2785513935660797
        ],
        [
         0.18666666666666668,
         0.8529411764705882,
         0.27018960766600053
        ],
        [
         0.2,
         0.8529411764705882,
         0.251342505563514
        ],
        [
         0.21333333333333335,
         0.8529411764705882,
         0.24852589163469185
        ],
        [
         0.22666666666666666,
         0.8529411764705882,
         0.22910520626538045
        ],
        [
         0.24,
         0.8529411764705882,
         0.22627160962596737
        ],
        [
         0.24,
         0.8823529411764706,
         0.21596203020046745
        ],
        [
         0.24,
         0.9117647058823529,
         0.20335200767025408
        ],
        [
         0.25333333333333335,
         0.9117647058823529,
         0.19182641499252906
        ],
        [
         0.26666666666666666,
         0.9117647058823529,
         0.18515165046521975
        ],
        [
         0.28,
         0.9117647058823529,
         0.18192739572967442
        ],
        [
         0.28,
         0.9411764705882353,
         0.17924568427014942
        ],
        [
         0.29333333333333333,
         0.9411764705882353,
         0.17442186524195913
        ],
        [
         0.30666666666666664,
         0.9411764705882353,
         0.16542083211886438
        ],
        [
         0.32,
         0.9411764705882353,
         0.15879803491687527
        ],
        [
         0.32,
         0.9705882352941176,
         0.1376278276504036
        ],
        [
         0.3333333333333333,
         0.9705882352941176,
         0.13583289419892175
        ],
        [
         0.3466666666666667,
         0.9705882352941176,
         0.12503724322098886
        ],
        [
         0.36,
         0.9705882352941176,
         0.124255266204645
        ],
        [
         0.37333333333333335,
         0.9705882352941176,
         0.12253022070332065
        ],
        [
         0.38666666666666666,
         0.9705882352941176,
         0.11943225660801071
        ],
        [
         0.4,
         0.9705882352941176,
         0.11849943712164934
        ],
        [
         0.41333333333333333,
         0.9705882352941176,
         0.11601501139163517
        ],
        [
         0.4266666666666667,
         0.9705882352941176,
         0.1151201485346185
        ],
        [
         0.44,
         0.9705882352941176,
         0.1111657457567703
        ],
        [
         0.4533333333333333,
         0.9705882352941176,
         0.09394974954958046
        ],
        [
         0.4666666666666667,
         0.9705882352941176,
         0.09124802351056105
        ],
        [
         0.48,
         0.9705882352941176,
         0.08122263123378248
        ],
        [
         0.49333333333333335,
         0.9705882352941176,
         0.07832555388203366
        ],
        [
         0.5066666666666667,
         0.9705882352941176,
         0.07781526088121904
        ],
        [
         0.52,
         0.9705882352941176,
         0.07182070297569332
        ],
        [
         0.5333333333333333,
         0.9705882352941176,
         0.06996011280947767
        ],
        [
         0.5466666666666666,
         0.9705882352941176,
         0.06799563066124226
        ],
        [
         0.56,
         0.9705882352941176,
         0.06413343188361886
        ],
        [
         0.5733333333333334,
         0.9705882352941176,
         0.04992442119053064
        ],
        [
         0.5866666666666667,
         0.9705882352941176,
         0.04931307437771837
        ],
        [
         0.6,
         0.9705882352941176,
         0.045950910379483845
        ],
        [
         0.6133333333333333,
         0.9705882352941176,
         0.04294671239164116
        ],
        [
         0.6266666666666667,
         0.9705882352941176,
         0.0413080215233963
        ],
        [
         0.64,
         0.9705882352941176,
         0.041263981236131064
        ],
        [
         0.6533333333333333,
         0.9705882352941176,
         0.0405973130378281
        ],
        [
         0.6666666666666666,
         0.9705882352941176,
         0.0404328318354793
        ],
        [
         0.68,
         0.9705882352941176,
         0.037711010939869616
        ],
        [
         0.6933333333333334,
         0.9705882352941176,
         0.03712120287009679
        ],
        [
         0.7066666666666667,
         0.9705882352941176,
         0.036224810635437366
        ],
        [
         0.72,
         0.9705882352941176,
         0.031677739970185415
        ],
        [
         0.7333333333333333,
         0.9705882352941176,
         0.02820911792812042
        ],
        [
         0.7466666666666667,
         0.9705882352941176,
         0.02661655367729021
        ],
        [
         0.76,
         0.9705882352941176,
         0.02492810340468321
        ],
        [
         0.7733333333333333,
         0.9705882352941176,
         0.02438658943598948
        ],
        [
         0.7866666666666666,
         0.9705882352941176,
         0.022005977107998898
        ],
        [
         0.7866666666666666,
         1,
         0.020898305646300797
        ],
        [
         0.8,
         1,
         0.019220213473274295
        ],
        [
         0.8133333333333334,
         1,
         0.017686731045400528
        ],
        [
         0.8266666666666667,
         1,
         0.015003735314516597
        ],
        [
         0.84,
         1,
         0.01495354362992829
        ],
        [
         0.8533333333333334,
         1,
         0.014495537851661577
        ],
        [
         0.8666666666666667,
         1,
         0.012162690077294647
        ],
        [
         0.88,
         1,
         0.011863088097803787
        ],
        [
         0.8933333333333333,
         1,
         0.010167677012233867
        ],
        [
         0.9066666666666666,
         1,
         0.0095476225940625
        ],
        [
         0.92,
         1,
         0.009368910816085818
        ],
        [
         0.9333333333333333,
         1,
         0.009236405450224638
        ],
        [
         0.9466666666666667,
         1,
         0.008394160007303086
        ],
        [
         0.96,
         1,
         0.008042106951886119
        ],
        [
         0.9733333333333334,
         1,
         0.007671345999183954
        ],
        [
         0.9866666666666667,
         1,
         0.006522940651010001
        ],
        [
         1,
         1,
         0.004682639113924858
        ],
        [
         1,
         1,
         0.004682639113924858
        ]
       ],
       "datasetInfos": [],
       "dbfsResultPath": null,
       "isJsonSchema": true,
       "metadata": {},
       "overflow": false,
       "plotOptions": {
        "customPlotOptions": {},
        "displayType": "ROC",
        "pivotAggregation": null,
        "pivotColumns": null,
        "xColumns": [],
        "yColumns": [
         "False Positive Rate",
         "True Positive Rate",
         "Threshold"
        ]
       },
       "removedWidgets": [],
       "schema": [
        {
         "metadata": "{}",
         "name": "False Positive Rate",
         "type": "\"double\""
        },
        {
         "metadata": "{}",
         "name": "True Positive Rate",
         "type": "\"double\""
        },
        {
         "metadata": "{}",
         "name": "Threshold",
         "type": "\"double\""
        }
       ],
       "type": "table"
      }
     },
     "output_type": "display_data"
    }
   ],
   "source": [
    "display(lrModel,trainprepDF,\"ROC\")"
   ]
  },
  {
   "cell_type": "code",
   "execution_count": 0,
   "metadata": {
    "application/vnd.databricks.v1+cell": {
     "inputWidgets": {},
     "nuid": "30ff2b4d-1623-48df-9039-8b38c1bfc2c5",
     "showTitle": false,
     "title": ""
    }
   },
   "outputs": [
    {
     "data": {
      "text/html": [
       "<style scoped>\n",
       "  .table-result-container {\n",
       "    max-height: 300px;\n",
       "    overflow: auto;\n",
       "  }\n",
       "  table, th, td {\n",
       "    border: 1px solid black;\n",
       "    border-collapse: collapse;\n",
       "  }\n",
       "  th, td {\n",
       "    padding: 5px;\n",
       "  }\n",
       "  th {\n",
       "    text-align: left;\n",
       "  }\n",
       "</style><div class='table-result-container'><table class='table-result'><thead style='background-color: white'><tr><th>fitted values</th><th>residuals</th></tr></thead><tbody><tr><td>-0.6094671634962856</td><td>-0.3521807547085404</td></tr><tr><td>1.4038780227962901</td><td>0.19720144887015267</td></tr><tr><td>-0.7895690331474514</td><td>0.6877387861526577</td></tr><tr><td>-0.3856739297353774</td><td>0.5952408536208256</td></tr><tr><td>0.05072529941752546</td><td>-0.5126786064072661</td></tr><tr><td>0.014468122823499185</td><td>0.4963830323878595</td></tr><tr><td>-2.078888484854187</td><td>-0.1111657457567703</td></tr><tr><td>-4.814989552308117</td><td>-0.008042106951886119</td></tr><tr><td>-0.8116663995320116</td><td>0.6924644902167316</td></tr><tr><td>-4.862562268057711</td><td>-0.007671345999183954</td></tr><tr><td>-2.9460312524167556</td><td>-0.04992442119053064</td></tr><tr><td>1.0537955769438418</td><td>-0.7415030877851138</td></tr><tr><td>-1.8351337910666865</td><td>0.8623721723495964</td></tr><tr><td>-3.033141465750731</td><td>-0.045950910379483845</td></tr><tr><td>1.5224370340303583</td><td>0.1791029340513829</td></tr><tr><td>-4.578321789804291</td><td>-0.010167677012233867</td></tr><tr><td>-1.5546070326041321</td><td>-0.17442186524195913</td></tr><tr><td>-2.2663347085064296</td><td>-0.09394974954958046</td></tr><tr><td>-1.1064897235284512</td><td>-0.24852589163469185</td></tr><tr><td>-3.1626090066500665</td><td>-0.0405973130378281</td></tr><tr><td>-4.771789462773918</td><td>-0.008394160007303086</td></tr><tr><td>0.4260562708051526</td><td>0.3950684498331293</td></tr><tr><td>-0.0771043934352158</td><td>0.5192665541919252</td></tr><tr><td>-4.397144942585336</td><td>-0.012162690077294647</td></tr><tr><td>-4.641869605163816</td><td>-0.0095476225940625</td></tr><tr><td>-4.184338657898011</td><td>-0.015003735314516597</td></tr><tr><td>-4.675323164022797</td><td>-0.009236405450224638</td></tr><tr><td>0.9044658317781441</td><td>0.2881336328418299</td></tr><tr><td>0.9812252651566266</td><td>-0.7273512680662639</td></tr><tr><td>-2.2984908717295736</td><td>-0.09124802351056105</td></tr><tr><td>-0.9516585647389678</td><td>0.7214486064339203</td></tr><tr><td>-0.08653155995746542</td><td>0.5216194016868028</td></tr><tr><td>-2.4653181574870047</td><td>-0.07832555388203366</td></tr><tr><td>-0.41551524330268086</td><td>0.6024095904939277</td></tr><tr><td>0.9324633501195979</td><td>0.28242522151981686</td></tr><tr><td>0.4391620412399287</td><td>0.39194065615520435</td></tr><tr><td>1.606245829645034</td><td>0.16711048335483358</td></tr><tr><td>0.7937988458212071</td><td>0.3113535661458514</td></tr><tr><td>-3.5394953829443954</td><td>-0.02820911792812042</td></tr><tr><td>-1.945569683077439</td><td>-0.12503724322098886</td></tr><tr><td>-2.425849921105733</td><td>-0.08122263123378248</td></tr><tr><td>-3.689033044285567</td><td>-0.02438658943598948</td></tr><tr><td>-0.2846418273138529</td><td>-0.4293161395492153</td></tr><tr><td>-3.103898971347813</td><td>-0.04294671239164116</td></tr><tr><td>-1.5033434080176504</td><td>-0.18192739572967442</td></tr><tr><td>-0.5817851589943064</td><td>0.6414780678709396</td></tr><tr><td>-1.6671986057156791</td><td>-0.15879803491687527</td></tr><tr><td>-3.7941894552683877</td><td>-0.022005977107998898</td></tr><tr><td>-0.19564097406290326</td><td>0.5487548334366683</td></tr><tr><td>-0.9936608007256874</td><td>-0.27018960766600053</td></tr><tr><td>0.12149938385929204</td><td>-0.5303375346663293</td></tr><tr><td>-1.5214664120498766</td><td>0.8207543157298506</td></tr><tr><td>-3.666515390563252</td><td>-0.02492810340468321</td></tr><tr><td>0.8631208926604114</td><td>0.29668771441031794</td></tr><tr><td>-0.6305560110505446</td><td>0.6526155253187476</td></tr><tr><td>-5.359199777745401</td><td>-0.004682639113924858</td></tr><tr><td>-3.5992447502940568</td><td>-0.02661655367729021</td></tr><tr><td>-2.5873022120452616</td><td>-0.06996011280947767</td></tr><tr><td>0.7402163199156695</td><td>0.32295684236313105</td></tr><tr><td>1.1922272323232685</td><td>-0.7671391662834024</td></tr><tr><td>-2.559052145352885</td><td>-0.07182070297569332</td></tr><tr><td>0.6903886976560765</td><td>-0.6660533889019828</td></tr><tr><td>-0.4788829416829975</td><td>-0.38251593695774566</td></tr><tr><td>-2.006717429848151</td><td>-0.11849943712164934</td></tr><tr><td>1.0318022611374928</td><td>0.2627348474746354</td></tr><tr><td>0.05464285298850058</td><td>0.48634268479852016</td></tr><tr><td>0.6039899394832885</td><td>-0.6465686100952766</td></tr><tr><td>-1.481826800210683</td><td>-0.18515165046521975</td></tr><tr><td>-3.1668401921704104</td><td>-0.0404328318354793</td></tr><tr><td>-2.617894054676381</td><td>-0.06799563066124226</td></tr><tr><td>-3.2393626908006</td><td>-0.037711010939869616</td></tr><tr><td>-1.0914650221762008</td><td>-0.251342505563514</td></tr><tr><td>-4.422389524028807</td><td>-0.011863088097803787</td></tr><tr><td>-1.9686848160206438</td><td>-0.12253022070332065</td></tr><tr><td>-3.1456257753879644</td><td>-0.041263981236131064</td></tr><tr><td>-1.4381859938652153</td><td>-0.19182641499252906</td></tr><tr><td>-4.017095568643196</td><td>-0.017686731045400528</td></tr><tr><td>-1.9527366006748657</td><td>-0.124255266204645</td></tr><tr><td>-1.2294848049965819</td><td>-0.22627160962596737</td></tr><tr><td>-3.932385445489696</td><td>-0.019220213473274295</td></tr><tr><td>1.0565138685284357</td><td>0.2579762223950852</td></tr><tr><td>-1.618434882652171</td><td>-0.16542083211886438</td></tr><tr><td>-1.213370595891445</td><td>-0.22910520626538045</td></tr><tr><td>0.5812190524828076</td><td>0.3586521379691925</td></tr><tr><td>-3.2811138006224896</td><td>-0.036224810635437366</td></tr><tr><td>-2.472408004059429</td><td>-0.07781526088121904</td></tr><tr><td>-3.4199507200506973</td><td>-0.031677739970185415</td></tr><tr><td>-1.8503407484786314</td><td>-0.13583289419892175</td></tr><tr><td>-2.680507124675205</td><td>-0.06413343188361886</td></tr><tr><td>-3.255739231900345</td><td>-0.03712120287009679</td></tr><tr><td>-0.17028889846644824</td><td>0.5424696451925183</td></tr><tr><td>-3.1445131261082797</td><td>-0.0413080215233963</td></tr><tr><td>0.9359129040139023</td><td>0.2817266557251705</td></tr><tr><td>-4.187740500036143</td><td>-0.01495354362992829</td></tr><tr><td>-1.9978175420705835</td><td>-0.11943225660801071</td></tr><tr><td>-4.21931278668556</td><td>-0.014495537851661577</td></tr><tr><td>-3.8469674267506635</td><td>0.9791016943536992</td></tr><tr><td>-1.3654744101090643</td><td>0.7966479923297459</td></tr><tr><td>-5.025885676631322</td><td>-0.006522940651010001</td></tr><tr><td>-0.7566270295046607</td><td>-0.3193790221446611</td></tr><tr><td>-1.2893548439213929</td><td>0.7840379697995326</td></tr><tr><td>-2.039475521898196</td><td>-0.1151201485346185</td></tr><tr><td>0.45465795466280307</td><td>-0.6117461319611452</td></tr><tr><td>-2.0307204899988243</td><td>-0.11601501139163517</td></tr><tr><td>0.14506289576585407</td><td>0.46379773822255865</td></tr><tr><td>-0.1548053404166081</td><td>0.5386242310737623</td></tr><tr><td>-4.660945355976303</td><td>-0.009368910816085818</td></tr><tr><td>-2.9589955566522392</td><td>-0.04931307437771837</td></tr><tr><td>-0.007001492736273929</td><td>-0.4982496339663023</td></tr></tbody></table></div>"
      ]
     },
     "metadata": {
      "application/vnd.databricks.v1+output": {
       "addedWidgets": {},
       "aggData": [],
       "aggError": "",
       "aggOverflow": false,
       "aggSchema": [],
       "aggSeriesLimitReached": false,
       "aggType": "",
       "arguments": {},
       "columnCustomDisplayInfos": {},
       "data": [
        [
         -0.6094671634962856,
         -0.3521807547085404
        ],
        [
         1.4038780227962901,
         0.19720144887015267
        ],
        [
         -0.7895690331474514,
         0.6877387861526577
        ],
        [
         -0.3856739297353774,
         0.5952408536208256
        ],
        [
         0.05072529941752546,
         -0.5126786064072661
        ],
        [
         0.014468122823499185,
         0.4963830323878595
        ],
        [
         -2.078888484854187,
         -0.1111657457567703
        ],
        [
         -4.814989552308117,
         -0.008042106951886119
        ],
        [
         -0.8116663995320116,
         0.6924644902167316
        ],
        [
         -4.862562268057711,
         -0.007671345999183954
        ],
        [
         -2.9460312524167556,
         -0.04992442119053064
        ],
        [
         1.0537955769438418,
         -0.7415030877851138
        ],
        [
         -1.8351337910666865,
         0.8623721723495964
        ],
        [
         -3.033141465750731,
         -0.045950910379483845
        ],
        [
         1.5224370340303583,
         0.1791029340513829
        ],
        [
         -4.578321789804291,
         -0.010167677012233867
        ],
        [
         -1.5546070326041321,
         -0.17442186524195913
        ],
        [
         -2.2663347085064296,
         -0.09394974954958046
        ],
        [
         -1.1064897235284512,
         -0.24852589163469185
        ],
        [
         -3.1626090066500665,
         -0.0405973130378281
        ],
        [
         -4.771789462773918,
         -0.008394160007303086
        ],
        [
         0.4260562708051526,
         0.3950684498331293
        ],
        [
         -0.0771043934352158,
         0.5192665541919252
        ],
        [
         -4.397144942585336,
         -0.012162690077294647
        ],
        [
         -4.641869605163816,
         -0.0095476225940625
        ],
        [
         -4.184338657898011,
         -0.015003735314516597
        ],
        [
         -4.675323164022797,
         -0.009236405450224638
        ],
        [
         0.9044658317781441,
         0.2881336328418299
        ],
        [
         0.9812252651566266,
         -0.7273512680662639
        ],
        [
         -2.2984908717295736,
         -0.09124802351056105
        ],
        [
         -0.9516585647389678,
         0.7214486064339203
        ],
        [
         -0.08653155995746542,
         0.5216194016868028
        ],
        [
         -2.4653181574870047,
         -0.07832555388203366
        ],
        [
         -0.41551524330268086,
         0.6024095904939277
        ],
        [
         0.9324633501195979,
         0.28242522151981686
        ],
        [
         0.4391620412399287,
         0.39194065615520435
        ],
        [
         1.606245829645034,
         0.16711048335483358
        ],
        [
         0.7937988458212071,
         0.3113535661458514
        ],
        [
         -3.5394953829443954,
         -0.02820911792812042
        ],
        [
         -1.945569683077439,
         -0.12503724322098886
        ],
        [
         -2.425849921105733,
         -0.08122263123378248
        ],
        [
         -3.689033044285567,
         -0.02438658943598948
        ],
        [
         -0.2846418273138529,
         -0.4293161395492153
        ],
        [
         -3.103898971347813,
         -0.04294671239164116
        ],
        [
         -1.5033434080176504,
         -0.18192739572967442
        ],
        [
         -0.5817851589943064,
         0.6414780678709396
        ],
        [
         -1.6671986057156791,
         -0.15879803491687527
        ],
        [
         -3.7941894552683877,
         -0.022005977107998898
        ],
        [
         -0.19564097406290326,
         0.5487548334366683
        ],
        [
         -0.9936608007256874,
         -0.27018960766600053
        ],
        [
         0.12149938385929204,
         -0.5303375346663293
        ],
        [
         -1.5214664120498766,
         0.8207543157298506
        ],
        [
         -3.666515390563252,
         -0.02492810340468321
        ],
        [
         0.8631208926604114,
         0.29668771441031794
        ],
        [
         -0.6305560110505446,
         0.6526155253187476
        ],
        [
         -5.359199777745401,
         -0.004682639113924858
        ],
        [
         -3.5992447502940568,
         -0.02661655367729021
        ],
        [
         -2.5873022120452616,
         -0.06996011280947767
        ],
        [
         0.7402163199156695,
         0.32295684236313105
        ],
        [
         1.1922272323232685,
         -0.7671391662834024
        ],
        [
         -2.559052145352885,
         -0.07182070297569332
        ],
        [
         0.6903886976560765,
         -0.6660533889019828
        ],
        [
         -0.4788829416829975,
         -0.38251593695774566
        ],
        [
         -2.006717429848151,
         -0.11849943712164934
        ],
        [
         1.0318022611374928,
         0.2627348474746354
        ],
        [
         0.05464285298850058,
         0.48634268479852016
        ],
        [
         0.6039899394832885,
         -0.6465686100952766
        ],
        [
         -1.481826800210683,
         -0.18515165046521975
        ],
        [
         -3.1668401921704104,
         -0.0404328318354793
        ],
        [
         -2.617894054676381,
         -0.06799563066124226
        ],
        [
         -3.2393626908006,
         -0.037711010939869616
        ],
        [
         -1.0914650221762008,
         -0.251342505563514
        ],
        [
         -4.422389524028807,
         -0.011863088097803787
        ],
        [
         -1.9686848160206438,
         -0.12253022070332065
        ],
        [
         -3.1456257753879644,
         -0.041263981236131064
        ],
        [
         -1.4381859938652153,
         -0.19182641499252906
        ],
        [
         -4.017095568643196,
         -0.017686731045400528
        ],
        [
         -1.9527366006748657,
         -0.124255266204645
        ],
        [
         -1.2294848049965819,
         -0.22627160962596737
        ],
        [
         -3.932385445489696,
         -0.019220213473274295
        ],
        [
         1.0565138685284357,
         0.2579762223950852
        ],
        [
         -1.618434882652171,
         -0.16542083211886438
        ],
        [
         -1.213370595891445,
         -0.22910520626538045
        ],
        [
         0.5812190524828076,
         0.3586521379691925
        ],
        [
         -3.2811138006224896,
         -0.036224810635437366
        ],
        [
         -2.472408004059429,
         -0.07781526088121904
        ],
        [
         -3.4199507200506973,
         -0.031677739970185415
        ],
        [
         -1.8503407484786314,
         -0.13583289419892175
        ],
        [
         -2.680507124675205,
         -0.06413343188361886
        ],
        [
         -3.255739231900345,
         -0.03712120287009679
        ],
        [
         -0.17028889846644824,
         0.5424696451925183
        ],
        [
         -3.1445131261082797,
         -0.0413080215233963
        ],
        [
         0.9359129040139023,
         0.2817266557251705
        ],
        [
         -4.187740500036143,
         -0.01495354362992829
        ],
        [
         -1.9978175420705835,
         -0.11943225660801071
        ],
        [
         -4.21931278668556,
         -0.014495537851661577
        ],
        [
         -3.8469674267506635,
         0.9791016943536992
        ],
        [
         -1.3654744101090643,
         0.7966479923297459
        ],
        [
         -5.025885676631322,
         -0.006522940651010001
        ],
        [
         -0.7566270295046607,
         -0.3193790221446611
        ],
        [
         -1.2893548439213929,
         0.7840379697995326
        ],
        [
         -2.039475521898196,
         -0.1151201485346185
        ],
        [
         0.45465795466280307,
         -0.6117461319611452
        ],
        [
         -2.0307204899988243,
         -0.11601501139163517
        ],
        [
         0.14506289576585407,
         0.46379773822255865
        ],
        [
         -0.1548053404166081,
         0.5386242310737623
        ],
        [
         -4.660945355976303,
         -0.009368910816085818
        ],
        [
         -2.9589955566522392,
         -0.04931307437771837
        ],
        [
         -0.007001492736273929,
         -0.4982496339663023
        ]
       ],
       "datasetInfos": [],
       "dbfsResultPath": null,
       "isJsonSchema": true,
       "metadata": {},
       "overflow": false,
       "plotOptions": {
        "customPlotOptions": {},
        "displayType": "scatterPlot",
        "pivotAggregation": null,
        "pivotColumns": null,
        "xColumns": [],
        "yColumns": [
         "fitted values",
         "residuals"
        ]
       },
       "removedWidgets": [],
       "schema": [
        {
         "metadata": "{}",
         "name": "fitted values",
         "type": "\"double\""
        },
        {
         "metadata": "{}",
         "name": "residuals",
         "type": "\"double\""
        }
       ],
       "type": "table"
      }
     },
     "output_type": "display_data"
    }
   ],
   "source": [
    "display(lrModel,trainprepDF,\"fittedVsResiduals\")"
   ]
  },
  {
   "cell_type": "code",
   "execution_count": 0,
   "metadata": {
    "application/vnd.databricks.v1+cell": {
     "inputWidgets": {},
     "nuid": "dedbf486-f11c-4f76-9c45-fcebbcc200f1",
     "showTitle": false,
     "title": ""
    }
   },
   "outputs": [
    {
     "data": {
      "text/html": [
       "<style scoped>\n",
       "  .ansiout {\n",
       "    display: block;\n",
       "    unicode-bidi: embed;\n",
       "    white-space: pre-wrap;\n",
       "    word-wrap: break-word;\n",
       "    word-break: break-all;\n",
       "    font-family: \"Source Code Pro\", \"Menlo\", monospace;;\n",
       "    font-size: 13px;\n",
       "    color: #555;\n",
       "    margin-left: 4px;\n",
       "    line-height: 19px;\n",
       "  }\n",
       "</style>\n",
       "<div class=\"ansiout\">0.700129228377816\n",
       "Out[51]: &#39;areaUnderROC&#39;</div>"
      ]
     },
     "metadata": {
      "application/vnd.databricks.v1+output": {
       "addedWidgets": {},
       "arguments": {},
       "data": "<div class=\"ansiout\">0.700129228377816\nOut[51]: &#39;areaUnderROC&#39;</div>",
       "datasetInfos": [],
       "metadata": {},
       "removedWidgets": [],
       "type": "html"
      }
     },
     "output_type": "display_data"
    }
   ],
   "source": [
    "from pyspark.ml.evaluation import BinaryClassificationEvaluator\n",
    "predictions = lrModel.transform(testprepDF)\n",
    "evaluatorLR = BinaryClassificationEvaluator(rawPredictionCol=\"prediction\")\n",
    "area_under_curve = evaluatorLR.evaluate(predictions)\n",
    "print(area_under_curve)\n",
    "evaluatorLR.getMetricName()"
   ]
  },
  {
   "cell_type": "code",
   "execution_count": 0,
   "metadata": {
    "application/vnd.databricks.v1+cell": {
     "inputWidgets": {},
     "nuid": "9fb5e992-788b-4b36-ab52-eafdeb18e60c",
     "showTitle": false,
     "title": ""
    }
   },
   "outputs": [
    {
     "data": {
      "text/html": [
       "<style scoped>\n",
       "  .ansiout {\n",
       "    display: block;\n",
       "    unicode-bidi: embed;\n",
       "    white-space: pre-wrap;\n",
       "    word-wrap: break-word;\n",
       "    word-break: break-all;\n",
       "    font-family: \"Source Code Pro\", \"Menlo\", monospace;;\n",
       "    font-size: 13px;\n",
       "    color: #555;\n",
       "    margin-left: 4px;\n",
       "    line-height: 19px;\n",
       "  }\n",
       "</style>"
      ]
     },
     "metadata": {
      "application/vnd.databricks.v1+output": {
       "arguments": {},
       "data": "",
       "errorSummary": "",
       "metadata": {},
       "type": "ipynbError"
      }
     },
     "output_type": "display_data"
    }
   ],
   "source": []
  },
  {
   "cell_type": "code",
   "execution_count": 0,
   "metadata": {
    "application/vnd.databricks.v1+cell": {
     "inputWidgets": {},
     "nuid": "db9631f6-bb4a-42ca-8a3c-0d48af932331",
     "showTitle": false,
     "title": ""
    }
   },
   "outputs": [
    {
     "data": {
      "text/html": [
       "<style scoped>\n",
       "  .ansiout {\n",
       "    display: block;\n",
       "    unicode-bidi: embed;\n",
       "    white-space: pre-wrap;\n",
       "    word-wrap: break-word;\n",
       "    word-break: break-all;\n",
       "    font-family: \"Source Code Pro\", \"Menlo\", monospace;;\n",
       "    font-size: 13px;\n",
       "    color: #555;\n",
       "    margin-left: 4px;\n",
       "    line-height: 19px;\n",
       "  }\n",
       "</style>"
      ]
     },
     "metadata": {
      "application/vnd.databricks.v1+output": {
       "arguments": {},
       "data": "",
       "errorSummary": "",
       "metadata": {},
       "type": "ipynbError"
      }
     },
     "output_type": "display_data"
    }
   ],
   "source": [
    "# With this registered as a temp view, it will only be available to this particular notebook. If you'd like other users to be able to query this table, you can also create a table from the DataFrame.\n",
    "# Once saved, this table will persist across cluster restarts as well as allow various users across different notebooks to query this data.\n",
    "# To do so, choose your table name and uncomment the bottom line.\n",
    "\n",
    "permanent_table_name = \"WA_Fn_UseC__Telco_Customer_Churn_csv\"\n",
    "\n",
    "# df.write.format(\"parquet\").saveAsTable(permanent_table_name)"
   ]
  }
 ],
 "metadata": {
  "application/vnd.databricks.v1+notebook": {
   "dashboards": [],
   "language": "python",
   "notebookMetadata": {
    "pythonIndentUnit": 2
   },
   "notebookName": "Telcos-churn-analysis",
   "notebookOrigID": 2196936333007223,
   "widgets": {}
  },
  "kernelspec": {
   "display_name": "Python 3",
   "language": "python",
   "name": "python3"
  },
  "language_info": {
   "codemirror_mode": {
    "name": "ipython",
    "version": 3
   },
   "file_extension": ".py",
   "mimetype": "text/x-python",
   "name": "python",
   "nbconvert_exporter": "python",
   "pygments_lexer": "ipython3",
   "version": "3.8.5"
  }
 },
 "nbformat": 4,
 "nbformat_minor": 1
}
